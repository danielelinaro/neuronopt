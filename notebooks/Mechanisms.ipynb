{
 "cells": [
  {
   "cell_type": "code",
   "execution_count": null,
   "metadata": {},
   "outputs": [],
   "source": [
    "import numpy as np\n",
    "import matplotlib.pyplot as plt\n",
    "from mechanisms import *"
   ]
  },
  {
   "cell_type": "code",
   "execution_count": null,
   "metadata": {},
   "outputs": [],
   "source": [
    "# NaTa_t: transient sodium current, used in the axon\n",
    "# I = m^3 * h * (V-ENa)\n",
    "qt = 2.3 ** ((TEMPERATURE - 21.) / 10.)\n",
    "ma_NaTa_t = lambda v: (0.182 * (v- -38.))/(1.-(np.exp(-(v- -38.)/6.)))\n",
    "mb_NaTa_t = lambda v: (0.124 * (-v -38.))/(1.-(np.exp(-(-v -38.)/6.)))\n",
    "minf_NaTa_t = lambda v: ma_NaTa_t(v)/(ma_NaTa_t(v) + mb_NaTa_t(v))\n",
    "taum_NaTa_t = lambda v: (1/(ma_NaTa_t(v) + mb_NaTa_t(v)))/qt\n",
    "ha_NaTa_t = lambda v: (-0.015 * (v- -66.))/(1-(np.exp((v- -66.)/6.)))\n",
    "hb_NaTa_t = lambda v: (-0.015 * (-v -66.))/(1-(np.exp((-v -66.)/6.)))\n",
    "hinf_NaTa_t = lambda v: ha_NaTa_t(v)/(ha_NaTa_t(v) + hb_NaTa_t(v))\n",
    "tauh_NaTa_t = lambda v: (1/(ha_NaTa_t(v) + hb_NaTa_t(v)))/qt"
   ]
  },
  {
   "cell_type": "code",
   "execution_count": null,
   "metadata": {},
   "outputs": [],
   "source": [
    "# NaTs2_t: transient sodium current, used in the soma and in the apical dendrite\n",
    "# Identical dynamics as NaTa_t, but shifted by +6 mV\n",
    "# I = m^3 * h * (V-ENa)\n",
    "qt = 2.3 ** ((TEMPERATURE - 21.) / 10.)\n",
    "ma_NaTs2_t = lambda v: (0.182 * (v- -32.))/(1.-(np.exp(-(v- -32.)/6.)))\n",
    "mb_NaTs2_t = lambda v: (0.124 * (-v -32.))/(1.-(np.exp(-(-v -32.)/6.)))\n",
    "minf_NaTs2_t = lambda v: ma_NaTs2_t(v)/(ma_NaTs2_t(v) + mb_NaTs2_t(v))\n",
    "taum_NaTs2_t = lambda v: (1/(ma_NaTs2_t(v) + mb_NaTs2_t(v)))/qt\n",
    "ha_NaTs2_t = lambda v: (-0.015 * (v- -60.))/(1-(np.exp((v- -60.)/6.)))\n",
    "hb_NaTs2_t = lambda v: (-0.015 * (-v -60.))/(1-(np.exp((-v -60.)/6.)))\n",
    "hinf_NaTs2_t = lambda v: ha_NaTs2_t(v)/(ha_NaTs2_t(v) + hb_NaTs2_t(v))\n",
    "tauh_NaTs2_t = lambda v: (1/(ha_NaTs2_t(v) + hb_NaTs2_t(v)))/qt"
   ]
  },
  {
   "cell_type": "code",
   "execution_count": null,
   "metadata": {},
   "outputs": [],
   "source": [
    "# Nap_Et2: persistent sodium current, used in the axon\n",
    "# Identical dynamics as NaTa_t, but time constants are 6x larger\n",
    "# I = m^3 * h * (V-ENa)\n",
    "qt = 2.3 ** ((TEMPERATURE - 21.) / 10.)\n",
    "ma_Nap_Et2 = lambda v: (0.182 * (v- -38.))/(1.-(np.exp(-(v- -38.)/6.)))\n",
    "mb_Nap_Et2 = lambda v: (0.124 * (-v -38.))/(1.-(np.exp(-(-v -38.)/6.)))\n",
    "minf_Nap_Et2 = lambda v: ma_Nap_Et2(v)/(ma_Nap_Et2(v) + mb_Nap_Et2(v))\n",
    "taum_Nap_Et2 = lambda v: 6 * (1/(ma_Nap_Et2(v) + mb_Nap_Et2(v)))/qt\n",
    "ha_Nap_Et2 = lambda v: (-0.015 * (v- -66.))/(1-(np.exp((v- -66.)/6.)))\n",
    "hb_Nap_Et2 = lambda v: (-0.015 * (-v -66.))/(1-(np.exp((-v -66.)/6.)))\n",
    "hinf_Nap_Et2 = lambda v: ha_Nap_Et2(v)/(ha_Nap_Et2(v) + hb_Nap_Et2(v))\n",
    "tauh_Nap_Et2 = lambda v: 6 * (1/(ha_Nap_Et2(v) + hb_Nap_Et2(v)))/qt"
   ]
  },
  {
   "cell_type": "code",
   "execution_count": null,
   "metadata": {},
   "outputs": [],
   "source": [
    "# K_Tst: transient potassium current, used in the axon\n",
    "# I = m^4 * h * (V-EK)\n",
    "# shifted -10 mV to correct for junction potential\n",
    "qt = 2.3 ** ((TEMPERATURE - 21.) / 10.)\n",
    "minf_K_Tst = lambda v: 1/(1 + np.exp(-((v+10)+0)/19))\n",
    "taum_K_Tst = lambda v: (0.34+0.92*np.exp(-(((v+10)+71)/59)**2))/qt\n",
    "hinf_K_Tst = lambda v: 1/(1 + np.exp(-((v+10)+66)/-10))\n",
    "tauh_K_Tst = lambda v: (8+49*np.exp(-(((v+10)+73)/23)**2))/qt"
   ]
  },
  {
   "cell_type": "code",
   "execution_count": null,
   "metadata": {},
   "outputs": [],
   "source": [
    "# K_Pst: persistent potassium current, used in the axon\n",
    "# I = m^2 * h * (V-EK)\n",
    "# shifted -10 mV to correct for junction potential\n",
    "qt = 2.3 ** ((TEMPERATURE - 21.) / 10.)\n",
    "minf_K_Pst = lambda v: (1/(1 + np.exp(-((v+10)+1)/12)))\n",
    "def taum_K_Pst(v):\n",
    "    idx, = np.where((v+10) < -50)\n",
    "    jdx, = np.where((v+10) >= -50)\n",
    "    taum = np.zeros(v.shape)\n",
    "    taum[idx] = (1.25 + 175.03 * np.exp(-(v[idx]+10) * -0.026)) / qt\n",
    "    taum[jdx] = (1.25 + 13 * np.exp(-(v[jdx]+10) * 0.026)) / qt\n",
    "    return taum\n",
    "hinf_K_Pst = lambda v: 1/(1 + np.exp(-((v+10)+54)/-11))\n",
    "tauh_K_Pst = lambda v: (360+(1010+24*((v+10)+55))*np.exp(-(((v+10)+75)/48)**2))/qt"
   ]
  },
  {
   "cell_type": "code",
   "execution_count": null,
   "metadata": {},
   "outputs": [],
   "source": [
    "# SKv3_1: Shaw-related potassium channel, used in the soma, axon and apical dendrite\n",
    "# I = gbar * m * (V-EK)\n",
    "minf_SKv3_1 = lambda v: 1. / (1.+np.exp(((v -(18.7))/(-9.7))))\n",
    "taum_SKv3_1 = lambda v: 0.2*20./(1+np.exp(((v -(-46.56))/(-44.14))))"
   ]
  },
  {
   "cell_type": "code",
   "execution_count": null,
   "metadata": {},
   "outputs": [],
   "source": [
    "# Im: muscarinic potassium current, used in the apical dendrite\n",
    "# I = gbar * m * (V-EK)\n",
    "qt = 2.3 ** ((TEMPERATURE - 21.) / 10.)\n",
    "ma_Im = lambda v: 3.3e-3*np.exp(2.5*0.04*(v - -35.))\n",
    "mb_Im = lambda v: 3.3e-3*np.exp(-2.5*0.04*(v - -35.))\n",
    "minf_Im = lambda v: ma_Im(v)/(ma_Im(v) + mb_Im(v))\n",
    "taum_Im = lambda v: (1./(ma_Im(v) + mb_Im(v)))/qt                            "
   ]
  },
  {
   "cell_type": "code",
   "execution_count": null,
   "metadata": {},
   "outputs": [],
   "source": [
    "# SK_E2: calcium-activated potassium current, used in the soma and in the axon\n",
    "# I = gbar * z * (V-EK)\n",
    "tauz_SK_E2 = lambda ca: ca/ca # = 1 [ms]\n",
    "zinf_SK_E2 = lambda ca: 1. /(1. + (0.00043 / ca)**4.8)"
   ]
  },
  {
   "cell_type": "code",
   "execution_count": null,
   "metadata": {},
   "outputs": [],
   "source": [
    "# Ih: hyperpolarization-activated cation current, used in the soma and dendrites\n",
    "# I = gbar * m * (V+45)\n",
    "ma_Ih = lambda v: 0.001*6.43*(v+154.9)/(np.exp((v+154.9)/11.9)-1.)\n",
    "mb_Ih = lambda v: 0.001*193*np.exp(v/33.1)\n",
    "minf_Ih = lambda v: ma_Ih(v)/(ma_Ih(v) + mb_Ih(v))\n",
    "taum_Ih = lambda v: 1./(ma_Ih(v) + mb_Ih(v))"
   ]
  },
  {
   "cell_type": "code",
   "execution_count": null,
   "metadata": {},
   "outputs": [],
   "source": [
    "# Ca_HVA: high-threshold calcium current, used in the soma, axon and apical dendrite\n",
    "# I = m^2 * h * (V-ECa)\n",
    "ma_Ca_HVA = lambda v: (0.055*(-27-v))/(np.exp((-27-v)/3.8) - 1)        \n",
    "mb_Ca_HVA = lambda v: (0.94*np.exp((-75-v)/17))\n",
    "minf_Ca_HVA = lambda v: ma_Ca_HVA(v) / (ma_Ca_HVA(v) + mb_Ca_HVA(v))\n",
    "taum_Ca_HVA = lambda v: 1. / (ma_Ca_HVA(v) + mb_Ca_HVA(v))\n",
    "ha_Ca_HVA = lambda v: (0.000457*np.exp((-13-v)/50))\n",
    "hb_Ca_HVA = lambda v: (0.0065/(np.exp((-v-15)/28)+1))\n",
    "hinf_Ca_HVA = lambda v: ha_Ca_HVA(v) / (ha_Ca_HVA(v) + hb_Ca_HVA(v))\n",
    "tauh_Ca_HVA = lambda v: 1 / (ha_Ca_HVA(v) + hb_Ca_HVA(v))"
   ]
  },
  {
   "cell_type": "code",
   "execution_count": null,
   "metadata": {},
   "outputs": [],
   "source": [
    "# Ca_LVA: low-threshold calcium current, used in the soma, axon and apical dendrite\n",
    "# I = m^2 * h * (V-ECa)\n",
    "# shifted -10 mV to correct for junction potential\n",
    "qt = 2.3 ** ((TEMPERATURE - 21.) / 10.)\n",
    "minf_Ca_LVA = lambda v: 1 / (1 + np.exp((v - -30)/-6))\n",
    "taum_Ca_LVA = lambda v: (5 + 20/(1 + np.exp((v - -25)/5))) / qt\n",
    "hinf_Ca_LVA = lambda v: 1/(1 + np.exp((v - -80)/6.4))\n",
    "tauh_Ca_LVA = lambda v: (20 + 50/(1 + np.exp((v - -40)/7))) / qt"
   ]
  },
  {
   "cell_type": "markdown",
   "metadata": {},
   "source": [
    "### Sodium currents"
   ]
  },
  {
   "cell_type": "code",
   "execution_count": null,
   "metadata": {},
   "outputs": [],
   "source": [
    "fig,ax = plt.subplots(2, 1, sharex=True, figsize=(8,7))\n",
    "plot_var(minf_NaTa_t, taum_NaTa_t, ax, col=[0,0,0], label='NaTa_t m')\n",
    "plot_var(hinf_NaTa_t, tauh_NaTa_t, ax, col=[.7,0,0], label='NaTa_t h')\n",
    "plot_var(minf_NaTs2_t, taum_NaTs2_t, ax, col=[.7,.7,.7], label='NaTs2_t m')\n",
    "plot_var(hinf_NaTs2_t, tauh_NaTs2_t, ax, col=[1,.7,.7], label='NaTs2_t h')\n",
    "plot_var(minf_Nap_Et2, taum_Nap_Et2, ax, col=[1,0,.7], label='Nap_Et2 m')\n",
    "plot_var(hinf_Nap_Et2, tauh_Nap_Et2, ax, col=[0,.7,0], label='Nap_Et2 h')"
   ]
  },
  {
   "cell_type": "markdown",
   "metadata": {},
   "source": [
    "### Potassium currents"
   ]
  },
  {
   "cell_type": "code",
   "execution_count": null,
   "metadata": {},
   "outputs": [],
   "source": [
    "fig,ax = plt.subplots(2, 1, sharex=True, figsize=(8,7))\n",
    "plot_var(minf_K_Tst, taum_K_Tst, ax, col=[0,0,0], label='K_Tst m')\n",
    "plot_var(hinf_K_Tst, tauh_K_Tst, ax, col=[.7,.7,.7], label='K_Tst h')\n",
    "plot_var(minf_K_Pst, taum_K_Pst, ax, col=[1,0,0], label='K_Pst m')\n",
    "plot_var(hinf_K_Pst, tauh_K_Pst, ax, col=[1,.7,.7], label='K_Pst h')\n",
    "plot_var(minf_SKv3_1, taum_SKv3_1, ax, col=[0,0,.7], label='SKv3_1')\n",
    "plot_var(minf_Im, taum_Im, ax, col=[0,.7,1], label='I_m')"
   ]
  },
  {
   "cell_type": "markdown",
   "metadata": {},
   "source": [
    "### Calcium-dependent potassium currents"
   ]
  },
  {
   "cell_type": "code",
   "execution_count": null,
   "metadata": {},
   "outputs": [],
   "source": [
    "fig,ax = plt.subplots(2, 1, sharex=True, figsize=(8,7))\n",
    "plot_var(zinf_SK_E2, tauz_SK_E2, ax, x_range=[1e-5,1e-2], label='SK_E2')"
   ]
  },
  {
   "cell_type": "markdown",
   "metadata": {},
   "source": [
    "### Calcium currents"
   ]
  },
  {
   "cell_type": "code",
   "execution_count": null,
   "metadata": {},
   "outputs": [],
   "source": [
    "fig,ax = plt.subplots(2, 1, sharex=True, figsize=(8,7))\n",
    "plot_var(minf_Ca_HVA, taum_Ca_HVA, ax, col=[0,0,0], label='Ca_HVA m')\n",
    "plot_var(hinf_Ca_HVA, tauh_Ca_HVA, ax, col=[.6,.6,.6], label='Ca_HVA h')\n",
    "plot_var(minf_Ca_LVA, taum_Ca_LVA, ax, col=[.8,0,0], label='Ca_LVA m')\n",
    "plot_var(hinf_Ca_LVA, tauh_Ca_LVA, ax, col=[1,.6,.6], label='Ca_LVA h')"
   ]
  },
  {
   "cell_type": "markdown",
   "metadata": {},
   "source": [
    "### Ih current"
   ]
  },
  {
   "cell_type": "code",
   "execution_count": null,
   "metadata": {},
   "outputs": [],
   "source": [
    "fig,ax = plt.subplots(2, 1, sharex=True, figsize=(8,7))\n",
    "plot_var(minf_Ih, taum_Ih, ax, label='Ih')"
   ]
  }
 ],
 "metadata": {
  "kernelspec": {
   "display_name": "Python 3",
   "language": "python",
   "name": "python3"
  },
  "language_info": {
   "codemirror_mode": {
    "name": "ipython",
    "version": 3
   },
   "file_extension": ".py",
   "mimetype": "text/x-python",
   "name": "python",
   "nbconvert_exporter": "python",
   "pygments_lexer": "ipython3",
   "version": "3.7.5"
  }
 },
 "nbformat": 4,
 "nbformat_minor": 2
}
