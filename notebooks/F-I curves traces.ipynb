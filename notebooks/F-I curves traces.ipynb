{
 "cells": [
  {
   "cell_type": "code",
   "execution_count": null,
   "metadata": {},
   "outputs": [],
   "source": [
    "import os\n",
    "import json\n",
    "import pickle\n",
    "from itertools import chain\n",
    "\n",
    "import numpy as np\n",
    "import pandas as pd\n",
    "from scipy.interpolate import interp1d\n",
    "from scipy.signal import find_peaks\n",
    "import matplotlib.pyplot as plt\n",
    "%matplotlib inline\n",
    "\n",
    "from neuron import h\n",
    "from current_injection import inject_current_step\n",
    "from dlutils import utils\n",
    "from dlutils.cell import Cell"
   ]
  },
  {
   "cell_type": "code",
   "execution_count": null,
   "metadata": {},
   "outputs": [],
   "source": [
    "optimization_folder = '/Users/daniele/Postdoc/Research/CA3/OPTIMIZATIONS/'\n",
    "\n",
    "# config_file = 'f-I_curve_thorny.json'\n",
    "config_file = 'f-I_curve_a-thorny.json'\n",
    "\n",
    "config = json.load(open(config_file, 'r'))\n",
    "cell_type = config['cell_type']\n",
    "prefix = cell_type[0].upper() + cell_type[1:]\n",
    "base_folder = optimization_folder + prefix + '/' + config['cell_name'] + '/' + config['optimization_run'] + '/'\n",
    "swc_file = config['swc_file']\n",
    "individual = config['individual']\n",
    "\n",
    "swc_file = base_folder + swc_file\n",
    "\n",
    "params_file = base_folder + 'individual_{}.json'.format(individual)\n",
    "parameters = json.load(open(params_file, 'r'))\n",
    "\n",
    "config_file = base_folder + 'parameters.json'\n",
    "cell_name = config['cell_name'] + '_'\n",
    "mechanisms = utils.extract_mechanisms(config_file, cell_name)\n",
    "\n",
    "sim_pars = pickle.load(open(base_folder + 'simulation_parameters.pkl','rb'))\n",
    "replace_axon = sim_pars['replace_axon']\n",
    "add_axon_if_missing = not sim_pars['no_add_axon']"
   ]
  },
  {
   "cell_type": "code",
   "execution_count": null,
   "metadata": {},
   "outputs": [],
   "source": [
    "delay = 500\n",
    "dur = 500\n",
    "after = 1000\n",
    "inj_loc = 'soma'\n",
    "inj_dist = 0\n",
    "xls_file = f'f-I_curve_{cell_type}.xlsx'\n",
    "n_I = len(config['I'])\n",
    "cmap = plt.get_cmap('PiYG', n_I)\n",
    "fig,ax = plt.subplots(1, 1, figsize=(10,4))\n",
    "fc = [.85, .85, .85]\n",
    "with pd.ExcelWriter(xls_file, mode='w') as writer:\n",
    "    for n,I in enumerate(config['I']):\n",
    "        recorders = inject_current_step(I, delay, dur, swc_file, inj_loc, inj_dist, parameters, mechanisms,\n",
    "                                        after, replace_axon=replace_axon, add_axon_if_missing=add_axon_if_missing)\n",
    "        t = np.array(recorders['t'])\n",
    "        Vm = np.array(recorders['soma.v'])\n",
    "        idx = (t > delay - 100) & (t < delay + dur + 500)\n",
    "        plt.plot(t[idx] - delay, Vm[idx], lw=2, color=cmap(n), label=f'I = {I} pA')\n",
    "        df = pd.DataFrame(data = {'Time': t[idx] - delay, 'Vsoma': Vm[idx]})\n",
    "        df.to_excel(writer, sheet_name=f'I = {I} pA')\n",
    "ax.set_facecolor(fc)\n",
    "ax.set_xlabel('Time (ms)')\n",
    "ax.set_ylabel('Vm (mV)')\n",
    "ax.legend(loc='upper right', facecolor=fc, frameon=False)\n",
    "for side in 'right','top':\n",
    "    ax.spines[side].set_visible(False)\n",
    "fig.savefig(os.path.splitext(xls_file)[0] + '.pdf')"
   ]
  },
  {
   "cell_type": "code",
   "execution_count": null,
   "metadata": {},
   "outputs": [],
   "source": []
  }
 ],
 "metadata": {
  "kernelspec": {
   "display_name": "Python 3",
   "language": "python",
   "name": "python3"
  },
  "language_info": {
   "codemirror_mode": {
    "name": "ipython",
    "version": 3
   },
   "file_extension": ".py",
   "mimetype": "text/x-python",
   "name": "python",
   "nbconvert_exporter": "python",
   "pygments_lexer": "ipython3",
   "version": "3.7.10"
  }
 },
 "nbformat": 4,
 "nbformat_minor": 4
}
