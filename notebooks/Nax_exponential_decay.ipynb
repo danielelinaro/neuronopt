{
 "cells": [
  {
   "cell_type": "code",
   "execution_count": null,
   "metadata": {},
   "outputs": [],
   "source": [
    "import os\n",
    "import json\n",
    "import pickle\n",
    "\n",
    "import numpy as np\n",
    "import matplotlib.pyplot as plt\n",
    "%matplotlib inline\n",
    "\n",
    "from neuron import h\n",
    "from dlutils import utils\n",
    "from dlutils.cell import Cell, branch_order"
   ]
  },
  {
   "cell_type": "markdown",
   "metadata": {},
   "source": [
    "The purpose of this notebook is to investigate the voltage attenuation in the dendrites in response to a depolarizing step of current in an individual with normal dendritic sodium and in a second one with exponentially decaying sodium."
   ]
  },
  {
   "cell_type": "code",
   "execution_count": null,
   "metadata": {},
   "outputs": [],
   "source": [
    "optimization_folder = '/Users/daniele/Postdoc/Research/Janelia/01_model_optimization/'\n",
    "\n",
    "config_file = 'synaptic_inputs_active_a-thorny.json'\n",
    "config = json.load(open(config_file, 'r'))\n",
    "\n",
    "cell_type = config['cell_type']\n",
    "prefix = cell_type[0].upper() + cell_type[1:]\n",
    "base_folder = optimization_folder + prefix + '/' + config['cell_name'] + '/' + config['optimization_run'] + '/'\n",
    "swc_file = config['swc_file']\n",
    "cell_name = config['cell_name'] + '_'\n",
    "individual = config['individual']\n",
    "section_num = 7\n",
    "\n",
    "swc_file = base_folder + swc_file\n",
    "params_files = {'original': base_folder + 'individual_{}_orig.json'.format(individual),\n",
    "               'modified': base_folder + 'individual_{}_exp_nax_apic.json'.format(individual)}\n",
    "config_file = base_folder + 'parameters.json'\n",
    "\n",
    "passive = False\n",
    "with_TTX = False\n",
    "replace_axon = True\n",
    "add_axon_if_missing = True\n",
    "parameters = {k:  json.load(open(v, 'r')) for k,v in params_files.items()}\n",
    "mechanisms = utils.extract_mechanisms(config_file, cell_name)\n",
    "sim_pars = pickle.load(open(base_folder + 'simulation_parameters.pkl','rb'))\n",
    "replace_axon = sim_pars['replace_axon']\n",
    "add_axon_if_missing = not sim_pars['no_add_axon']"
   ]
  },
  {
   "cell_type": "code",
   "execution_count": null,
   "metadata": {},
   "outputs": [],
   "source": [
    "cells = {}\n",
    "for k,pars in parameters.items():\n",
    "    cells[k] = Cell('CA3_cell_%d' % int(np.random.uniform()*1e5), swc_file, pars, mechanisms)\n",
    "    cells[k].instantiate(replace_axon, add_axon_if_missing, force_passive=passive, TTX=with_TTX)"
   ]
  },
  {
   "cell_type": "code",
   "execution_count": null,
   "metadata": {},
   "outputs": [],
   "source": [
    "delay = 250\n",
    "duration = 100\n",
    "amplitude = 0.125\n",
    "stim = {}\n",
    "recorders = {}\n",
    "for k,cell in cells.items():\n",
    "    stim[k] = h.IClamp(cell.morpho.soma[0](0.5))\n",
    "    stim[k].delay = delay\n",
    "    stim[k].amp = amplitude\n",
    "    stim[k].dur = duration\n",
    "    recorders[k] = {'Vsoma': h.Vector(), 'Vdend': []}\n",
    "    recorders[k]['Vsoma'].record(cell.morpho.soma[0](0.5)._ref_v)\n",
    "    bo = {'soma': 0, 'dend': []}         # branch order\n",
    "    dst = {'soma': 0, 'dend': []}         # distance from soma\n",
    "    for sec in cell.morpho.apic:\n",
    "        vec = h.Vector()\n",
    "        vec.record(sec(0.5)._ref_v)\n",
    "        recorders[k]['Vdend'].append(vec)\n",
    "        bo['dend'].append(branch_order(sec))\n",
    "        dst['dend'].append(h.distance(cell.morpho.soma[0](0.5), sec(0.5)))\n",
    "    bo['dend'] = np.array(bo['dend'])\n",
    "    dst['dend'] = np.array(dst['dend'])\n",
    "    idx = np.argsort(dst['dend'])\n",
    "    recorders[k]['Vdend'] = [recorders[k]['Vdend'][i] for i in idx]\n",
    "    bo['dend'] = bo['dend'][idx]\n",
    "    dst['dend'] = dst['dend'][idx]\n",
    "time_recorder = h.Vector()\n",
    "time_recorder.record(h._ref_t)"
   ]
  },
  {
   "cell_type": "code",
   "execution_count": null,
   "metadata": {},
   "outputs": [],
   "source": [
    "h.cvode_active(1)\n",
    "h.tstop = delay + duration + 100\n",
    "h.run();"
   ]
  },
  {
   "cell_type": "code",
   "execution_count": null,
   "metadata": {},
   "outputs": [],
   "source": [
    "time = np.array(time_recorder)\n",
    "Vsoma = {k: np.array(rec['Vsoma']) for k,rec in recorders.items()}\n",
    "Vdend = {k: np.array([rec for rec in recorder['Vdend']]) for k,recorder in recorders.items()}"
   ]
  },
  {
   "cell_type": "raw",
   "metadata": {},
   "source": [
    "fig,ax = plt.subplots(1, 1, figsize=(8,5))\n",
    "color = {'original': 'k', 'modified': 'r'}\n",
    "for k in Vsoma:\n",
    "    ax.plot(time, Vsoma[k], color[k], lw=1, label=k)\n",
    "    ax.plot(time, Vdend[k][0], color[k] + '--', lw=1, label=k)\n",
    "ax.set_xlim([delay+10, delay+50])\n",
    "ax.legend(loc='best')\n",
    "ax.set_xlabel('Time (ms)')\n",
    "ax.set_ylabel('Vm (mV)')"
   ]
  },
  {
   "cell_type": "code",
   "execution_count": null,
   "metadata": {},
   "outputs": [],
   "source": [
    "rows = bo['dend'].max() + 1\n",
    "fig,ax = plt.subplots(rows, 2, sharex=True, sharey=True, figsize=(10, rows*2))\n",
    "keys = ['original', 'modified']\n",
    "idx, = np.where((time > delay+10) & (time < delay+45))\n",
    "cmap_name = 'cividis'\n",
    "cmap = plt.get_cmap(cmap_name, 1)\n",
    "for i,k in enumerate(keys):\n",
    "    ax[0,i].plot(time[idx], Vsoma[k][idx], color=cmap(0), lw=1)\n",
    "    ax[-1,i].set_xlabel('Time (ms)')\n",
    "    ax[0,i].set_title(k.capitalize())\n",
    "ax[0,0].set_ylabel('Soma Vm (mV)')\n",
    "for order in range(1, rows):\n",
    "    jdx, = np.where(bo['dend'] == order)\n",
    "    cmap = plt.get_cmap(cmap_name, len(jdx))\n",
    "    for i,key in enumerate(keys):\n",
    "        for j,k in enumerate(jdx):\n",
    "            ax[order,i].plot(time[idx], Vdend[key][k,idx], color=cmap(j), lw=1, label='{:.0f} um'.format(dst['dend'][k]))\n",
    "        ax[order,i].legend(loc='upper right')\n",
    "    ax[order,0].set_ylabel('Vm @ B.O. {} (mV)'.format(order))\n",
    "for side in ('right','top'):\n",
    "    for i in range(rows):\n",
    "        for j in range(2):\n",
    "            ax[i][j].spines[side].set_visible(False)\n",
    "fig.tight_layout()"
   ]
  },
  {
   "cell_type": "markdown",
   "metadata": {},
   "source": [
    "Taken from Kim, S., Guzman, S. J., Hu, H., & Jonas, P. (2012). Active dendrites support efficient initiation of dendritic spikes in hippocampal CA3 pyramidal neurons. Nature Neuroscience, 15(4), 600–606. http://doi.org/10.1038/nn.3060\n",
    "\n",
    "![Kim et al., 2012](Kim_2012.png)"
   ]
  }
 ],
 "metadata": {
  "kernelspec": {
   "display_name": "Python 3",
   "language": "python",
   "name": "python3"
  },
  "language_info": {
   "codemirror_mode": {
    "name": "ipython",
    "version": 3
   },
   "file_extension": ".py",
   "mimetype": "text/x-python",
   "name": "python",
   "nbconvert_exporter": "python",
   "pygments_lexer": "ipython3",
   "version": "3.7.9"
  }
 },
 "nbformat": 4,
 "nbformat_minor": 2
}
