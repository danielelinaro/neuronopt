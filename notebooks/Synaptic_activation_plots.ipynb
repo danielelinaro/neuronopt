{
 "cells": [
  {
   "cell_type": "code",
   "execution_count": null,
   "metadata": {},
   "outputs": [],
   "source": [
    "import os\n",
    "import sys\n",
    "import numpy as np\n",
    "from scipy.signal import find_peaks\n",
    "import pandas as pd\n",
    "import matplotlib.pyplot as plt\n",
    "%matplotlib inline\n",
    "\n",
    "if '/Users/daniele/Postdoc/Research/CA3/entropy' not in sys.path:\n",
    "    sys.path.append('/Users/daniele/Postdoc/Research/CA3/entropy')\n"
   ]
  },
  {
   "cell_type": "code",
   "execution_count": null,
   "metadata": {},
   "outputs": [],
   "source": [
    "def save_and_plot(time, Vsoma, Vdend, presyn_spike_times, OU, outfile, window = [10, 200]):\n",
    "    n_spines, n_trials = presyn_spike_times.shape\n",
    "    fig,ax = plt.subplots(n_trials, 1, figsize=(4, n_trials*1.5))\n",
    "    with pd.ExcelWriter(outfile) as writer:\n",
    "        for i,t0 in enumerate(presyn_spike_times.min(axis=0)):\n",
    "            idx = (time > t0 - window[0]) & (time < t0 + window[1])\n",
    "            t = time[idx] - t0\n",
    "            vs = Vsoma[idx]\n",
    "            vd = Vdend[idx]\n",
    "            pks,_ = find_peaks(vs, height=0)\n",
    "            df1 = pd.DataFrame({'Time': t, 'V_soma': vs, 'V_dend': vd})\n",
    "            idx = (OU['t'] > t0 - window[0]) & (OU['t'] < t0 + window[1])\n",
    "            ou_t = OU['t'][idx] - t0\n",
    "            ou_x = (OU['x'][idx] - OU['x'][idx].mean()) * 100\n",
    "            df2 = pd.DataFrame({'OU time': OU['t'][idx] - t0, 'OU x': OU['x'][idx]})\n",
    "            df3 = pd.DataFrame({'presyn_spike_times':  np.sort(presyn_spike_times[:,i] - t0)})\n",
    "            df4 = pd.DataFrame({'postsyn_spike_times':  t[pks]})\n",
    "            df = pd.concat([df1, df2, df3, df4], ignore_index=True, axis=1)\n",
    "            df.columns = 'Time', 'V_soma', 'V_dend', 'OU_t', 'OU_x', 'presyn_spike_times', 'postsyn_spike_times'\n",
    "            df.to_excel(writer, sheet_name=f'Trial {i+1}')\n",
    "            ax[i].plot(ou_t, ou_x, color=[.8,.8,.8], lw=1)\n",
    "            ax[i].plot(t, vd, color=[.2,1,.2], lw=1, label='Dendrite')\n",
    "            ax[i].plot(t, vs, 'k', lw=1, label='Soma')\n",
    "            for spk in presyn_spike_times[:,i]:\n",
    "                ax[i].plot(spk - t0 + np.zeros(2), -78 + np.array([0, 7]), 'k', lw=1)\n",
    "            ax[i].set_ylim([-80, 50])\n",
    "            ax[i].axis('off')\n",
    "        dt = 50\n",
    "        dV = 50\n",
    "        V0 = -20\n",
    "        ax[0].plot(window[1] - 1 + np.zeros(2), V0 + np.array([0, dV]), 'k', lw=2)\n",
    "        ax[0].plot(window[1] - 1 - np.array([dt, 0]), V0 + np.zeros(2), 'k', lw=2)\n",
    "        ax[0].text(window[1] + 5, V0 + dV / 2, '50 mV', horizontalalignment='left', verticalalignment='center', rotation=90)\n",
    "        ax[0].text(window[1] - dt/2, V0 - 5, '50 ms', horizontalalignment='center', verticalalignment='top')\n",
    "        ax[-1].legend(loc='upper right')\n",
    "        fig.tight_layout()\n",
    "        fig.savefig(os.path.splitext(outfile)[0] + '.pdf')"
   ]
  },
  {
   "cell_type": "code",
   "execution_count": null,
   "metadata": {},
   "outputs": [],
   "source": [
    "base_folder = '/Users/daniele/Postdoc/Research/CA3/OPTIMIZATIONS'\n",
    "cell_types = 'Thorny', 'A-thorny'\n",
    "cell_IDs = {'Thorny': 'DH070813', 'A-thorny': 'DH070213C3'}\n",
    "optimization_runs = {'Thorny': '20191208071008_DH070813_', \\\n",
    "                     'A-thorny': '20191206232623_DH070213C3_'}\n",
    "expt_folders = {cell_type: base_folder + '/' + cell_type + '/' + cell_IDs[cell_type] + \\\n",
    "                '/' + optimization_runs[cell_type] + '/synaptic_cooperativity_experiment/N=6/' \\\n",
    "               for cell_type in cell_types}\n",
    "data = {\n",
    "    cell_type: {\n",
    "        F: np.load(expt_folders[cell_type] + f'synaptic_activation_{F}_Hz.npz', allow_pickle=True) \\\n",
    "            for F in [50, 100, 200]\n",
    "    } for cell_type in cell_types\n",
    "}"
   ]
  },
  {
   "cell_type": "code",
   "execution_count": null,
   "metadata": {},
   "outputs": [],
   "source": [
    "cell_type = 'Thorny'"
   ]
  },
  {
   "cell_type": "code",
   "execution_count": null,
   "metadata": {},
   "outputs": [],
   "source": [
    "F = 50\n",
    "time = data[cell_type][F]['time']\n",
    "Vsoma = data[cell_type][F]['Vsoma']\n",
    "Vdend = data[cell_type][F]['Vdend']\n",
    "presyn_spike_times = data[cell_type][F]['presyn_spike_times']\n",
    "OU = {key: data[cell_type][F][f'OU_{key}'] for key in 'tx'}\n",
    "outfile = f'synaptic_activation_{cell_type.lower()}_{F}_Hz.xlsx'\n",
    "save_and_plot(time, Vsoma, Vdend, presyn_spike_times, OU, outfile)"
   ]
  },
  {
   "cell_type": "code",
   "execution_count": null,
   "metadata": {},
   "outputs": [],
   "source": [
    "F = 100\n",
    "time = data[cell_type][F]['time']\n",
    "Vsoma = data[cell_type][F]['Vsoma']\n",
    "Vdend = data[cell_type][F]['Vdend']\n",
    "presyn_spike_times = data[cell_type][F]['presyn_spike_times']\n",
    "OU = {key: data[cell_type][F][f'OU_{key}'] for key in 'tx'}\n",
    "outfile = f'synaptic_activation_{cell_type.lower()}_{F}_Hz.xlsx'\n",
    "save_and_plot(time, Vsoma, Vdend, presyn_spike_times, OU, outfile)"
   ]
  },
  {
   "cell_type": "code",
   "execution_count": null,
   "metadata": {},
   "outputs": [],
   "source": [
    "F = 200\n",
    "time = data[cell_type][F]['time']\n",
    "Vsoma = data[cell_type][F]['Vsoma']\n",
    "Vdend = data[cell_type][F]['Vdend']\n",
    "presyn_spike_times = data[cell_type][F]['presyn_spike_times']\n",
    "OU = {key: data[cell_type][F][f'OU_{key}'] for key in 'tx'}\n",
    "outfile = f'synaptic_activation_{cell_type.lower()}_{F}_Hz.xlsx'\n",
    "save_and_plot(time, Vsoma, Vdend, presyn_spike_times, OU, outfile)"
   ]
  },
  {
   "cell_type": "code",
   "execution_count": null,
   "metadata": {},
   "outputs": [],
   "source": [
    "cell_type = 'A-thorny'"
   ]
  },
  {
   "cell_type": "code",
   "execution_count": null,
   "metadata": {},
   "outputs": [],
   "source": [
    "F = 50\n",
    "time = data[cell_type][F]['time']\n",
    "Vsoma = data[cell_type][F]['Vsoma']\n",
    "Vdend = data[cell_type][F]['Vdend']\n",
    "presyn_spike_times = data[cell_type][F]['presyn_spike_times']\n",
    "OU = {key: data[cell_type][F][f'OU_{key}'] for key in 'tx'}\n",
    "outfile = f'synaptic_activation_{cell_type.lower()}_{F}_Hz.xlsx'\n",
    "save_and_plot(time, Vsoma, Vdend, presyn_spike_times, OU, outfile)"
   ]
  },
  {
   "cell_type": "code",
   "execution_count": null,
   "metadata": {},
   "outputs": [],
   "source": [
    "F = 100\n",
    "time = data[cell_type][F]['time']\n",
    "Vsoma = data[cell_type][F]['Vsoma']\n",
    "Vdend = data[cell_type][F]['Vdend']\n",
    "presyn_spike_times = data[cell_type][F]['presyn_spike_times']\n",
    "OU = {key: data[cell_type][F][f'OU_{key}'] for key in 'tx'}\n",
    "outfile = f'synaptic_activation_{cell_type.lower()}_{F}_Hz.xlsx'\n",
    "save_and_plot(time, Vsoma, Vdend, presyn_spike_times, OU, outfile)"
   ]
  },
  {
   "cell_type": "code",
   "execution_count": null,
   "metadata": {},
   "outputs": [],
   "source": [
    "F = 200\n",
    "time = data[cell_type][F]['time']\n",
    "Vsoma = data[cell_type][F]['Vsoma']\n",
    "Vdend = data[cell_type][F]['Vdend']\n",
    "presyn_spike_times = data[cell_type][F]['presyn_spike_times']\n",
    "OU = {key: data[cell_type][F][f'OU_{key}'] for key in 'tx'}\n",
    "outfile = f'synaptic_activation_{cell_type.lower()}_{F}_Hz.xlsx'\n",
    "save_and_plot(time, Vsoma, Vdend, presyn_spike_times, OU, outfile)"
   ]
  }
 ],
 "metadata": {
  "kernelspec": {
   "display_name": "Python 3",
   "language": "python",
   "name": "python3"
  },
  "language_info": {
   "codemirror_mode": {
    "name": "ipython",
    "version": 3
   },
   "file_extension": ".py",
   "mimetype": "text/x-python",
   "name": "python",
   "nbconvert_exporter": "python",
   "pygments_lexer": "ipython3",
   "version": "3.7.10"
  }
 },
 "nbformat": 4,
 "nbformat_minor": 4
}
