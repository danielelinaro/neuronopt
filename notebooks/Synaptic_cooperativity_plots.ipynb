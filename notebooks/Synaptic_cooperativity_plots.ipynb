{
 "cells": [
  {
   "cell_type": "code",
   "execution_count": null,
   "metadata": {},
   "outputs": [],
   "source": [
    "import json\n",
    "import pickle\n",
    "from itertools import chain\n",
    "\n",
    "import numpy as np\n",
    "from scipy.interpolate import interp1d\n",
    "import matplotlib.pyplot as plt\n",
    "%matplotlib inline"
   ]
  },
  {
   "cell_type": "markdown",
   "metadata": {},
   "source": [
    "This notebook contains summary plots of the synaptic cooperativity experiments for the two cell types and for three different conditions:\n",
    "\n",
    "- passive cell\n",
    "- active cell without sodium channels (simulating a TTX condition)\n",
    "- active cell"
   ]
  },
  {
   "cell_type": "markdown",
   "metadata": {},
   "source": [
    "#### Load the data"
   ]
  },
  {
   "cell_type": "code",
   "execution_count": null,
   "metadata": {},
   "outputs": [],
   "source": [
    "cell_type = 'a-thorny'\n",
    "data = {'passive': pickle.load(open('synaptic_cooperativity_' + cell_type + '_passive_without_TTX.pkl', 'rb')),\n",
    "        'active_with_TTX': pickle.load(open('synaptic_cooperativity_' + cell_type + '_active_with_TTX.pkl', 'rb')),\n",
    "        'active': pickle.load(open('synaptic_cooperativity_' + cell_type + '_active_without_TTX.pkl', 'rb'))}\n",
    "n_spines = data['active_with_TTX']['config']['n_spines']\n",
    "spike_times = data['active_with_TTX']['spike_times']"
   ]
  },
  {
   "cell_type": "markdown",
   "metadata": {},
   "source": [
    "#### Measure the amplitude ratio when the input is synaptic"
   ]
  },
  {
   "cell_type": "code",
   "execution_count": null,
   "metadata": {},
   "outputs": [],
   "source": [
    "N = len(data)\n",
    "y_lim = np.array([0, -100])\n",
    "fig,ax = plt.subplots(1, N, figsize=(4*N, 4), sharex=True, sharey=True)\n",
    "for i, (expt_type, expt) in enumerate(data.items()):\n",
    "    idx, = np.where((expt['t'] > 990) & (expt['t'] < 1200))\n",
    "    EPSP_spine = np.max(expt['Vspine'][0,idx]) - expt['Vspine'][0,-1]\n",
    "    EPSP_dend = np.max(expt['Vdend'][0,idx]) - expt['Vdend'][0,-1]\n",
    "    if expt['Vspine'][0,idx[0]] < y_lim[0]:\n",
    "        y_lim[0] = expt['Vspine'][0,idx[0]]\n",
    "    if np.max(expt['Vspine'][0,idx]) > y_lim[1]:\n",
    "        y_lim[1] = np.max(expt['Vspine'][0,idx])\n",
    "    title = expt_type.replace('_', ' ').upper()\n",
    "    print('{}:'.format(title))\n",
    "    print('   Amplitude ratio: {:.3f}'.format(expt['AR']))\n",
    "    print('     Dendritic Rin: {:.0f} MOhm'.format(expt['R']['dend']))\n",
    "    print('    Spine neck Rin: {:.0f} MOhm'.format(expt['R']['neck']))\n",
    "    ax[i].plot(expt['t'][idx], expt['Vspine'][0,idx], 'k', label='Spine')\n",
    "    ax[i].plot(expt['t'][idx], expt['Vdend'][0,idx], 'r', label='Dendrite')\n",
    "    ax[i].set_xlabel('Time (ms)')\n",
    "    ax[i].set_title(title)\n",
    "ax[0].set_ylim(y_lim + np.diff(y_lim) / np.array([-20,20]))\n",
    "ax[0].set_ylabel('Vm (mV)')\n",
    "ax[-1].legend(loc='best');"
   ]
  },
  {
   "cell_type": "markdown",
   "metadata": {},
   "source": [
    "#### Plot the amplitude of the dendritic and somatic EPSPs and of the NMDA conductance as a function of the number of synaptic inputs"
   ]
  },
  {
   "cell_type": "code",
   "execution_count": null,
   "metadata": {},
   "outputs": [],
   "source": [
    "n = 1 + np.arange(n_spines)\n",
    "fig,(ax1,ax2,ax3) = plt.subplots(1, 3, figsize=(17,5), sharex=True)\n",
    "col = [[0, 0, 0], [.7,0,.7], [0,.6,0]]\n",
    "lw = 1.5\n",
    "for i, (expt_type, expt) in enumerate(data.items()):\n",
    "    if expt_type == 'active':\n",
    "        continue\n",
    "    lbl = expt_type.replace('_', ' ')\n",
    "    ax1.plot(n, expt['dV_dend'], 'o-', color=col[i], linewidth=lw-0.5, markeredgewidth=lw,\n",
    "             markerfacecolor='w', markersize=7, label=lbl)\n",
    "    ax2.plot(n, expt['dV_soma'], 'o-', color=col[i], linewidth=lw-0.5, markeredgewidth=lw,\n",
    "             markerfacecolor='w', markersize=7, label=lbl)\n",
    "    ax3.plot(n, expt['dG_AMPA'], 's-', color=col[i], linewidth=lw-0.5, markeredgewidth=lw,\n",
    "             markerfacecolor='w', markersize=5, label='AMPA')\n",
    "    ax3.plot(n, expt['dG_NMDA'], 'o-', color=col[i], linewidth=lw-0.5, markeredgewidth=lw,\n",
    "             markerfacecolor='w', markersize=7, label='NMDA')\n",
    "ax1.set_xlabel('Input number')\n",
    "ax1.set_ylabel('Dendritic deflection (mV)')\n",
    "ax2.set_xlabel('Input number')\n",
    "ax2.set_ylabel('Somatic deflection (mV)')\n",
    "ax3.set_xlabel('Input number')\n",
    "ax3.set_ylabel('Conductance (nS)')\n",
    "ax1.legend(loc='best');"
   ]
  },
  {
   "cell_type": "markdown",
   "metadata": {},
   "source": [
    "#### Plot the time course of the dendritic and somatic EPSPs for increasing number of synaptic inputs"
   ]
  },
  {
   "cell_type": "code",
   "execution_count": null,
   "metadata": {},
   "outputs": [],
   "source": [
    "cmap = plt.get_cmap('rainbow', n_spines)\n",
    "window = [10, 100]\n",
    "fig,ax = plt.subplots(2, N, figsize=(17,10), sharex=True, sharey=True)\n",
    "for i, (expt_type, expt) in enumerate(data.items()):\n",
    "    for j, spk in enumerate(spike_times[0]):\n",
    "        t = expt['t']\n",
    "        idx = (t > spk - window[0]) & (t < spk + window[1])\n",
    "        ax[0,i].set_title(expt_type.replace('_', ' ').upper())\n",
    "        ax[0,i].plot(t[idx] - spk, expt['Vdend'][0,idx], color=cmap(j))\n",
    "        ax[1,i].plot(t[idx] - spk, expt['Vsoma'][idx], color=cmap(j))\n",
    "    ax[-1,i].set_xlabel('Time since input (ms)')\n",
    "ax[0,0].set_ylabel('Dendritic voltage (mV)')\n",
    "ax[1,0].set_ylabel('Somatic voltage (mV)');"
   ]
  }
 ],
 "metadata": {
  "kernelspec": {
   "display_name": "Python 3",
   "language": "python",
   "name": "python3"
  },
  "language_info": {
   "codemirror_mode": {
    "name": "ipython",
    "version": 3
   },
   "file_extension": ".py",
   "mimetype": "text/x-python",
   "name": "python",
   "nbconvert_exporter": "python",
   "pygments_lexer": "ipython3",
   "version": "3.7.7"
  }
 },
 "nbformat": 4,
 "nbformat_minor": 2
}
