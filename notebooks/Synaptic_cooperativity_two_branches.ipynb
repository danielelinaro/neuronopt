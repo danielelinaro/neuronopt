{
 "cells": [
  {
   "cell_type": "code",
   "execution_count": null,
   "metadata": {},
   "outputs": [],
   "source": [
    "import json\n",
    "import pickle\n",
    "from itertools import chain\n",
    "\n",
    "import numpy as np\n",
    "from scipy.interpolate import interp1d\n",
    "import matplotlib.pyplot as plt\n",
    "%matplotlib inline\n",
    "\n",
    "from neuron import h\n",
    "from dlutils import utils\n",
    "from dlutils.cell import Cell, branch_order\n",
    "from dlutils.synapse import AMPANMDAExp2Synapse\n",
    "from dlutils.spine import Spine\n",
    "\n",
    "h.load_file('stdrun.hoc');"
   ]
  },
  {
   "cell_type": "markdown",
   "metadata": {},
   "source": [
    "### General parameters"
   ]
  },
  {
   "cell_type": "code",
   "execution_count": null,
   "metadata": {},
   "outputs": [],
   "source": [
    "optimization_folder = '/Users/daniele/Postdoc/Research/Janelia/01_model_optimization/'\n",
    "\n",
    "# config_file = 'synaptic_cooperativity_thorny_passive.json'\n",
    "# config_file = 'synaptic_cooperativity_thorny_active_with_TTX.json'\n",
    "# config_file = 'synaptic_cooperativity_thorny_active.json'\n",
    "# config_file = 'synaptic_cooperativity_a-thorny_passive.json'\n",
    "# config_file = 'synaptic_cooperativity_a-thorny_active_with_TTX.json'\n",
    "config_file = 'synaptic_cooperativity_a-thorny_active.json'\n",
    "config = json.load(open(config_file, 'r'))\n",
    "\n",
    "cell_type = config['cell_type']\n",
    "prefix = cell_type[0].upper() + cell_type[1:]\n",
    "base_folder = optimization_folder + prefix + '/' + config['cell_name'] + '/' + config['optimization_run'] + '/'\n",
    "swc_file = config['swc_file']\n",
    "cell_name = config['cell_name'] + '_'\n",
    "individual = config['individual']\n",
    "\n",
    "swc_file = base_folder + swc_file\n",
    "params_file = base_folder + 'individual_{}.json'.format(individual)\n",
    "config_file = base_folder + 'parameters.json'\n",
    "\n",
    "passive = config['passive']\n",
    "with_TTX = config['with_TTX']\n",
    "replace_axon = True\n",
    "add_axon_if_missing = True\n",
    "parameters = json.load(open(params_file, 'r'))\n",
    "mechanisms = utils.extract_mechanisms(config_file, cell_name)\n",
    "sim_pars = pickle.load(open(base_folder + 'simulation_parameters.pkl','rb'))\n",
    "replace_axon = sim_pars['replace_axon']\n",
    "add_axon_if_missing = not sim_pars['no_add_axon']"
   ]
  },
  {
   "cell_type": "markdown",
   "metadata": {},
   "source": [
    "### Functions used to describe the removal of the Mg block from the NMDA synapse\n",
    "\n",
    "#### Maex & De Schutter\n",
    "Maex, R., & De Schutter, E. (1998). Synchronization of Golgi and granule cell firing in a detailed network model of the cerebellar granule cell layer. Journal of Neurophysiology, 80(5), 2521–2537. http://doi.org/10.1152/jn.1998.80.5.2521\n",
    "\n",
    "#### Jahr & Stevens\n",
    "Jahr, C. E., & Stevens, C. F. (1990). A quantitative description of NMDA receptor-channel kinetic behavior. The Journal of Neuroscience, 10(6), 1830–1837.\n",
    "\n",
    "Jahr, C. E., & Stevens, C. F. (1990). Voltage dependence of NMDA-activated macroscopic conductances predicted by single-channel kinetics. The Journal of Neuroscience, 10(9), 3178–3182. http://doi.org/10.1523/JNEUROSCI.10-09-03178.1990\n",
    "\n",
    "#### Harnett\n",
    "Harnett, M. T., Makara, J. K., Spruston, N., Kath, W. L., & Magee, J. C. (2012). Synaptic amplification by dendritic spines enhances input cooperativity. Nature, 491(7425), 599–602. http://doi.org/10.1038/nature11554\n",
    "\n",
    "There is a mistake in the definition of the Mg removal function: the units of the expression found in the paper are incorrect. The correct function is the one found here and is actually also found in the second of Jahr & Stevens's papers (equation 5)."
   ]
  },
  {
   "cell_type": "code",
   "execution_count": null,
   "metadata": {},
   "outputs": [],
   "source": [
    "v = np.arange(-100, 50)\n",
    "extMgConc = config['NMDA']['extMgConc']\n",
    "\n",
    "mg_maex_orig = lambda v: 1. / (1. + 0.2801 * extMgConc * np.exp(-0.062 * (v - 10)))\n",
    "\n",
    "mg_jahr_stevens_orig = lambda v: 1. / (1 + (extMgConc / 9.888) * np.exp(0.09137 * (2.222 - v)))\n",
    "\n",
    "mg_harnett = lambda v: 1. / (1. + (extMgConc / 3.57) * np.exp(-0.062 * v))\n",
    "\n",
    "plt.figure(figsize=(8,4))\n",
    "plt.plot(v, mg_harnett(v), 'k--', lw=3, label='Harnett')\n",
    "plt.plot(v, mg_maex_orig(v), color=[0,.5,0], label='Original Maex & De Schutter')\n",
    "\n",
    "if config['NMDA']['model'] == 'MDS':\n",
    "    alpha_vspom = config['NMDA']['alpha_vspom'] # -0.124\n",
    "    v0_block    = config['NMDA']['v0_block']    # -10\n",
    "    eta         = config['NMDA']['eta']         # 0.02801\n",
    "    mg_maex_mod = lambda v: 1. / (1. + eta * extMgConc * np.exp(alpha_vspom * (v - v0_block)))\n",
    "    plt.plot(v, mg_maex_mod(v), color=[.5,1,.5], label='Modified Maex & De Schutter')\n",
    "\n",
    "plt.plot(v, mg_jahr_stevens_orig(v), color=[.65,0,0], label='Original Jahr & Stevens')\n",
    "\n",
    "if config['NMDA']['model'] == 'JS':\n",
    "    Kd    = config['NMDA']['Kd']    # (mM)\n",
    "    gamma = config['NMDA']['gamma'] # (mV^-1)\n",
    "    sh    = config['NMDA']['sh']    # (mV)\n",
    "    mg_jahr_stevens_mod = lambda v: 1. / (1 + (extMgConc / Kd) * np.exp(gamma * (sh - v)))\n",
    "    plt.plot(v, mg_jahr_stevens_mod(v), color=[1,.5,.5], label='Modified Jahr & Stevens')\n",
    "\n",
    "plt.xlabel('Voltage (mV)')\n",
    "plt.ylabel('Mg unblock')\n",
    "plt.legend(loc='best');"
   ]
  },
  {
   "cell_type": "markdown",
   "metadata": {},
   "source": [
    "### Instantiate the cell"
   ]
  },
  {
   "cell_type": "code",
   "execution_count": null,
   "metadata": {},
   "outputs": [],
   "source": [
    "cell = Cell('CA3_cell_%d' % int(np.random.uniform()*1e5), swc_file, parameters, mechanisms)\n",
    "cell.instantiate(replace_axon, add_axon_if_missing, force_passive=passive, TTX=with_TTX)\n",
    "section_num = config['section_num']\n",
    "parent_section = cell.morpho.apic[section_num].parentseg().sec\n",
    "# this way the sections are sorted\n",
    "sections = parent_section.children()[2::-1]\n",
    "n_apical_branches = len(sections)\n",
    "dend_ids = [int(sec.name().split('[')[-1][:-1]) for sec in sections]\n",
    "Ra = sections[0].Ra * config['Ra_neck_coeff']\n",
    "print('Branch order of parent section {}: {}.'.format(parent_section.name(), branch_order(parent_section)))\n",
    "for section in sections:\n",
    "    print('Branch order of section {}: {}.'.format(section.name(), branch_order(section)))\n",
    "    print('Length of section {}: {:.0f} um.'.format(section.name(), section.L))"
   ]
  },
  {
   "cell_type": "markdown",
   "metadata": {},
   "source": [
    "### Instantiate the spines"
   ]
  },
  {
   "cell_type": "code",
   "execution_count": null,
   "metadata": {
    "scrolled": true
   },
   "outputs": [],
   "source": [
    "# in the Harnett paper, the head is spherical with a diameter of 0.5 um: a cylinder\n",
    "# with diameter and length equal to 0.5 has the same (outer) surface area as the sphere\n",
    "head_L = config['spine']['head_L']           # [um]\n",
    "head_diam = config['spine']['head_diam']     # [um]\n",
    "neck_L = config['spine']['neck_L']           # [um]\n",
    "neck_diam = config['spine']['neck_diam']     # [um]\n",
    "spine_distance = config['spine_distance']    # [um] distance between neighboring spines\n",
    "n_spines = config['n_spines']                # number of spines\n",
    "L = spine_distance * (n_spines - 1)\n",
    "norm_L = L / section.L\n",
    "spines = []\n",
    "if section_num == 0:\n",
    "    for section in sections:\n",
    "        spines.append([Spine(section, x, head_L, head_diam, neck_L, neck_diam, Ra, i) \\\n",
    "                  for i,x in enumerate(np.linspace(0.5 - norm_L/2, 0.5 + norm_L/2, n_spines))])\n",
    "else:\n",
    "    for section in sections:\n",
    "        spines.append([Spine(section, x, head_L, head_diam, neck_L, neck_diam, Ra, i) \\\n",
    "                  for i,x in enumerate(np.linspace(0.2 - norm_L/2, 0.2 + norm_L/2, n_spines))])\n",
    "\n",
    "for group in spines:\n",
    "    for spine in group:\n",
    "        spine.instantiate()"
   ]
  },
  {
   "cell_type": "markdown",
   "metadata": {},
   "source": [
    "#### Check the location of the spines in terms of distinct segments"
   ]
  },
  {
   "cell_type": "raw",
   "metadata": {},
   "source": [
    "segments = [section(spines[0]._sec_x)]\n",
    "segments_idx = [[0]]\n",
    "for i,spine in enumerate(spines[1:]):\n",
    "    if section(spine._sec_x) == segments[-1]:\n",
    "        segments_idx[-1].append(i+1)\n",
    "    else:\n",
    "        segments.append(section(spine._sec_x))\n",
    "        segments_idx.append([i+1])\n",
    "if len(segments_idx) == 1:\n",
    "    print('All spines are connected to the same segment.')\n",
    "elif len(segments_idx) == n_spines:\n",
    "    print('Each spine is connected to a different segment on the dendritic branch.')\n",
    "else:\n",
    "    for group in segments_idx:\n",
    "        if len(group) > 1:\n",
    "            print('Spines {} are connected to the same segment.'.format(group))\n",
    "        else:\n",
    "            print('Spine {} is connected to a distinct segment.'.format(group[0]))"
   ]
  },
  {
   "cell_type": "markdown",
   "metadata": {},
   "source": [
    "#### Show where the spines are located on the dendritic tree"
   ]
  },
  {
   "cell_type": "code",
   "execution_count": null,
   "metadata": {},
   "outputs": [],
   "source": [
    "plt.figure(figsize=(10,10))\n",
    "for sec in chain(cell.morpho.apic, cell.morpho.basal):\n",
    "    if sec in cell.morpho.apic:\n",
    "        color = 'k'\n",
    "    else:\n",
    "        color = 'b'\n",
    "    lbl = sec.name().split('.')[1].split('[')[1][:-1]\n",
    "    n = sec.n3d()\n",
    "    sec_coords = np.zeros((n,2))\n",
    "    for i in range(n):\n",
    "        sec_coords[i,:] = np.array([sec.x3d(i), sec.y3d(i)])\n",
    "    middle = int(n / 2)\n",
    "    plt.text(sec_coords[middle,0], sec_coords[middle,1], lbl, \\\n",
    "             fontsize=14, color='m')\n",
    "    plt.plot(sec_coords[:,0], sec_coords[:,1], color, lw=1)\n",
    "for group in spines:\n",
    "    for spine in group:\n",
    "        plt.plot(spine._points[:,0], spine._points[:,1], 'r.')\n",
    "plt.axis('equal');"
   ]
  },
  {
   "cell_type": "markdown",
   "metadata": {},
   "source": [
    "### Insert a synapse into each spine"
   ]
  },
  {
   "cell_type": "code",
   "execution_count": null,
   "metadata": {},
   "outputs": [],
   "source": [
    "MG_MODELS = {'MDS': 1, 'HRN': 2, 'JS': 3}\n",
    "Mg_unblock_model = config['NMDA']['model']\n",
    "\n",
    "E = 0        # [mV]\n",
    "\n",
    "AMPA_taus = config['AMPA']['time_constants']\n",
    "NMDA_taus = config['NMDA']['time_constants']\n",
    "weights = np.array([config['AMPA']['weight'], config['NMDA']['weight']])\n",
    "\n",
    "print('AMPA:')\n",
    "print('    tau_rise = {:.3f} ms'.format(AMPA_taus['tau1']))\n",
    "print('   tau_decay = {:.3f} ms'.format(AMPA_taus['tau2']))\n",
    "print('NMDA:')\n",
    "print('    tau_rise = {:.3f} ms'.format(NMDA_taus['tau1']))\n",
    "print('   tau_decay = {:.3f} ms'.format(NMDA_taus['tau2']))\n",
    "\n",
    "synapses = [[AMPANMDAExp2Synapse(spine.head, 1, E, weights, AMPA = AMPA_taus, \\\n",
    "                                NMDA = NMDA_taus) for spine in group] for group in spines]\n",
    "\n",
    "for group in synapses:\n",
    "    for syn in group:\n",
    "        syn.nmda_syn.mg_unblock_model = MG_MODELS[Mg_unblock_model]\n",
    "        if Mg_unblock_model == 'MDS':\n",
    "            syn.nmda_syn.alpha_vspom = config['NMDA']['alpha_vspom']\n",
    "            syn.nmda_syn.v0_block = config['NMDA']['v0_block']\n",
    "            syn.nmda_syn.eta = config['NMDA']['eta']\n",
    "        elif Mg_unblock_model == 'JS':\n",
    "            syn.nmda_syn.Kd = config['NMDA']['Kd']\n",
    "            syn.nmda_syn.gamma = config['NMDA']['gamma']\n",
    "            syn.nmda_syn.sh = config['NMDA']['sh']\n",
    "\n",
    "if Mg_unblock_model == 'MDS':\n",
    "    print('\\nUsing Maex & De Schutter Mg unblock model. Modified parameters:')\n",
    "    print('       alpha = {:.3f} 1/mV'.format(synapses[0][0].nmda_syn.alpha_vspom))\n",
    "    print('    v0_block = {:.3f} mV'.format(synapses[0][0].nmda_syn.v0_block))\n",
    "    print('         eta = {:.3f}'.format(synapses[0][0].nmda_syn.eta))\n",
    "elif Mg_unblock_model == 'JS':\n",
    "    print('\\nUsing Jahr & Stevens Mg unblock model. Modified parameters:')\n",
    "    print('          Kd = {:.3f} 1/mV'.format(synapses[0][0].nmda_syn.Kd))\n",
    "    print('       gamma = {:.3f} 1/mV'.format(synapses[0][0].nmda_syn.gamma))\n",
    "    print('          sh = {:.3f} mV'.format(synapses[0][0].nmda_syn.sh))\n",
    "elif Mg_unblock_model == 'HRN':\n",
    "    print('\\nUsing Harnett Mg unblock model with default parameters.')"
   ]
  },
  {
   "cell_type": "markdown",
   "metadata": {},
   "source": [
    "#### Make the recorders"
   ]
  },
  {
   "cell_type": "code",
   "execution_count": null,
   "metadata": {},
   "outputs": [],
   "source": [
    "rec = {}\n",
    "for lbl in 't','Vsoma','Vdend-parent','Vapic':\n",
    "    rec[lbl] = h.Vector()\n",
    "rec['t'].record(h._ref_t)\n",
    "rec['Vsoma'].record(cell.morpho.soma[0](0.5)._ref_v)\n",
    "rec['Vdend-parent'].record(parent_section(1)._ref_v)\n",
    "rec['Vapic'].record(cell.morpho.apic[0](1)._ref_v)\n",
    "for i,group in enumerate(spines):\n",
    "    for j,spine in enumerate(group):\n",
    "        rec['Vdend-{}-{}'.format(dend_ids[i], j)] = h.Vector()\n",
    "        rec['Vdend-{}-{}-bp'.format(dend_ids[i], j)] = h.Vector()\n",
    "        rec['Vspine-{}-{}'.format(dend_ids[i], j)] = h.Vector()\n",
    "        rec['IAMPA-{}-{}'.format(dend_ids[i], j)] = h.Vector()\n",
    "        rec['gAMPA-{}-{}'.format(dend_ids[i], j)] = h.Vector()\n",
    "        rec['INMDA-{}-{}'.format(dend_ids[i], j)] = h.Vector()\n",
    "        rec['gNMDA-{}-{}'.format(dend_ids[i], j)] = h.Vector()\n",
    "        rec['MgBlock-{}-{}'.format(dend_ids[i], j)] = h.Vector()\n",
    "        rec['Vdend-{}-{}'.format(dend_ids[i], j)].record(spine._sec(spine._sec_x)._ref_v)\n",
    "        rec['Vdend-{}-{}-bp'.format(dend_ids[i], j)].record(spine._sec(0)._ref_v)\n",
    "        rec['Vspine-{}-{}'.format(dend_ids[i], j)].record(spine.head(0.5)._ref_v)\n",
    "        rec['IAMPA-{}-{}'.format(dend_ids[i], j)].record(synapses[i][j].syn[0]._ref_i)\n",
    "        rec['gAMPA-{}-{}'.format(dend_ids[i], j)].record(synapses[i][j].syn[0]._ref_g)\n",
    "        rec['INMDA-{}-{}'.format(dend_ids[i], j)].record(synapses[i][j].syn[1]._ref_i)\n",
    "        rec['gNMDA-{}-{}'.format(dend_ids[i], j)].record(synapses[i][j].syn[1]._ref_g)\n",
    "        rec['MgBlock-{}-{}'.format(dend_ids[i], j)].record(synapses[i][j].syn[1]._ref_mgBlock)"
   ]
  },
  {
   "cell_type": "markdown",
   "metadata": {},
   "source": [
    "### Compute somatic and dendritic input resistance"
   ]
  },
  {
   "cell_type": "code",
   "execution_count": null,
   "metadata": {},
   "outputs": [],
   "source": [
    "stim = {'soma': h.IClamp(cell.morpho.soma[0](0.5))}\n",
    "for dend_id,section,spine_group in zip(dend_ids, sections, spines):\n",
    "    stim['dend-{}'.format(dend_id)] = h.IClamp(section(spine_group[0]._sec_x))\n",
    "for i,k in enumerate(stim):\n",
    "    stim[k].delay = 500 + i*1000\n",
    "    stim[k].amp = -0.1\n",
    "    stim[k].dur = 300\n",
    "    h.tstop = stim[k].delay\n",
    "h.tstop += 1000\n",
    "print('Simulation duration: {} ms.'.format(h.tstop))\n",
    "h.run()\n",
    "t = np.array(rec['t'])\n",
    "V = {'soma': np.array(rec['Vsoma'])}\n",
    "for dend_id in dend_ids:\n",
    "    V['dend-{}'.format(dend_id)] = np.array(rec['Vdend-{}-0'.format(dend_id)])\n",
    "R = {}\n",
    "for k in V:\n",
    "    idx, = np.where((t > stim[k].delay) & (t < stim[k].delay + stim[k].dur))\n",
    "    V0 = V[k][idx[0]-10]\n",
    "    V1 = V[k][idx[-1]]\n",
    "    R[k] = (V1 - V0) / stim[k].amp\n",
    "    stim[k].amp = 0\n",
    "    stim[k].dur = 0\n",
    "    stim[k].delay = 1e6\n",
    "    \n",
    "print('   Somatic RMP: {:.1f} mV.'.format(V['soma'][-1]))\n",
    "for i,dend_id in enumerate(dend_ids):\n",
    "    print('Apical #{} RMP: {:.1f} mV.'.format(dend_id, V['dend-{}'.format(dend_id)][-1]))\n",
    "\n",
    "col = ['m', 'g']\n",
    "print('\\n   Somatic Rin: {:.0f} MOhm.'.format(R['soma']))\n",
    "for i,dend_id in enumerate(dend_ids):\n",
    "    print('Apical #{} Rin: {:.0f} MOhm.'.format(dend_id, R['dend-{}'.format(dend_id)]))\n",
    "\n",
    "plt.plot(t, V['soma'], 'k', lw=1, label='Soma')\n",
    "for i,dend_id in enumerate(dend_ids):\n",
    "    plt.plot(t, V['dend-{}'.format(dend_id)], col[i], lw=1, label='Dendrite {}'.format(dend_id))\n",
    "plt.xlabel('Time (ms)')\n",
    "plt.ylabel('Vm (mV)')\n",
    "plt.legend(loc='best');"
   ]
  },
  {
   "cell_type": "markdown",
   "metadata": {},
   "source": [
    "#### Compute the presynaptic spike times"
   ]
  },
  {
   "cell_type": "code",
   "execution_count": null,
   "metadata": {},
   "outputs": [],
   "source": [
    "t0 = 1000.\n",
    "dt = 1000.\n",
    "with_somatic_current_injection = True\n",
    "if with_somatic_current_injection:\n",
    "    spike_times = [np.sort(t0 + n_spines * dt - np.arange(i) * dt) for i in range(n_spines+1, 0, -1)]\n",
    "    spike_times = spike_times[:-1]\n",
    "else:\n",
    "    spike_times = [np.sort(t0 + (n_spines - 1) * dt - np.arange(i) * dt) for i in range(n_spines, 0, -1)]\n",
    "poisson = False\n",
    "sequential = True\n",
    "if sequential:\n",
    "    for i in range(n_spines):\n",
    "        for j in range(n_spines-i):\n",
    "            spike_times[i][j] += i * 0.3\n",
    "elif poisson:\n",
    "    # frequency of the incoming spikes\n",
    "    F = 1 / 0.3e-3\n",
    "    for i in range(n_spines):\n",
    "        ISI = - np.log(np.random.uniform(size=n_spines*2)) / F\n",
    "        spks = np.cumsum(ISI)\n",
    "        for j in range(n_spines - i):\n",
    "            spike_times[j][i] += spks[j]\n",
    "\n",
    "for group in synapses:\n",
    "    for syn,spks in zip(group, spike_times):\n",
    "        syn.set_presynaptic_spike_times(spks)\n",
    "        \n",
    "if with_somatic_current_injection:\n",
    "    stim['soma'].amp = 0.2\n",
    "    stim['soma'].dur = 100\n",
    "    stim['soma'].delay = spike_times[0][-1]"
   ]
  },
  {
   "cell_type": "code",
   "execution_count": null,
   "metadata": {},
   "outputs": [],
   "source": [
    "spike_times"
   ]
  },
  {
   "cell_type": "markdown",
   "metadata": {},
   "source": [
    "#### Run the simulation"
   ]
  },
  {
   "cell_type": "code",
   "execution_count": null,
   "metadata": {},
   "outputs": [],
   "source": [
    "h.cvode_active(1)\n",
    "h.tstop = t0 + n_spines * dt\n",
    "if with_somatic_current_injection:\n",
    "    h.tstop += dt\n",
    "h.run()"
   ]
  },
  {
   "cell_type": "markdown",
   "metadata": {},
   "source": [
    "#### Get the data from the recorders"
   ]
  },
  {
   "cell_type": "code",
   "execution_count": null,
   "metadata": {},
   "outputs": [],
   "source": [
    "t = np.array(rec['t'])\n",
    "iampa = np.array([[np.array(rec['IAMPA-{}-{}'.format(dend_id, i)])*1e3 for i in range(n_spines)] for dend_id in dend_ids])\n",
    "inmda = np.array([[np.array(rec['INMDA-{}-{}'.format(dend_id, i)])*1e3 for i in range(n_spines)] for dend_id in dend_ids])\n",
    "gampa = np.array([[np.array(rec['gAMPA-{}-{}'.format(dend_id, i)])*1e3 for i in range(n_spines)] for dend_id in dend_ids])\n",
    "gnmda = np.array([[np.array(rec['gNMDA-{}-{}'.format(dend_id, i)])*1e3 for i in range(n_spines)] for dend_id in dend_ids])\n",
    "MgBlock = np.array([[np.array(rec['MgBlock-{}-{}'.format(dend_id, i)]) for i in range(n_spines)] for dend_id in dend_ids])\n",
    "Vspine = np.array([[np.array(rec['Vspine-{}-{}'.format(dend_id, i)]) for i in range(n_spines)] for dend_id in dend_ids])\n",
    "Vdend = np.array([[np.array(rec['Vdend-{}-{}'.format(dend_id, i)]) for i in range(n_spines)] for dend_id in dend_ids])\n",
    "Vdend_bp = np.array([[np.array(rec['Vdend-{}-{}-bp'.format(dend_id, i)]) for i in range(n_spines)] for dend_id in dend_ids])\n",
    "Vdend_parent = np.array(rec['Vdend-parent'])\n",
    "Vapic = np.array(rec['Vapic'])\n",
    "Vsoma = np.array(rec['Vsoma'])"
   ]
  },
  {
   "cell_type": "code",
   "execution_count": null,
   "metadata": {},
   "outputs": [],
   "source": [
    "if with_somatic_current_injection:\n",
    "    fig,ax = plt.subplots(1, 1, figsize=(10,6))\n",
    "    t0 = stim['soma'].delay\n",
    "    idx, = np.where((t > spike_times[0][-2] - 20) & (t < spike_times[0][-2] + 150))\n",
    "    ax.plot(t[idx] - spike_times[0][-2], Vsoma[idx], 'k', lw=1, label='Without somatic stimulus')\n",
    "    idx, = np.where((t > spike_times[0][-1] - 20) & (t < spike_times[0][-1] + 150))\n",
    "    ax.plot(t[idx] - spike_times[0][-1], Vsoma[idx], 'r', lw=1, label='With somatic stimulus')\n",
    "    yl = ax.get_ylim()\n",
    "    dy = yl[1] - yl[0]\n",
    "    ax.plot([0, stim['soma'].dur], yl[0] + np.zeros(2), color=[.8,.8,1], lw=5)\n",
    "    ax.text(stim['soma'].dur/2, yl[0] - dy/30, 'SOMATIC STIMULUS', horizontalalignment='center', verticalalignment='top')\n",
    "    plt.xlabel('Time since presynaptic spike arrival (ms)')\n",
    "    plt.ylabel('Membrane voltage (mV)')\n",
    "    ax.set_ylim([yl[0] - dy/10, yl[1]])\n",
    "    ax.legend(loc='best');"
   ]
  },
  {
   "cell_type": "markdown",
   "metadata": {},
   "source": [
    "#### Measure the amplitude ratio when the input is synaptic"
   ]
  },
  {
   "cell_type": "code",
   "execution_count": null,
   "metadata": {},
   "outputs": [],
   "source": [
    "idx, = np.where((t > 990) & (t < 1200))\n",
    "EPSP_spine = np.array([np.max(Vspine[i,0,idx]) - Vspine[i,0,-1] for i in range(n_apical_branches)])\n",
    "EPSP_dend = np.array([np.max(Vdend[i,0,idx]) - Vdend[i,0,-1] for i in range(n_apical_branches)])\n",
    "AR = EPSP_spine / EPSP_dend\n",
    "for i,dend_id in enumerate(dend_ids):\n",
    "    R['neck-{}'.format(dend_id)] = (AR[i] - 1) * R['dend-{}'.format(dend_id)]\n",
    "    print('=== Apical branch #{} ==='.format(dend_id))\n",
    "    print('            AR: {:.3f}'.format(AR[i]))\n",
    "    print(' Dendritic Rin: {:.0f} MOhm.'.format(R['dend-{}'.format(dend_id)]))\n",
    "    print('Spine neck Rin: {:.0f} MOhm.'.format(R['neck-{}'.format(dend_id)]))\n",
    "    print('')\n",
    "\n",
    "fig,ax = plt.subplots(1, n_apical_branches, sharex=True, sharey=True, figsize=(10,4))\n",
    "for i,dend_id in enumerate(dend_ids):\n",
    "    ax[i].plot(t[idx], Vspine[i, 0,idx], 'k', label='Spine')\n",
    "    ax[i].plot(t[idx], Vdend[i, 0,idx], 'r', label='Dendrite')\n",
    "    ax[i].set_xlabel('Time (ms)')\n",
    "    ax[i].set_title('Apical branch #{}'.format(dend_id))\n",
    "ax[0].set_ylabel('Vm (mV)')\n",
    "ax[0].legend(loc='best');"
   ]
  },
  {
   "cell_type": "markdown",
   "metadata": {},
   "source": [
    "#### Measure the dendritic EPSPs and the NMDA conductance values"
   ]
  },
  {
   "cell_type": "code",
   "execution_count": null,
   "metadata": {},
   "outputs": [],
   "source": [
    "V_soma_pks = []\n",
    "V_dend_pks = [[] for _ in range(n_apical_branches)]\n",
    "G_AMPA_pks = [[] for _ in range(n_apical_branches)]\n",
    "G_NMDA_pks = [[] for _ in range(n_apical_branches)]\n",
    "for spk in spike_times[0][:n_spines]:\n",
    "    idx, = np.where((t > spk) & (t < spk + 200))\n",
    "    V_soma_pks.append(np.argmax(Vsoma[idx]) + idx[0])\n",
    "    for i in range(n_apical_branches):\n",
    "        V_dend_pks[i].append(np.argmax(Vdend[i, 0, idx]) + idx[0])\n",
    "        G_AMPA_pks[i].append(np.argmax(gampa[i, 0, idx]) + idx[0])\n",
    "        G_NMDA_pks[i].append(np.argmax(gnmda[i, 0, idx] * MgBlock[i, 0,idx]) + idx[0])\n",
    "V_soma_pks = np.array(V_soma_pks)\n",
    "V_dend_pks = np.array(V_dend_pks)\n",
    "G_AMPA_pks = np.array(G_AMPA_pks)\n",
    "G_NMDA_pks = np.array(G_NMDA_pks)\n",
    "dV_soma = Vsoma[V_soma_pks] - Vsoma[-1]\n",
    "dV_dend = np.array([Vdend[i, 0, V_dend_pks[i]] - Vdend[i, 0, -1] for i in range(n_apical_branches)])\n",
    "dG_AMPA = np.array([gampa[i, 0, G_AMPA_pks[i]] for i in range(n_apical_branches)])\n",
    "dG_NMDA = np.array([gnmda[i, 0, G_NMDA_pks[i]] * MgBlock[i, 0, G_NMDA_pks[i]] for i in range(n_apical_branches)])"
   ]
  },
  {
   "cell_type": "markdown",
   "metadata": {},
   "source": [
    "#### Plot the time course of the dendritic EPSPs and the NMDA conductance for increasing number of synaptic inputs"
   ]
  },
  {
   "cell_type": "code",
   "execution_count": null,
   "metadata": {},
   "outputs": [],
   "source": [
    "cmap = plt.get_cmap('viridis', n_spines)\n",
    "window = [10, 100]\n",
    "fig,ax = plt.subplots(n_apical_branches, 3, figsize=(17,5*n_apical_branches), sharex=True)\n",
    "\n",
    "for branch_idx in range(n_apical_branches):\n",
    "    for i,spk in enumerate(spike_times[0][:n_spines]):\n",
    "        idx = (t > spk - window[0]) & (t < spk + window[1])\n",
    "        ax[branch_idx,0].plot(t[idx] - spk, Vsoma[idx], color=cmap(i))\n",
    "        ax[branch_idx,1].plot(t[idx] - spk, Vdend[branch_idx, 0, idx], color=cmap(i))\n",
    "        ax[branch_idx,2].plot(t[idx] - spk, gnmda[branch_idx, 0, idx] * MgBlock[branch_idx, 0, idx], color=cmap(i))\n",
    "    for i,spk in enumerate(spike_times[0][:n_spines]):\n",
    "        ax[branch_idx,0].plot(t[V_soma_pks[i]] - spk, Vsoma[V_soma_pks[i]], 'ro', markerfacecolor='w', linewidth=2)\n",
    "        ax[branch_idx,1].plot(t[V_dend_pks[branch_idx, i]] - spk, Vdend[branch_idx, 0, V_dend_pks[branch_idx, i]], \\\n",
    "                 'ro', markerfacecolor='w', linewidth=2)\n",
    "        ax[branch_idx,2].plot(t[G_NMDA_pks[branch_idx, i]] - spk, gnmda[branch_idx, 0, G_NMDA_pks[branch_idx, i]] * \\\n",
    "                 MgBlock[branch_idx, 0, G_NMDA_pks[branch_idx, i]], 'ro', markerfacecolor='w', linewidth=2)\n",
    "    ax[branch_idx,0].set_ylabel('Somatic voltage (mV)')\n",
    "    ax[branch_idx,1].set_ylabel('Dendritic voltage (mV)')\n",
    "    ax[branch_idx,2].set_ylabel('NMDA conductance (nS)')\n",
    "    ax[branch_idx,1].set_title('Apical branch #{}'.format(dend_ids[branch_idx]))\n",
    "\n",
    "for i in range(3):\n",
    "    ax[n_apical_branches-1,i].set_xlabel('Time (ms)');"
   ]
  },
  {
   "cell_type": "markdown",
   "metadata": {},
   "source": [
    "#### Plot the time course of the EPSP at each spine for increasing number of synaptic inputs"
   ]
  },
  {
   "cell_type": "code",
   "execution_count": null,
   "metadata": {},
   "outputs": [],
   "source": [
    "cmap = plt.get_cmap('viridis', n_spines)\n",
    "window = [10, 100]\n",
    "\n",
    "for branch_idx in range(n_apical_branches):\n",
    "    fig,ax = plt.subplots(3, 3, figsize=(14,10), sharex=True)\n",
    "    for n,spk in enumerate(spike_times[0][:n_spines]):\n",
    "        idx = (t > spk - window[0]) & (t < spk + window[1])\n",
    "        for i in range(3):\n",
    "            for j in range(3):\n",
    "                k = i*3 + j\n",
    "                lbl = '{} input'.format(n+1) if n == 0 else '{} inputs'.format(n+1)\n",
    "                ax[i,j].plot(t[idx] - spk, Vspine[branch_idx, k, idx], color=cmap(n), label=lbl)\n",
    "                ax[i,j].set_title('Spine #{}'.format(k+1))\n",
    "            ax[i,0].set_ylabel('Spine head voltage (mV)')\n",
    "            ax[2,i].set_xlabel('Time (ms)')\n",
    "    ax[0,0].legend(loc='best');"
   ]
  },
  {
   "cell_type": "markdown",
   "metadata": {},
   "source": [
    "#### Plot the time course of the NMDA conductance in each spine for increasing number of synaptic inputs"
   ]
  },
  {
   "cell_type": "code",
   "execution_count": null,
   "metadata": {},
   "outputs": [],
   "source": [
    "cmap = plt.get_cmap('rainbow', n_spines)\n",
    "window = [10, 100]\n",
    "\n",
    "for branch_idx in range(n_apical_branches):\n",
    "    fig,ax = plt.subplots(3, 3, figsize=(14,10), sharex=True)\n",
    "    for n,spk in enumerate(spike_times[0][:n_spines]):\n",
    "        idx = (t > spk - window[0]) & (t < spk + window[1])\n",
    "        for i in range(3):\n",
    "            for j in range(3):\n",
    "                k = i*3 + j\n",
    "                lbl = '{} input'.format(n+1) if n == 0 else '{} inputs'.format(n+1)\n",
    "                ax[i,j].plot(t[idx] - spk, gnmda[branch_idx, k, idx] * MgBlock[branch_idx, k, idx], \\\n",
    "                             color=cmap(n), label=lbl)\n",
    "                ax[i,j].set_title('Spine #{}'.format(k+1))\n",
    "            ax[i,0].set_ylabel('NMDA conductance (nS)')\n",
    "            ax[2,i].set_xlabel('Time (ms)')\n",
    "    ax[0,0].legend(loc='best');"
   ]
  },
  {
   "cell_type": "markdown",
   "metadata": {},
   "source": [
    "#### Plot the amplitude of the dendritic EPSPs and of the NMDA conductance as a function of the number of synaptic inputs"
   ]
  },
  {
   "cell_type": "code",
   "execution_count": null,
   "metadata": {},
   "outputs": [],
   "source": [
    "n = 1 + np.arange(n_spines)\n",
    "fig,ax = plt.subplots(n_apical_branches, 3, figsize=(17,5*n_apical_branches), sharex=True)\n",
    "for branch_idx in range(n_apical_branches):\n",
    "    ax[branch_idx, 0].plot(n, n * dV_dend[branch_idx, 0], 'rv-', lw=1, markerfacecolor='w', \\\n",
    "                           markersize=8, markeredgewidth=1.5, label='Linear prediction')\n",
    "    ax[branch_idx, 0].plot(n, dV_dend[branch_idx], 'ko-', lw=1, markerfacecolor='w', \\\n",
    "                           markersize=7, markeredgewidth=1.5, label='Measured')\n",
    "    ax[branch_idx, 1].plot(n, n * dV_soma[0], 'rv-', lw=1, markerfacecolor='w', markersize=8, \\\n",
    "                           markeredgewidth=1.5, label='Linear prediction')\n",
    "    ax[branch_idx, 1].plot(n, dV_soma, 'ko-', lw=1, markerfacecolor='w', markersize=7, \\\n",
    "                           markeredgewidth=1.5, label='Measured')\n",
    "    ax[branch_idx, 2].plot(n, dG_AMPA[branch_idx], 'bs-', lw=1, markerfacecolor='w', \\\n",
    "                           markersize=7, markeredgewidth=1.5, label='AMPA')\n",
    "    ax[branch_idx, 2].plot(n, dG_NMDA[branch_idx], 'ko-', lw=1, markerfacecolor='w', \\\n",
    "                           markersize=7, markeredgewidth=1.5, label='NMDA')\n",
    "    ax[branch_idx, 0].set_ylabel('Dendritic EPSP (mV)')\n",
    "    ax[branch_idx, 1].set_ylabel('Somatic EPSP (mV)')\n",
    "    ax[branch_idx, 2].set_ylabel('Conductance (nS)')\n",
    "for i in range(3):\n",
    "    ax[1,i].set_xlabel('Input number')\n",
    "ax[0,0].legend(loc='best')\n",
    "ax[0,2].legend(loc='best')\n",
    "for i in range(n_apical_branches):\n",
    "    ax[i,0].set_ylim([0, np.max([np.max(dV_dend[:,-1]), np.max(dV_dend[:,0])*n_spines]) * 1.1])\n",
    "    ax[i,1].set_ylim([0, np.max([dV_soma[-1], dV_soma[0]*n_spines]) * 1.1])\n",
    "    ax[i,2].set_ylim([np.min(dG_NMDA[:,0]) - 0.1, np.max(dG_NMDA[:,-1]) + 0.1]);"
   ]
  },
  {
   "cell_type": "code",
   "execution_count": null,
   "metadata": {},
   "outputs": [],
   "source": [
    "window = [50,200]\n",
    "fig, ax1 = plt.subplots()\n",
    "\n",
    "ax2 = ax1.twinx()\n",
    "ax2.plot(v, mg_jahr_stevens_orig(v), color=[0,0,0], lw=3, label='Original Jahr & Stevens')\n",
    "ax2.plot(v, mg_jahr_stevens_mod(v), color=[.75,.75,.75], lw=3, label='Modified Jahr & Stevens')\n",
    "ax2.legend(loc='upper left')\n",
    "ax2.tick_params(axis='y', labelcolor='tab:green')\n",
    "ax2.set_ylabel('Mg unblock')\n",
    "\n",
    "colormaps = 'gray', 'jet'\n",
    "for n,spk in enumerate(spike_times[0][:n_spines]):\n",
    "    idx, = np.where((t > spk - window[0]) & (t < spk + window[1]))\n",
    "    for branch_idx in range(n_apical_branches):\n",
    "        cmap = plt.get_cmap(colormaps[branch_idx], n_spines)\n",
    "        ax1.plot(Vdend[branch_idx, 0, idx], Vsoma[idx], color=cmap(n), lw=1)\n",
    "ax1.set_xlabel('Dendritic EPSP (mV)')\n",
    "ax1.set_ylabel('Somatic EPSP (mV)')\n",
    "ax1.tick_params(axis='y', labelcolor='tab:red')\n",
    "\n",
    "plt.xlim([-80,20]);"
   ]
  },
  {
   "cell_type": "markdown",
   "metadata": {},
   "source": [
    "#### Save the data"
   ]
  },
  {
   "cell_type": "code",
   "execution_count": null,
   "metadata": {},
   "outputs": [],
   "source": [
    "data_to_save = {'t': t, 'Vsoma': Vsoma, 'Vdend': Vdend, 'Vspine': Vspine,\n",
    "                'iampa': iampa, 'inmda': inmda, 'gampa': gampa, 'gnmda': gnmda,\n",
    "                'MgBlock': MgBlock, 'R': R, 'AR': AR, 'spike_times': spike_times,\n",
    "                'dV_soma': dV_soma, 'dV_dend': dV_dend, 'dG_AMPA': dG_AMPA, 'dG_NMDA': dG_NMDA,\n",
    "                'V_dend_pks': V_dend_pks, 'V_soma_pks': V_soma_pks, 'G_NMDA_pks': G_NMDA_pks, \n",
    "                'G_AMPA_pks': G_AMPA_pks, 'config': config}\n",
    "filename = 'synaptic_cooperativity_two_branches' + cell_type + '_' + str(individual)\n",
    "if passive:\n",
    "    filename += '_passive'\n",
    "else:\n",
    "    filename += '_active'\n",
    "if with_TTX:\n",
    "    filename += '_with_TTX'\n",
    "else:\n",
    "    filename += '_without_TTX'\n",
    "pickle.dump(data_to_save, open(filename + '.pkl', 'wb'))"
   ]
  },
  {
   "cell_type": "code",
   "execution_count": null,
   "metadata": {},
   "outputs": [],
   "source": [
    "col = 'mg'\n",
    "for i,dend_id in enumerate(dend_ids):\n",
    "    plt.plot(t, Vdend[i, 0], col[i], lw=1, label='Apical branch #{}'.format(dend_id))\n",
    "#     plt.plot(t, Vdend_bp[i, 0], col[i]+'--', lw=1, label='Apical branch #{} BP'.format(dend_id))\n",
    "plt.plot(t, Vdend_parent, 'r', lw=1, label='Parent branch')\n",
    "plt.plot(t, Vapic, color=[0,0,1], lw=1, label='Main apical')\n",
    "plt.plot(t, Vsoma, 'k', lw=1, label='Soma')\n",
    "plt.legend(loc='best')\n",
    "# plt.ylim([-50,-35])\n",
    "plt.xlim([9000, 9050]);"
   ]
  },
  {
   "cell_type": "code",
   "execution_count": null,
   "metadata": {},
   "outputs": [],
   "source": []
  }
 ],
 "metadata": {
  "kernelspec": {
   "display_name": "Python 3",
   "language": "python",
   "name": "python3"
  },
  "language_info": {
   "codemirror_mode": {
    "name": "ipython",
    "version": 3
   },
   "file_extension": ".py",
   "mimetype": "text/x-python",
   "name": "python",
   "nbconvert_exporter": "python",
   "pygments_lexer": "ipython3",
   "version": "3.7.7"
  }
 },
 "nbformat": 4,
 "nbformat_minor": 2
}
