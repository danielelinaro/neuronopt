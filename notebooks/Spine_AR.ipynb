{
 "cells": [
  {
   "cell_type": "code",
   "execution_count": 1,
   "metadata": {},
   "outputs": [
    {
     "name": "stdout",
     "output_type": "stream",
     "text": [
      "> /Users/daniele/local/lib/python3.7/site-packages/neuron/__init__.py(105)<module>()\n",
      "-> import sys\n",
      "(Pdb) c\n"
     ]
    }
   ],
   "source": [
    "import json\n",
    "import pickle\n",
    "from itertools import chain\n",
    "\n",
    "import numpy as np\n",
    "from scipy.optimize import minimize\n",
    "import matplotlib.pyplot as plt\n",
    "from matplotlib import cm\n",
    "%matplotlib inline\n",
    "\n",
    "from neuron import h\n",
    "h.load_file('stdrun.hoc')\n",
    "h.cvode_active(1)\n",
    "\n",
    "from dlutils import utils\n",
    "from dlutils.cell import Cell, branch_order\n",
    "from dlutils.synapse import AMPAExp2Synapse, NMDAExp2Synapse\n",
    "from dlutils.spine import Spine\n",
    "from dlutils.numerics import double_exp"
   ]
  },
  {
   "cell_type": "markdown",
   "metadata": {},
   "source": [
    "### General parameters"
   ]
  },
  {
   "cell_type": "code",
   "execution_count": 2,
   "metadata": {},
   "outputs": [],
   "source": [
    "cell_type = 'a-thorny'\n",
    "optimization_folder = '/Users/daniele/Postdoc/Research/Janelia/01_model_optimization/'\n",
    "\n",
    "if cell_type == 'thorny':\n",
    "    base_folder = optimization_folder + 'Thorny/DH070813/20191208071008_DH070813_/'\n",
    "    swc_file = 'DH070813-.Edit.scaled.converted.swc'\n",
    "    cell_name = 'DH070813_'\n",
    "    individual = 1\n",
    "else:\n",
    "    base_folder = optimization_folder + 'A-thorny/DH070213C3/20191206232623_DH070213C3_/'\n",
    "    swc_file = 'DH070213C3-.Edit.scaled.converted.swc'\n",
    "    cell_name = 'DH070213C3_'\n",
    "    individual = 0\n",
    "    \n",
    "swc_file = base_folder + swc_file\n",
    "params_file = base_folder + 'individual_{}.json'.format(individual)\n",
    "config_file = base_folder + 'parameters.json'\n",
    "\n",
    "passive = False\n",
    "with_TTX = True\n",
    "replace_axon = True\n",
    "add_axon_if_missing = True\n",
    "parameters = json.load(open(params_file, 'r'))\n",
    "mechanisms = utils.extract_mechanisms(config_file, cell_name)\n",
    "sim_pars = pickle.load(open(base_folder + 'simulation_parameters.pkl','rb'))\n",
    "replace_axon = sim_pars['replace_axon']\n",
    "add_axon_if_missing = not sim_pars['no_add_axon']"
   ]
  },
  {
   "cell_type": "markdown",
   "metadata": {},
   "source": [
    "### Instantiate the cell"
   ]
  },
  {
   "cell_type": "code",
   "execution_count": 3,
   "metadata": {},
   "outputs": [
    {
     "name": "stdout",
     "output_type": "stream",
     "text": [
      "One point section Import3d_Section[2] ending at line 3 has been removed\n",
      "One point section Import3d_Section[1] ending at line 2 has been removed\n"
     ]
    }
   ],
   "source": [
    "cell = Cell('CA3_cell_%d' % int(np.random.uniform()*1e5), swc_file, parameters, mechanisms)\n",
    "cell.instantiate(replace_axon, add_axon_if_missing, force_passive=passive, TTX=with_TTX)\n",
    "if cell_type == 'thorny':\n",
    "    section_num = 7\n",
    "    segment_x = 0.5\n",
    "    weights_0 = np.array([0.04, 0.1])\n",
    "else:\n",
    "    section_num = 16\n",
    "    segment_x = 0.9\n",
    "    weights_0 = np.array([0.04, 0.1])\n",
    "\n",
    "section = cell.morpho.apic[section_num]\n",
    "segment = section(segment_x)\n",
    "Ra = section.Ra"
   ]
  },
  {
   "cell_type": "code",
   "execution_count": 4,
   "metadata": {},
   "outputs": [],
   "source": [
    "for seg in cell.apical_segments:\n",
    "    if seg['seg'] == segment:\n",
    "        break\n",
    "segment_dst = seg['dst']\n",
    "segment_diam = segment.diam\n",
    "segment_branch_order = branch_order(section)"
   ]
  },
  {
   "cell_type": "code",
   "execution_count": 5,
   "metadata": {},
   "outputs": [],
   "source": [
    "def compute_Rin(seg, I0, do_plot=False):\n",
    "    stim = h.IClamp(seg)\n",
    "    stim.delay = 500\n",
    "    stim.amp = I0\n",
    "    stim.dur = 200\n",
    "\n",
    "    rec = {}\n",
    "    for lbl in 't','V':\n",
    "        rec[lbl] = h.Vector()\n",
    "    rec['t'].record(h._ref_t)\n",
    "    rec['V'].record(seg._ref_v)\n",
    "\n",
    "    h.tstop = 1000\n",
    "    h.run()\n",
    "    \n",
    "    t = np.array(rec['t'])\n",
    "    V = np.array(rec['V'])\n",
    "    idx, = np.where(t < stim.delay)\n",
    "    V0 = V[idx[-10]]\n",
    "    idx, = np.where(t < stim.delay + stim.dur)\n",
    "    V1 = V[idx[-10]]\n",
    "    dV = V1 - V0\n",
    "    Rin = dV / stim.amp\n",
    "    \n",
    "    if do_plot:\n",
    "        plt.plot(t, V, 'k')\n",
    "        plt.xlabel('Time (ms)')\n",
    "        plt.ylabel('Vm (mV)')\n",
    "        plt.xlim([480,800]);\n",
    "\n",
    "    stim.amp = 0\n",
    "    return Rin"
   ]
  },
  {
   "cell_type": "markdown",
   "metadata": {},
   "source": [
    "### Instantiate the spine"
   ]
  },
  {
   "cell_type": "code",
   "execution_count": 6,
   "metadata": {},
   "outputs": [
    {
     "name": "stdout",
     "output_type": "stream",
     "text": [
      "Spine axial resistivity: 341.46 Ohm cm.\n"
     ]
    }
   ],
   "source": [
    "# in the Harnett paper, the head is spherical with a diameter of 0.5 um: a cylinder\n",
    "# with diameter and length equal to 0.5 has the same (outer) surface area as the sphere\n",
    "head_L = 0.5\n",
    "head_diam = 0.5\n",
    "neck_L = 1.58\n",
    "neck_diam = 0.077\n",
    "spine = Spine(section, segment.x, head_L, head_diam, neck_L, neck_diam, Ra)\n",
    "spine.instantiate()"
   ]
  },
  {
   "cell_type": "markdown",
   "metadata": {},
   "source": [
    "### Compute the input resistance of the dendrite"
   ]
  },
  {
   "cell_type": "code",
   "execution_count": 7,
   "metadata": {},
   "outputs": [
    {
     "name": "stdout",
     "output_type": "stream",
     "text": [
      "R_dend = 1617.5 MOhm.\n"
     ]
    }
   ],
   "source": [
    "R_dend = compute_Rin(segment, -0.1, False)\n",
    "print('R_dend = {:.1f} MOhm.'.format(R_dend))"
   ]
  },
  {
   "cell_type": "markdown",
   "metadata": {},
   "source": [
    "#### Show where the spine is located on the dendritic tree"
   ]
  },
  {
   "cell_type": "code",
   "execution_count": 8,
   "metadata": {},
   "outputs": [
    {
     "data": {
      "image/png": "[encoded data removed]",
      "text/plain": [
       "<Figure size 720x720 with 1 Axes>"
      ]
     },
     "metadata": {
      "needs_background": "light"
     },
     "output_type": "display_data"
    }
   ],
   "source": [
    "plt.figure(figsize=(10,10))\n",
    "for sec in chain(cell.morpho.apic, cell.morpho.basal):\n",
    "    if sec in cell.morpho.apic:\n",
    "        color = 'k'\n",
    "    else:\n",
    "        color = 'b'\n",
    "    lbl = sec.name().split('.')[1].split('[')[1][:-1]\n",
    "    n = sec.n3d()\n",
    "    sec_coords = np.zeros((n,2))\n",
    "    for i in range(n):\n",
    "        sec_coords[i,:] = np.array([sec.x3d(i), sec.y3d(i)])\n",
    "    middle = int(n / 2)\n",
    "    plt.text(sec_coords[middle,0], sec_coords[middle,1], lbl, \\\n",
    "             fontsize=14, color='m')\n",
    "    plt.plot(sec_coords[:,0], sec_coords[:,1], color, lw=1)\n",
    "plt.plot(spine._points[:,0], spine._points[:,1], 'r.')\n",
    "plt.axis('equal');"
   ]
  },
  {
   "cell_type": "markdown",
   "metadata": {},
   "source": [
    "1) optimize the weights to have a comparable deflection in the spine when injecting current in both the spine and the dendrite\n",
    "<br/>\n",
    "2) compute the amplitude ratio of the EPSPs in the spine and in the dendrite when injecting current in the spine"
   ]
  },
  {
   "cell_type": "code",
   "execution_count": 9,
   "metadata": {},
   "outputs": [],
   "source": [
    "def cost(weights, target_dV, vec, time, EPSP, rec, t_onset):\n",
    "    locations = list(target_dV.keys())\n",
    "    \n",
    "    for i,k in enumerate(locations):\n",
    "        for j in range(len(time)):\n",
    "            vec[k][j] = EPSP[k][j] * weights[i]\n",
    "    h.tstop = time[-1]\n",
    "    h.run()\n",
    "    \n",
    "    t = np.array(rec['t'])\n",
    "    V = {k: np.array(rec[k]) for k in locations}\n",
    "    idx, = np.where(t < t_onset['dend'] - 10)\n",
    "    V0 = {k: V[k][idx[-1]] for k in locations}\n",
    "    idx, = np.where(t < t_onset['dend'] + 50)\n",
    "    dV = {}\n",
    "    dV['dend'] = np.max(V['dend'][idx]) - V0['dend']\n",
    "    idx, = np.where(t > t_onset['dend'] + 50)\n",
    "    dV['spine'] = np.max(V['spine'][idx]) - V0['spine']\n",
    "    return np.sum([np.abs(target_dV[k] - dV[k]) for k in locations])"
   ]
  },
  {
   "cell_type": "code",
   "execution_count": 10,
   "metadata": {},
   "outputs": [
    {
     "data": {
      "text/plain": [
       "1.0"
      ]
     },
     "execution_count": 10,
     "metadata": {},
     "output_type": "execute_result"
    }
   ],
   "source": [
    "locations = ['spine', 'dend']\n",
    "seg = {'spine': spine.head(1), 'dend': spine._sec(0.8)}\n",
    "t_onset = {'spine': 350, 'dend': 150}\n",
    "weights = [0.1, 0.1]\n",
    "\n",
    "tr = 1\n",
    "td = 10\n",
    "t_end = 400\n",
    "dt = 0.1\n",
    "time = np.arange(0, t_end, dt)\n",
    "EPSP = {k: double_exp(tr, td, t_onset[k], time) for k in t_onset}\n",
    "\n",
    "vec = {}\n",
    "vec['time'] = h.Vector(time)\n",
    "for i,k in enumerate(locations):\n",
    "    vec[k] = h.Vector(EPSP[k])\n",
    "\n",
    "stimuli = {k: h.IClamp(seg[k]) for k in seg}\n",
    "rec = {'t': h.Vector(), 'soma': h.Vector()}\n",
    "rec['t'].record(h._ref_t)\n",
    "rec['soma'].record(cell.morpho.soma[0](0.5)._ref_v)\n",
    "for k in locations:\n",
    "    stimuli[k].dur = 10 * t_end\n",
    "    rec[k] = h.Vector()\n",
    "    rec[k].record(seg[k]._ref_v)\n",
    "    \n",
    "for i,k in enumerate(locations):\n",
    "    vec[k].play(stimuli[k]._ref_amp, vec['time'], 1)\n",
    "    \n",
    "h.cvode_active(1)"
   ]
  },
  {
   "cell_type": "code",
   "execution_count": 11,
   "metadata": {},
   "outputs": [],
   "source": [
    "target_dV = {k: 20. for k in locations}\n",
    "opt = minimize(lambda x: cost(x, target_dV, vec, time, EPSP, rec, t_onset), \\\n",
    "               weights_0, \\\n",
    "               bounds = [(0,1), (0,1)], \\\n",
    "               options = {'maxiter': 20, 'disp': True})\n",
    "locations.append('soma')"
   ]
  },
  {
   "cell_type": "code",
   "execution_count": 12,
   "metadata": {},
   "outputs": [
    {
     "data": {
      "text/plain": [
       "      fun: 3.4440083496178886e-06\n",
       " hess_inv: <2x2 LbfgsInvHessProduct with dtype=float64>\n",
       "      jac: array([1541.4881446 ,  652.85739979])\n",
       "  message: b'ABNORMAL_TERMINATION_IN_LNSRCH'\n",
       "     nfev: 546\n",
       "      nit: 18\n",
       "   status: 2\n",
       "  success: False\n",
       "        x: array([0.00494153, 0.01171209])"
      ]
     },
     "execution_count": 12,
     "metadata": {},
     "output_type": "execute_result"
    }
   ],
   "source": [
    "opt"
   ]
  },
  {
   "cell_type": "code",
   "execution_count": 13,
   "metadata": {},
   "outputs": [
    {
     "name": "stdout",
     "output_type": "stream",
     "text": [
      "Cost: 3.444e-06.\n"
     ]
    },
    {
     "data": {
      "image/png": "[encoded data removed]",
      "text/plain": [
       "<Figure size 432x288 with 1 Axes>"
      ]
     },
     "metadata": {
      "needs_background": "light"
     },
     "output_type": "display_data"
    }
   ],
   "source": [
    "weights = opt['x']\n",
    "c = cost(weights, target_dV, vec, time, EPSP, rec, t_onset)\n",
    "print('Cost: {:.3e}.'.format(c))\n",
    "col = {'spine': 'g', 'dend': 'm', 'soma': 'k'}\n",
    "for k in locations:\n",
    "    plt.plot(rec['t'], rec[k], col[k], label=k)\n",
    "plt.legend(loc='best')\n",
    "plt.xlabel('Time (ms)')\n",
    "plt.ylabel('Vm (mV)');"
   ]
  },
  {
   "cell_type": "code",
   "execution_count": 14,
   "metadata": {},
   "outputs": [
    {
     "name": "stdout",
     "output_type": "stream",
     "text": [
      "Current injected in the dendrite:\n",
      "   Dendrite deflection: 10.000 mV.\n",
      "      Spine deflection: 9.707 mV.\n",
      "    Somatic deflection: 0.096 mV.\n",
      "\n",
      "Current injected in the spine:\n",
      "      Spine deflection: 10.000 mV.\n",
      "   Dendrite deflection: 4.089 mV.\n",
      "    Somatic deflection: 0.040 mV.\n",
      "\n",
      "Amplitude ratio: 2.45.\n",
      "\n",
      "R_neck: 2338.0 MOhm.\n"
     ]
    }
   ],
   "source": [
    "t = np.array(rec['t'])\n",
    "V = {k: np.array(rec[k]) for k in locations}\n",
    "idx, = np.where(t < t_onset['dend'] - 10)\n",
    "V0 = {k: V[k][idx[-1]] for k in locations}\n",
    "idx, = np.where(t < t_onset['dend'] + 50)\n",
    "dend_to_spine_dV = {}\n",
    "dend_to_spine_dV = {k: np.max(V[k][idx]) - V0[k] for k in locations}\n",
    "idx, = np.where(t > t_onset['dend'] + 50)\n",
    "spine_to_dend_dV = {k: np.max(V[k][idx]) - V0[k] for k in locations}\n",
    "\n",
    "AR = spine_to_dend_dV['spine'] / spine_to_dend_dV['dend']\n",
    "\n",
    "R_neck = (AR - 1) * R_dend\n",
    "\n",
    "print('Current injected in the dendrite:')\n",
    "print('   Dendrite deflection: {:.3f} mV.'.format(dend_to_spine_dV['dend']))\n",
    "print('      Spine deflection: {:.3f} mV.'.format(dend_to_spine_dV['spine']))\n",
    "print('    Somatic deflection: {:.3f} mV.'.format(dend_to_spine_dV['soma']))\n",
    "print('')\n",
    "print('Current injected in the spine:')\n",
    "print('      Spine deflection: {:.3f} mV.'.format(spine_to_dend_dV['spine']))\n",
    "print('   Dendrite deflection: {:.3f} mV.'.format(spine_to_dend_dV['dend']))\n",
    "print('    Somatic deflection: {:.3f} mV.'.format(spine_to_dend_dV['soma']))\n",
    "print('')\n",
    "print('Amplitude ratio: {:.2f}.'.format(AR))\n",
    "print('')\n",
    "print('R_neck: {:.1f} MOhm.'.format(R_neck))"
   ]
  },
  {
   "cell_type": "code",
   "execution_count": 15,
   "metadata": {},
   "outputs": [
    {
     "data": {
      "text/plain": [
       "{'dend_to_spine_dV': {'spine': 9.707208827310694,\n",
       "  'dend': 9.999998970340584,\n",
       "  'soma': 0.09554759967542026},\n",
       " 'spine_to_dend_dV': {'spine': 9.999997585651066,\n",
       "  'dend': 4.089179868808785,\n",
       "  'soma': 0.03985805531325326},\n",
       " 'AR': 2.4454775545405774,\n",
       " 'R_dend': 1617.4561348189036,\n",
       " 'R_neck': 2337.996538334683,\n",
       " 'target_dV': {'spine': 10.0, 'dend': 10.0},\n",
       " 'weights': array([0.00494153, 0.01171209]),\n",
       " 'cost_fun': 3.4440083496178886e-06,\n",
       " 'section_num': 16,\n",
       " 'segment_x': 0.9,\n",
       " 'Ra': 341.4626706091646,\n",
       " 'passive': True,\n",
       " 'with_TTX': False,\n",
       " 'head_L': 0.5,\n",
       " 'head_diam': 0.5,\n",
       " 'neck_L': 1.58,\n",
       " 'neck_diam': 0.077,\n",
       " 'segment_dst': 619.7123343279753,\n",
       " 'segment_diam': 0.6600274530473286,\n",
       " 'segment_branch_order': 6}"
      ]
     },
     "execution_count": 15,
     "metadata": {},
     "output_type": "execute_result"
    }
   ],
   "source": [
    "data = {'dend_to_spine_dV': dend_to_spine_dV, 'spine_to_dend_dV': spine_to_dend_dV,\n",
    "        'AR': AR, 'R_dend': R_dend, 'R_neck': R_neck, 'target_dV': target_dV,\n",
    "        'weights': weights, 'cost_fun': c, 'section_num': section_num, 'segment_x': segment_x,\n",
    "        'Ra': Ra, 'passive': passive, 'with_TTX': with_TTX, 'head_L': head_L, 'head_diam': head_diam,\n",
    "        'neck_L': neck_L, 'neck_diam': neck_diam, 'segment_dst': segment_dst, 'segment_diam': segment_diam,\n",
    "        'segment_branch_order': segment_branch_order}\n",
    "data"
   ]
  }
 ],
 "metadata": {
  "kernelspec": {
   "display_name": "Python 3",
   "language": "python",
   "name": "python3"
  },
  "language_info": {
   "codemirror_mode": {
    "name": "ipython",
    "version": 3
   },
   "file_extension": ".py",
   "mimetype": "text/x-python",
   "name": "python",
   "nbconvert_exporter": "python",
   "pygments_lexer": "ipython3",
   "version": "3.7.7"
  }
 },
 "nbformat": 4,
 "nbformat_minor": 2
}
