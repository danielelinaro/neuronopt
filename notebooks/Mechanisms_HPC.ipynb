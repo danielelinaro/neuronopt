{
 "cells": [
  {
   "cell_type": "code",
   "execution_count": null,
   "metadata": {},
   "outputs": [],
   "source": [
    "import numpy as np\n",
    "import matplotlib.pyplot as plt"
   ]
  },
  {
   "cell_type": "code",
   "execution_count": null,
   "metadata": {},
   "outputs": [],
   "source": [
    "def plot_var(xinf, taux, ax, x_range=[-150,101], col='k', label=''):\n",
    "    n = 1013\n",
    "    if x_range[0] < 0 or np.diff(np.log10(x_range)) < 3:\n",
    "        x = np.linspace(x_range[0],x_range[1],n)\n",
    "        var_name = 'Voltage (mV)'\n",
    "        mode = 'lin'\n",
    "    else:\n",
    "        x = np.logspace(np.log10(x_range[0]),np.log10(x_range[1]),n)\n",
    "        var_name = 'Calcium (mM)'\n",
    "        mode = 'log'\n",
    "    if mode == 'lin':\n",
    "        ax[0].plot(x,xinf(x),color=col,lw=1)\n",
    "    else:\n",
    "        ax[0].semilogx(x,xinf(x),color=col,lw=1)\n",
    "    ax[0].set_ylabel(r'$x_\\infty$')\n",
    "    if mode == 'lin':\n",
    "        ax[1].plot(x,taux(x),color=col,lw=1,label=label)\n",
    "    else:\n",
    "        ax[1].semilogx(x,taux(x),color=col,lw=1,label=label)\n",
    "    if label != '':\n",
    "        ax[1].legend(loc='best')\n",
    "    ax[1].set_xlabel(var_name)\n",
    "    ax[1].set_ylabel(r'$\\tau$ (ms)')"
   ]
  },
  {
   "cell_type": "code",
   "execution_count": null,
   "metadata": {},
   "outputs": [],
   "source": [
    "def trap0(v,th,a,q):\n",
    "    y = a*q*np.ones(v.shape)\n",
    "    idx, = np.where(np.abs(v-th)>1e-6)\n",
    "    y[idx] = a * (v[idx]-th) / (1-np.exp(-(v[idx]-th)/q))\n",
    "    return y"
   ]
  },
  {
   "cell_type": "code",
   "execution_count": null,
   "metadata": {},
   "outputs": [],
   "source": [
    "TEMPERATURE = 34\n",
    "R = 8.313424\n",
    "FARADAY = 96.48533212"
   ]
  },
  {
   "cell_type": "code",
   "execution_count": null,
   "metadata": {},
   "outputs": [],
   "source": [
    "# nax: transient sodium current, used in all compartments\n",
    "# I = gbar * m^3 * h * (V-ENa)\n",
    "tha = -30\n",
    "thinf = -50\n",
    "sh = 0\n",
    "Ra = 0.4\n",
    "Rb = 0.14\n",
    "Rd = 0.03\n",
    "Rg = 0.01\n",
    "qa = 7.2\n",
    "qd = 1.5\n",
    "qg = 1.5\n",
    "q10 = 2\n",
    "qinf = 4\n",
    "thi1 = -45\n",
    "thi2 = -45\n",
    "qt_nax = q10 ** ((TEMPERATURE - 24.)/10.)\n",
    "ma_nax = lambda v: trap0(v, tha+sh, Ra, qa)\n",
    "mb_nax = lambda v: trap0(-v, -tha-sh, Rb, qa)\n",
    "minf_nax = lambda v: ma_nax(v)/(ma_nax(v) + mb_nax(v))\n",
    "taum_nax = lambda v: (1/(ma_nax(v) + mb_nax(v))) / qt_nax\n",
    "ha_nax = lambda v: trap0(v, thi1+sh, Rd, qd)\n",
    "hb_nax = lambda v: trap0(-v, -thi2-sh, Rg, qg)\n",
    "hinf_nax = lambda v: 1 / (1+np.exp((v-thinf-sh)/qinf))\n",
    "tauh_nax = lambda v: (1/(ha_nax(v) + hb_nax(v))) / qt_nax"
   ]
  },
  {
   "cell_type": "code",
   "execution_count": null,
   "metadata": {},
   "outputs": [],
   "source": [
    "# nap: persistent sodium current, used in somatic and apical compartments\n",
    "# I = gbar * n^3 * (V-ENa)\n",
    "vhalf = -60.4\n",
    "K = 2\n",
    "ninf_nap = lambda v: 1 / (1 + (np.exp(vhalf - v)/K))\n",
    "taun_nap = lambda v: 10. + np.zeros(v.shape)"
   ]
  },
  {
   "cell_type": "code",
   "execution_count": null,
   "metadata": {},
   "outputs": [],
   "source": [
    "# kdr: delayed rectifier potassium current, used in all compartments\n",
    "# I = gbar * n * (V-EK)\n",
    "zetan_kdr = -3\n",
    "vhalfn_kdr = 13\n",
    "gmn_kdr = 0.7\n",
    "a0n_kdr = 0.02\n",
    "q10 = 1\n",
    "qt_kdr = q10 ** ((TEMPERATURE-24)/10)\n",
    "na_kdr = lambda v: np.exp(1.e-3*zetan_kdr*(v - vhalfn_kdr)*9.648e4/(8.315*(273.16 + TEMPERATURE)))\n",
    "nb_kdr = lambda v: np.exp(1.e-3*zetan_kdr*gmn_kdr*(v - vhalfn_kdr)*9.648e4/(8.315*(273.16 + TEMPERATURE))) \n",
    "ninf_kdr = lambda v: 1 / (1 + na_kdr(v))\n",
    "taun_kdr = lambda v: nb_kdr(v) / (qt_kdr * a0n_kdr * (1+na_kdr(v)))"
   ]
  },
  {
   "cell_type": "code",
   "execution_count": null,
   "metadata": {},
   "outputs": [],
   "source": [
    "# km: muscarinic potassium current, used in somatic and axonal compartments\n",
    "# I = gbar * m * (V-EK)\n",
    "b0 = 60\n",
    "a0t = 0.003\n",
    "vhalfl = -40\n",
    "vhalft = -42\n",
    "sh_km = 0\n",
    "kl = -10\n",
    "zetat = 7\n",
    "gmt = 0.4\n",
    "q10 = 5\n",
    "qt_km = q10 ** ((TEMPERATURE-35)/10)\n",
    "ma_km = lambda v: np.exp(0.0378 * zetat * (v - vhalft - sh_km)) \n",
    "mb_km = lambda v: np.exp(0.0378 * zetat * gmt * (v - vhalft - sh_km)) \n",
    "minf_km = lambda v: (1. / (1 + np.exp((v - vhalfl - sh)/kl)))\n",
    "taum_km = lambda v: b0 + mb_km(v) / (a0t * (1 + ma_km(v)))"
   ]
  },
  {
   "cell_type": "code",
   "execution_count": null,
   "metadata": {},
   "outputs": [],
   "source": [
    "# kap: A-type potassium current, used in proximal dendritic compartments\n",
    "# I = gbar * n * l * (V-EK)\n",
    "pw = -1\n",
    "tq = -40\n",
    "qq = 5\n",
    "gmn_kap = 0.55\n",
    "a0n_kap = 0.05\n",
    "zetan_kap = -1.5\n",
    "zetal_kap = 3\n",
    "vhalfn_kap = 11\n",
    "vhalfl_kap = -56\n",
    "lmin = 2\n",
    "qtl = 1\n",
    "q10 = 5\n",
    "qt_kap = q10 ** ((TEMPERATURE - 24.)/10.)\n",
    "zeta_kap = lambda v: zetan_kap + pw / (1+np.exp((v-tq)/qq))\n",
    "na_kap = lambda v: np.exp(1e-3 * zeta_kap(v) * (v-vhalfn_kap) * 9.648e4 / (8.315*(273.16+TEMPERATURE)))\n",
    "nb_kap = lambda v: np.exp(1e-3 * zeta_kap(v) * gmn_kap * (v-vhalfn_kap) * 9.648e4 / (8.315*(273.16+TEMPERATURE)))\n",
    "ninf_kap = lambda v: 1 / (1 + na_kap(v))\n",
    "taun_kap = lambda v: nb_kap(v) / (qt_kap * a0n_kap * (1+na_kap(v)))\n",
    "la_kap = lambda v: np.exp(1e-3 * zetal_kap * (v-vhalfl_kap) * 9.648e4 / (8.315*(273.16+TEMPERATURE)))\n",
    "linf_kap = lambda v: 1 / (1 + la_kap(v))\n",
    "def taul_kap(v):\n",
    "    tau = 0.26 * (v+50) / qtl\n",
    "    tau[tau < lmin/qtl] = lmin / qtl\n",
    "    return tau"
   ]
  },
  {
   "cell_type": "code",
   "execution_count": null,
   "metadata": {},
   "outputs": [],
   "source": [
    "# kad: A-type potassium current, used in distal dendritic compartments\n",
    "# I = gbar * n * l * (V-EK)\n",
    "pw = -1\n",
    "tq = -40\n",
    "qq = 5\n",
    "gmn_kad = 0.39\n",
    "a0n_kad = 0.1\n",
    "zetan_kad = -1.8\n",
    "zetal_kad = 3\n",
    "vhalfn_kad = -1\n",
    "vhalfl_kad = -56\n",
    "lmin = 2\n",
    "qtl = 1\n",
    "q10 = 5\n",
    "qt_kad = q10 ** ((TEMPERATURE - 24.)/10.)\n",
    "zeta_kad = lambda v: zetan_kad + pw / (1+np.exp((v-tq)/qq))\n",
    "na_kad = lambda v: np.exp(1e-3 * zeta_kad(v) * (v-vhalfn_kad) * 9.648e4 / (8.315*(273.16+TEMPERATURE)))\n",
    "nb_kad = lambda v: np.exp(1e-3 * zeta_kad(v) * gmn_kad * (v-vhalfn_kad) * 9.648e4 / (8.315*(273.16+TEMPERATURE)))\n",
    "ninf_kad = lambda v: 1 / (1 + na_kad(v))\n",
    "taun_kad = lambda v: nb_kad(v) / (qt_kad * a0n_kad * (1+na_kad(v)))\n",
    "la_kad = lambda v: np.exp(1e-3 * zetal_kad * (v-vhalfl_kad) * 9.648e4 / (8.315*(273.16+TEMPERATURE)))\n",
    "linf_kad = lambda v: 1 / (1 + la_kad(v))\n",
    "def taul_kad(v):\n",
    "    tau = 0.26 * (v+50) / qtl\n",
    "    tau[tau < lmin/qtl] = lmin / qtl\n",
    "    return tau"
   ]
  },
  {
   "cell_type": "code",
   "execution_count": null,
   "metadata": {},
   "outputs": [],
   "source": [
    "# cagk: calcium-activated potassium current, used in somatic and dendritic compartments\n",
    "# I = gbar * o * (V-EK)\n",
    "k1 = 0.48e-3\n",
    "k2 = 0.13e-6\n",
    "d1 = 0.84\n",
    "d2 = 1.0\n",
    "abar = 0.28\n",
    "bbar = 0.48\n",
    "exp1 = lambda k,d,v: k * np.exp(-2 * d * FARADAY * v / R / (273.15 + TEMPERATURE))\n",
    "oa_cagk = lambda v,cai: cai * abar / (cai + exp1(k1,d1,v))\n",
    "ob_cagk = lambda v,cai: bbar / (1 + cai / exp1(k2,d2,v))\n",
    "oinf_cagk = lambda v,cai: oa_cagk(v,cai) / (oa_cagk(v,cai) + ob_cagk(v,cai))\n",
    "tauo_cagk = lambda v,cai: 1 / (oa_cagk(v,cai) + ob_cagk(v,cai))"
   ]
  },
  {
   "cell_type": "code",
   "execution_count": null,
   "metadata": {},
   "outputs": [],
   "source": [
    "# kca: slow calcium-activated potassium current, used in somatic and dendritic compartments\n",
    "# I = gbar * m^3 * (V-EK)\n",
    "cac = 0.00035\n",
    "beta = 0.03\n",
    "taumin = 0.5\n",
    "tadj = 3 ** ((TEMPERATURE-22.0)/10)\n",
    "car = lambda cai,n=1: (cai/cac)**4 + np.zeros(n)\n",
    "minf_kca = lambda v,cai: car(cai,v.shape[0]) / (1 + car(cai,v.shape[0]))\n",
    "def taum_kca(v, cai):\n",
    "    tau =  1 / beta / (1 + car(cai,v.shape[0])) / tadj\n",
    "    tau[tau < taumin] = taumin\n",
    "    return tau"
   ]
  },
  {
   "cell_type": "code",
   "execution_count": null,
   "metadata": {},
   "outputs": [],
   "source": [
    "# cal: L-type calcium channel, used in somatic and dendritic compartments\n",
    "q10 = 5\n",
    "qt_cal = q10 ** ((TEMPERATURE - 25)/10)\n",
    "ma_cal = lambda v: 15.69*(-1.0*v+81.5)/(np.exp((-1.0*v+81.5)/10.0)-1.0)\n",
    "mb_cal = lambda v: 1 / ((ma_cal(v) + 0.29*np.exp(-v/10.86)))\n",
    "minf_cal = lambda v: ma_cal(v) * mb_cal(v)\n",
    "def taum_cal(v):\n",
    "    a0m = 0.1\n",
    "    vhalfm = 4\n",
    "    zetam = 2\n",
    "    gmm = 0.1\n",
    "    mmin = 0.2\n",
    "    betmt = np.exp(0.0378 * zetam * gmm * (v-vhalfm))\n",
    "    alpmt = np.exp(0.0378 * zetam * (v-vhalfm))\n",
    "    tau = betmt / (qt_cal * a0m * (1+alpmt))\n",
    "    tau[tau<mmin/qt_cal] = mmin / qt_cal\n",
    "    return tau"
   ]
  },
  {
   "cell_type": "code",
   "execution_count": null,
   "metadata": {},
   "outputs": [],
   "source": [
    "# cat: T-type calcium channel, used in somatic and dendritic compartments\n",
    "q10 = 5\n",
    "qt_cat = q10 ** ((TEMPERATURE-25)/10)\n",
    "ma_cat = lambda v: 0.2*(-1.0*v+19.26)/(np.exp((-1.0*v+19.26)/10.0)-1.0)\n",
    "mb_cat = lambda v: 0.009*np.exp(-v/22.03)\n",
    "minf_cat = lambda v: ma_cat(v) / (ma_cat(v) + mb_cat(v))\n",
    "def taum_cat(v):\n",
    "    a0m = 0.04\n",
    "    mmin = 0.2\n",
    "    zetam = 2\n",
    "    gmm = 0.1\n",
    "    vhalfm = -28\n",
    "    alpmt = lambda v: np.exp(0.0378*zetam*(v-vhalfm))\n",
    "    betmt = lambda v: np.exp(0.0378*zetam*gmm*(v-vhalfm))\n",
    "    tau = betmt(v) / (qt_cat * a0m * (1+alpmt(v)))\n",
    "    tau[tau < mmin] = mmin\n",
    "    return tau\n",
    "\n",
    "ha_cat = lambda v: 1e-6*np.exp(-v/16.26)\n",
    "hb_cat = lambda v: 1/(np.exp((-v+29.79)/10.)+1.)\n",
    "hinf_cat = lambda v: ha_cat(v) / (ha_cat(v) + hb_cat(v))\n",
    "def tauh_cat(v):\n",
    "    a0h = 0.015\n",
    "    hmin = 10\n",
    "    zetah = 3.5\n",
    "    gmh = 0.6\n",
    "    vhalfh = -75\n",
    "    alph = lambda v: np.exp(0.0378*zetah*(v-vhalfh))\n",
    "    beth = lambda v: np.exp(0.0378*zetah*gmh*(v-vhalfh))\n",
    "    tau = beth(v) / (a0h*(1+alph(v)))\n",
    "    tau[tau < hmin] = hmin\n",
    "    return tau"
   ]
  },
  {
   "cell_type": "code",
   "execution_count": null,
   "metadata": {},
   "outputs": [],
   "source": [
    "# can: N-type calcium channel, used in somatic and dendritic compartments\n",
    "q10 = 5\n",
    "qt_can = q10 ** ((TEMPERATURE-25)/10)\n",
    "ma_can = lambda v: 0.1967*(-1.0*v+19.88)/(np.exp((-1.0*v+19.88)/10.0)-1.0)\n",
    "mb_can = lambda v: 1 / (ma_cat(v) + 0.046*np.exp(-v/20.73))\n",
    "minf_can = lambda v: ma_can(v) * mb_can(v)\n",
    "def taum_can(v):\n",
    "    zetam = 2\n",
    "    vhalfm = -14\n",
    "    gmm = 0.1\n",
    "    mmin = 0.2\n",
    "    a0m = 0.03\n",
    "    alpmt = lambda v: np.exp(0.0378*zetam*(v-vhalfm))\n",
    "    betmt = lambda v: np.exp(0.0378*zetam*gmm*(v-vhalfm))\n",
    "    tau = betmt(v) / (qt_can*a0m*(1 + alpmt(v)))\n",
    "    tau[tau < mmin/qt_can] = mmin/qt_can\n",
    "    return tau\n",
    "\n",
    "ha_can = lambda v: 1.6e-4*np.exp(-v/48.4)\n",
    "hb_can = lambda v: 1/(ha_can(v) + 1/(np.exp((-v+39.0)/10.)+1.))\n",
    "hinf_can = lambda v: ha_can(v) * hb_can(v)\n",
    "tauh_can = lambda v: 80 + np.zeros(v.shape)"
   ]
  },
  {
   "cell_type": "markdown",
   "metadata": {},
   "source": [
    "### Sodium currents"
   ]
  },
  {
   "cell_type": "code",
   "execution_count": null,
   "metadata": {},
   "outputs": [],
   "source": [
    "fig,ax = plt.subplots(2, 1, sharex=True, figsize=(8,7))\n",
    "plot_var(minf_nax, taum_nax, ax, col=[0,0,0], label='nax m')\n",
    "plot_var(hinf_nax, tauh_nax, ax, col=[.7,0,0], label='nax h')\n",
    "plot_var(ninf_nap, taun_nap, ax, col=[0,.7,0], label='nap n')"
   ]
  },
  {
   "cell_type": "markdown",
   "metadata": {},
   "source": [
    "### Potassium currents"
   ]
  },
  {
   "cell_type": "code",
   "execution_count": null,
   "metadata": {},
   "outputs": [],
   "source": [
    "fig,ax = plt.subplots(2, 1, sharex=True, figsize=(8,7))\n",
    "plot_var(ninf_kdr, taun_kdr, ax, col=[0,0,0], label='kdr n')\n",
    "plot_var(minf_km, taum_km, ax, col=[1,0,.7], label='km m')\n",
    "plot_var(ninf_kap, taun_kap, ax, col=[1,0,0], label='kap n')\n",
    "plot_var(linf_kap, taul_kap, ax, col=[1,.7,0], label='kap l')\n",
    "plot_var(ninf_kad, taun_kad, ax, col=[0,0,1], label='kad n')\n",
    "plot_var(linf_kad, taul_kad, ax, col=[0,.7,1], label='kad l')"
   ]
  },
  {
   "cell_type": "markdown",
   "metadata": {},
   "source": [
    "### Calcium-dependent potassium currents"
   ]
  },
  {
   "cell_type": "code",
   "execution_count": null,
   "metadata": {},
   "outputs": [],
   "source": [
    "fig,ax = plt.subplots(2, 1, sharex=True, figsize=(8,7))\n",
    "cmap = [[0,0,0], [.4,.4,.4], [.7,.7,.7]]\n",
    "for i,cai in enumerate((50, 500, 5000)):\n",
    "    plot_var(lambda v: oinf_cagk(v,cai*1e-6), lambda v: tauo_cagk(v,cai*1e-6), ax, \\\n",
    "             col=cmap[i], label='cagk o {}e-6'.format(cai))\n",
    "cmap = [[1,0,0], [1,.4,.4], [1,.7,.7]]\n",
    "for i,cai in enumerate((50, 500, 5000)):\n",
    "    plot_var(lambda v: minf_kca(v,cai*1e-6), lambda v: taum_kca(v,cai*1e-6), ax, \\\n",
    "             col=cmap[i], label='kca m {}e-6'.format(cai))"
   ]
  },
  {
   "cell_type": "markdown",
   "metadata": {},
   "source": [
    "### Calcium currents"
   ]
  },
  {
   "cell_type": "code",
   "execution_count": null,
   "metadata": {},
   "outputs": [],
   "source": [
    "fig,ax = plt.subplots(2, 1, sharex=True, figsize=(8,7))\n",
    "plot_var(minf_cal, taum_cal, ax, col=[0,0,0], label='cal m')\n",
    "plot_var(minf_cat, taum_cat, ax, col=[1,0,0], label='cat m')\n",
    "plot_var(hinf_cat, tauh_cat, ax, col=[1,.5,0], label='cat h')\n",
    "plot_var(minf_can, taum_can, ax, col=[0,0,1], label='can m')\n",
    "plot_var(hinf_can, tauh_can, ax, col=[0,.5,1], label='can h')"
   ]
  }
 ],
 "metadata": {
  "kernelspec": {
   "display_name": "Python 3",
   "language": "python",
   "name": "python3"
  },
  "language_info": {
   "codemirror_mode": {
    "name": "ipython",
    "version": 3
   },
   "file_extension": ".py",
   "mimetype": "text/x-python",
   "name": "python",
   "nbconvert_exporter": "python",
   "pygments_lexer": "ipython3",
   "version": "3.7.2"
  }
 },
 "nbformat": 4,
 "nbformat_minor": 2
}
