{
 "cells": [
  {
   "cell_type": "code",
   "execution_count": 2,
   "metadata": {},
   "outputs": [],
   "source": [
    "import numpy as np\n",
    "from numpy.random import RandomState, SeedSequence, MT19937\n",
    "import matplotlib.pyplot as plt\n",
    "import matplotlib\n",
    "%matplotlib inline"
   ]
  },
  {
   "cell_type": "code",
   "execution_count": 2,
   "metadata": {},
   "outputs": [],
   "source": [
    "def make_gamma_spike_train(k, rate, tend=None, Nev=None, refractory_period=0, random_state=None):\n",
    "    from scipy.stats import gamma\n",
    "    if Nev is None and tend is not None:\n",
    "        Nev = int(np.ceil(tend * rate))\n",
    "    ISIs = []\n",
    "    while len(ISIs) < Nev:\n",
    "        ISI = gamma.rvs(k, loc=0, scale=1 / (k * rate), size=1, random_state=random_state)\n",
    "        if ISI > refractory_period:\n",
    "            ISIs.append(ISI)\n",
    "    spks = np.cumsum(ISIs)\n",
    "    if tend is not None:\n",
    "        spks = spks[spks < tend]\n",
    "    return spks\n",
    "\n",
    "\n",
    "make_poisson_spike_train = lambda rate, tend=None, Nev=None, refractory_period=0, random_state=None: \\\n",
    "    make_gamma_spike_train(1, rate, tend, Nev, refractory_period, random_state)"
   ]
  },
  {
   "cell_type": "code",
   "execution_count": 33,
   "metadata": {},
   "outputs": [
    {
     "name": "stdout",
     "output_type": "stream",
     "text": [
      "#440154\n",
      "#414487\n",
      "#2a788e\n",
      "#22a884\n",
      "#7ad151\n",
      "#fde725\n"
     ]
    },
    {
     "data": {
      "image/png": "[encoded data removed]",
      "text/plain": [
       "<Figure size 288x432 with 4 Axes>"
      ]
     },
     "metadata": {
      "needs_background": "light"
     },
     "output_type": "display_data"
    }
   ],
   "source": [
    "seed = 50\n",
    "rs = RandomState(MT19937(SeedSequence(seed)))\n",
    "n_spikes = 6\n",
    "cmap = plt.get_cmap('viridis', n_spikes)\n",
    "rates = (50,100,200,400)\n",
    "fig,ax = plt.subplots(4, 1, figsize=(4,len(rates)*1.5), sharex=True)\n",
    "for i,rate in enumerate(rates):\n",
    "    spks = make_poisson_spike_train(rate, Nev=n_spikes, random_state=rs)\n",
    "    idx = np.random.permutation(n_spikes)\n",
    "    for j,spk in enumerate(spks):\n",
    "        ax[i].plot(spk + np.zeros(2), [idx[j],idx[j]+0.8], color=cmap(idx[j]), lw=2)\n",
    "    ax[i].set_title(f'F = {rate} Hz')\n",
    "    ax[i].axis('off')\n",
    "x = np.array([50e-3, 100e-3])\n",
    "y = len(rates) + np.zeros(2)\n",
    "ax[-1].plot(x, y, 'k', lw=2)\n",
    "ax[-1].text(x.sum() / 2, y[0] - 0.1, f'{np.diff(x)[0]*1e3:.0f} ms', horizontalalignment='center', verticalalignment='top')\n",
    "fig.tight_layout()\n",
    "fig.savefig('poisson.pdf')\n",
    "for i in range(n_spikes):\n",
    "    col = cmap(i)\n",
    "    print(matplotlib.colors.rgb2hex(col))"
   ]
  },
  {
   "cell_type": "code",
   "execution_count": 4,
   "metadata": {},
   "outputs": [],
   "source": [
    "dt = 1         # [ms]\n",
    "tstop = 1e3    # [ms]\n",
    "seed = 100\n",
    "rs = RandomState(MT19937(SeedSequence(seed)))\n",
    "t = np.arange(0, tstop, dt)\n",
    "n_samples = t.size\n",
    "OU = np.zeros(n_samples)\n",
    "rnd = rs.normal(size=n_samples)\n",
    "mean = 0\n",
    "stddev = 1\n",
    "tau = 50\n",
    "const = 2 * stddev**2 / tau\n",
    "mu = np.exp(-dt / tau)\n",
    "coeff = np.sqrt(const * tau / 2 * (1 - mu ** 2))\n",
    "OU[0] = mean\n",
    "for i in range(1,n_samples):\n",
    "    OU[i] = mean + mu * (OU[i-1] - mean) + coeff * rnd[i]"
   ]
  },
  {
   "cell_type": "code",
   "execution_count": 5,
   "metadata": {},
   "outputs": [
    {
     "data": {
      "image/png": "[encoded data removed]",
      "text/plain": [
       "<Figure size 432x144 with 1 Axes>"
      ]
     },
     "metadata": {
      "needs_background": "light"
     },
     "output_type": "display_data"
    }
   ],
   "source": [
    "fig,ax = plt.subplots(1, 1, figsize=(6,2))\n",
    "ax.plot(t, OU, 'k', lw=0.5)\n",
    "ax.axis('off')\n",
    "fig.tight_layout()\n",
    "fig.savefig('ou.pdf')"
   ]
  },
  {
   "cell_type": "code",
   "execution_count": 84,
   "metadata": {},
   "outputs": [
    {
     "data": {
      "image/png": "[encoded data removed]",
      "text/plain": [
       "<Figure size 288x288 with 2 Axes>"
      ]
     },
     "metadata": {
      "needs_background": "light"
     },
     "output_type": "display_data"
    }
   ],
   "source": [
    "folder = '/Users/daniele/Postdoc/Research/CA3/OPTIMIZATIONS/A-thorny/DH070213C3/20191206232623_DH070213C3_/'\n",
    "data_files = {100: folder + 'synaptic_activation_20210702-104747.npz',\n",
    "              200: folder + 'synaptic_activation_20210702-105703.npz'}\n",
    "burst_idx = {100: 1, 200: 4}\n",
    "fig,ax = plt.subplots(2, 1, figsize=(4,4))\n",
    "cmap = plt.get_cmap('viridis', 6)\n",
    "for i,F in enumerate((100, 200)):\n",
    "    data = np.load(data_files[F], allow_pickle=True)\n",
    "    time = data['time']\n",
    "    Vsoma = data['Vsoma']\n",
    "    Vdend = data['Vdend']\n",
    "    spike_times = data['spike_times']\n",
    "    presyn_spike_times = [spike_times[burst_idx[F]] for spike_times in data['presyn_spike_times']]\n",
    "    presyn_burst_times = data['presyn_burst_times']\n",
    "    burst_time = presyn_burst_times[burst_idx[F]]\n",
    "    idx, = np.where((time > burst_time - 5) & (time < burst_time + 150))\n",
    "    ax[i].plot(time[idx] - burst_time, Vsoma[idx], 'k', lw=1, label='Soma')\n",
    "    ax[i].plot(time[idx] - burst_time, Vdend[idx], 'r', lw=1, label='Dendrite')\n",
    "    for j,presyn_spike_time in enumerate(presyn_spike_times - burst_time):\n",
    "        ax[i].plot(presyn_spike_time + np.zeros(2), [-80 - j * 5, -80 - j * 5  + 4], color=cmap(j), lw=2)\n",
    "    ax[i].set_ylim([-110,50])\n",
    "    ax[i].axis('off')\n",
    "fig.tight_layout()\n",
    "fig.savefig('traces.pdf')"
   ]
  }
 ],
 "metadata": {
  "kernelspec": {
   "display_name": "Python 3",
   "language": "python",
   "name": "python3"
  },
  "language_info": {
   "codemirror_mode": {
    "name": "ipython",
    "version": 3
   },
   "file_extension": ".py",
   "mimetype": "text/x-python",
   "name": "python",
   "nbconvert_exporter": "python",
   "pygments_lexer": "ipython3",
   "version": "3.7.10"
  }
 },
 "nbformat": 4,
 "nbformat_minor": 4
}
