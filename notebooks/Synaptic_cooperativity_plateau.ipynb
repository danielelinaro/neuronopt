{
 "cells": [
  {
   "cell_type": "code",
   "execution_count": null,
   "metadata": {},
   "outputs": [],
   "source": [
    "import os\n",
    "import json\n",
    "import pickle\n",
    "from itertools import chain\n",
    "\n",
    "import numpy as np\n",
    "from scipy.interpolate import interp1d\n",
    "import matplotlib.pyplot as plt\n",
    "%matplotlib inline\n",
    "\n",
    "from neuron import h\n",
    "from dlutils import utils\n",
    "from dlutils.cell import Cell, branch_order\n",
    "from dlutils.synapse import AMPANMDAExp2Synapse\n",
    "from dlutils.spine import Spine"
   ]
  },
  {
   "cell_type": "markdown",
   "metadata": {},
   "source": [
    "### General parameters"
   ]
  },
  {
   "cell_type": "code",
   "execution_count": null,
   "metadata": {},
   "outputs": [],
   "source": [
    "optimization_folder = '/Users/daniele/Postdoc/Research/Janelia/01_model_optimization/'\n",
    "\n",
    "# config_file = 'synaptic_cooperativity_thorny_passive.json'\n",
    "# config_file = 'synaptic_cooperativity_thorny_active_with_TTX.json'\n",
    "# config_file = 'synaptic_cooperativity_thorny_active.json'\n",
    "# config_file = 'synaptic_cooperativity_a-thorny_passive.json'\n",
    "# config_file = 'synaptic_cooperativity_a-thorny_active_with_TTX.json'\n",
    "config_file = 'synaptic_cooperativity_a-thorny_active.json'\n",
    "config = json.load(open(config_file, 'r'))\n",
    "\n",
    "cell_type = config['cell_type']\n",
    "prefix = cell_type[0].upper() + cell_type[1:]\n",
    "base_folder = optimization_folder + prefix + '/' + config['cell_name'] + '/' + config['optimization_run'] + '/'\n",
    "swc_file = config['swc_file']\n",
    "cell_name = config['cell_name'] + '_'\n",
    "individual = config['individual']\n",
    "\n",
    "swc_file = base_folder + swc_file\n",
    "params_file = base_folder + 'individual_{}.json'.format(individual)\n",
    "config_file = base_folder + 'parameters.json'\n",
    "\n",
    "passive = config['passive']\n",
    "with_TTX = config['with_TTX']\n",
    "replace_axon = True\n",
    "add_axon_if_missing = True\n",
    "parameters = json.load(open(params_file, 'r'))\n",
    "mechanisms = utils.extract_mechanisms(config_file, cell_name)\n",
    "sim_pars = pickle.load(open(base_folder + 'simulation_parameters.pkl','rb'))\n",
    "replace_axon = sim_pars['replace_axon']\n",
    "add_axon_if_missing = not sim_pars['no_add_axon']"
   ]
  },
  {
   "cell_type": "markdown",
   "metadata": {},
   "source": [
    "### Functions used to describe the removal of the Mg block from the NMDA synapse\n",
    "\n",
    "#### Maex & De Schutter\n",
    "Maex, R., & De Schutter, E. (1998). Synchronization of Golgi and granule cell firing in a detailed network model of the cerebellar granule cell layer. Journal of Neurophysiology, 80(5), 2521–2537. http://doi.org/10.1152/jn.1998.80.5.2521\n",
    "\n",
    "#### Jahr & Stevens\n",
    "Jahr, C. E., & Stevens, C. F. (1990). A quantitative description of NMDA receptor-channel kinetic behavior. The Journal of Neuroscience, 10(6), 1830–1837.\n",
    "\n",
    "Jahr, C. E., & Stevens, C. F. (1990). Voltage dependence of NMDA-activated macroscopic conductances predicted by single-channel kinetics. The Journal of Neuroscience, 10(9), 3178–3182. http://doi.org/10.1523/JNEUROSCI.10-09-03178.1990\n",
    "\n",
    "#### Harnett\n",
    "Harnett, M. T., Makara, J. K., Spruston, N., Kath, W. L., & Magee, J. C. (2012). Synaptic amplification by dendritic spines enhances input cooperativity. Nature, 491(7425), 599–602. http://doi.org/10.1038/nature11554\n",
    "\n",
    "There is a mistake in the definition of the Mg removal function: the units of the expression found in the paper are incorrect. The correct function is the one found here and is actually also found in the second of Jahr & Stevens's papers (equation 5)."
   ]
  },
  {
   "cell_type": "code",
   "execution_count": null,
   "metadata": {},
   "outputs": [],
   "source": [
    "v = np.arange(-100, 50)\n",
    "extMgConc = config['NMDA']['extMgConc']\n",
    "\n",
    "mg_maex_orig = lambda v: 1. / (1. + 0.2801 * extMgConc * np.exp(-0.062 * (v - 10)))\n",
    "\n",
    "mg_jahr_stevens_orig = lambda v: 1. / (1 + (extMgConc / 9.888) * np.exp(0.09137 * (2.222 - v)))\n",
    "\n",
    "mg_harnett = lambda v: 1. / (1. + (extMgConc / 3.57) * np.exp(-0.062 * v))\n",
    "\n",
    "plt.figure(figsize=(8,4))\n",
    "plt.plot(v, mg_harnett(v), 'k--', lw=3, label='Harnett')\n",
    "plt.plot(v, mg_maex_orig(v), color=[0,.5,0], label='Original Maex & De Schutter')\n",
    "\n",
    "if config['NMDA']['model'] == 'MDS':\n",
    "    alpha_vspom = config['NMDA']['alpha_vspom'] # -0.124\n",
    "    v0_block    = config['NMDA']['v0_block']    # -10\n",
    "    eta         = config['NMDA']['eta']         # 0.02801\n",
    "    mg_maex_mod = lambda v: 1. / (1. + eta * extMgConc * np.exp(alpha_vspom * (v - v0_block)))\n",
    "    plt.plot(v, mg_maex_mod(v), color=[.5,1,.5], label='Modified Maex & De Schutter')\n",
    "\n",
    "plt.plot(v, mg_jahr_stevens_orig(v), color=[.65,0,0], label='Original Jahr & Stevens')\n",
    "\n",
    "if config['NMDA']['model'] == 'JS':\n",
    "    Kd    = config['NMDA']['Kd']    # (mM)\n",
    "    gamma = config['NMDA']['gamma'] # (mV^-1)\n",
    "    sh    = config['NMDA']['sh']    # (mV)\n",
    "    mg_jahr_stevens_mod = lambda v: 1. / (1 + (extMgConc / Kd) * np.exp(gamma * (sh - v)))\n",
    "    plt.plot(v, mg_jahr_stevens_mod(v), color=[1,.5,.5], label='Modified Jahr & Stevens')\n",
    "\n",
    "plt.xlabel('Voltage (mV)')\n",
    "plt.ylabel('Mg unblock')\n",
    "plt.legend(loc='best');"
   ]
  },
  {
   "cell_type": "markdown",
   "metadata": {},
   "source": [
    "### Instantiate the cell"
   ]
  },
  {
   "cell_type": "code",
   "execution_count": null,
   "metadata": {},
   "outputs": [],
   "source": [
    "cell = Cell('CA3_cell_%d' % int(np.random.uniform()*1e5), swc_file, parameters, mechanisms)\n",
    "cell.instantiate(replace_axon, add_axon_if_missing, force_passive=passive, TTX=with_TTX)\n",
    "section_num = config['section_num']\n",
    "section = cell.morpho.apic[section_num]\n",
    "Ra = section.Ra * config['Ra_neck_coeff']\n",
    "print('Branch order of section {}: {}.'.format(section.name(), branch_order(section)))"
   ]
  },
  {
   "cell_type": "markdown",
   "metadata": {},
   "source": [
    "### Instantiate the spines"
   ]
  },
  {
   "cell_type": "code",
   "execution_count": null,
   "metadata": {
    "scrolled": true
   },
   "outputs": [],
   "source": [
    "# in the Harnett paper, the head is spherical with a diameter of 0.5 um: a cylinder\n",
    "# with diameter and length equal to 0.5 has the same (outer) surface area as the sphere\n",
    "head_L = config['spine']['head_L']           # [um]\n",
    "head_diam = config['spine']['head_diam']     # [um]\n",
    "neck_L = config['spine']['neck_L']           # [um]\n",
    "neck_diam = config['spine']['neck_diam']     # [um]\n",
    "spine_distance = config['spine_distance']    # [um] distance between neighboring spines\n",
    "n_spines = config['n_spines']                # number of spines\n",
    "L = spine_distance * (n_spines - 1)\n",
    "norm_L = L / section.L\n",
    "if section_num == 0 or (cell_type == 'thorny' and section_num == 10):\n",
    "    spines = [Spine(section, x, head_L, head_diam, neck_L, neck_diam, Ra, i) \\\n",
    "              for i,x in enumerate(np.linspace(0.5 - norm_L/2, 0.5 + norm_L/2, n_spines))]\n",
    "else:\n",
    "    spines = [Spine(section, x, head_L, head_diam, neck_L, neck_diam, Ra, i) \\\n",
    "              for i,x in enumerate(np.linspace(0.2 - norm_L/2, 0.2 + norm_L/2, n_spines))]\n",
    "\n",
    "for spine in spines:\n",
    "    spine.instantiate()"
   ]
  },
  {
   "cell_type": "markdown",
   "metadata": {},
   "source": [
    "#### Check the location of the spines in terms of distinct segments"
   ]
  },
  {
   "cell_type": "code",
   "execution_count": null,
   "metadata": {},
   "outputs": [],
   "source": [
    "segments = [section(spines[0]._sec_x)]\n",
    "segments_idx = [[0]]\n",
    "for i,spine in enumerate(spines[1:]):\n",
    "    if section(spine._sec_x) == segments[-1]:\n",
    "        segments_idx[-1].append(i+1)\n",
    "    else:\n",
    "        segments.append(section(spine._sec_x))\n",
    "        segments_idx.append([i+1])\n",
    "if len(segments_idx) == 1:\n",
    "    print('All spines are connected to the same segment.')\n",
    "elif len(segments_idx) == n_spines:\n",
    "    print('Each spine is connected to a different segment on the dendritic branch.')\n",
    "else:\n",
    "    for group in segments_idx:\n",
    "        if len(group) > 1:\n",
    "            print('Spines {} are connected to the same segment.'.format(group))\n",
    "        else:\n",
    "            print('Spine {} is connected to a distinct segment.'.format(group[0]))"
   ]
  },
  {
   "cell_type": "markdown",
   "metadata": {},
   "source": [
    "#### Show where the spines are located on the dendritic tree"
   ]
  },
  {
   "cell_type": "code",
   "execution_count": null,
   "metadata": {},
   "outputs": [],
   "source": [
    "plt.figure(figsize=(10,10))\n",
    "for sec in chain(cell.morpho.apic, cell.morpho.basal):\n",
    "    if sec in cell.morpho.apic:\n",
    "        color = 'k'\n",
    "    else:\n",
    "        color = 'b'\n",
    "    lbl = sec.name().split('.')[1].split('[')[1][:-1]\n",
    "    n = sec.n3d()\n",
    "    sec_coords = np.zeros((n,2))\n",
    "    for i in range(n):\n",
    "        sec_coords[i,:] = np.array([sec.x3d(i), sec.y3d(i)])\n",
    "    middle = int(n / 2)\n",
    "    plt.text(sec_coords[middle,0], sec_coords[middle,1], lbl, \\\n",
    "             fontsize=14, color='m')\n",
    "    plt.plot(sec_coords[:,0], sec_coords[:,1], color, lw=1)\n",
    "for spine in spines:\n",
    "    plt.plot(spine._points[:,0], spine._points[:,1], 'r.')\n",
    "plt.axis('equal');"
   ]
  },
  {
   "cell_type": "markdown",
   "metadata": {},
   "source": [
    "### Insert a synapse into each spine"
   ]
  },
  {
   "cell_type": "code",
   "execution_count": null,
   "metadata": {},
   "outputs": [],
   "source": [
    "MG_MODELS = {'MDS': 1, 'HRN': 2, 'JS': 3}\n",
    "Mg_unblock_model = config['NMDA']['model']\n",
    "\n",
    "E = 0        # [mV]\n",
    "\n",
    "AMPA_taus = config['AMPA']['time_constants']\n",
    "NMDA_taus = config['NMDA']['time_constants']\n",
    "weights = np.array([config['AMPA']['weight'], config['NMDA']['weight']])\n",
    "\n",
    "print('AMPA:')\n",
    "print('    tau_rise = {:.3f} ms'.format(AMPA_taus['tau1']))\n",
    "print('   tau_decay = {:.3f} ms'.format(AMPA_taus['tau2']))\n",
    "print('NMDA:')\n",
    "print('    tau_rise = {:.3f} ms'.format(NMDA_taus['tau1']))\n",
    "print('   tau_decay = {:.3f} ms'.format(NMDA_taus['tau2']))\n",
    "\n",
    "synapses = [AMPANMDAExp2Synapse(spine.head, 1, E, weights, AMPA = AMPA_taus, \\\n",
    "                                NMDA = NMDA_taus) for spine in spines]\n",
    "\n",
    "for syn in synapses:\n",
    "    syn.nmda_syn.mg_unblock_model = MG_MODELS[Mg_unblock_model]\n",
    "    if Mg_unblock_model == 'MDS':\n",
    "        syn.nmda_syn.alpha_vspom = config['NMDA']['alpha_vspom']\n",
    "        syn.nmda_syn.v0_block = config['NMDA']['v0_block']\n",
    "        syn.nmda_syn.eta = config['NMDA']['eta']\n",
    "    elif Mg_unblock_model == 'JS':\n",
    "        syn.nmda_syn.Kd = config['NMDA']['Kd']\n",
    "        syn.nmda_syn.gamma = config['NMDA']['gamma']\n",
    "        syn.nmda_syn.sh = config['NMDA']['sh']\n",
    "\n",
    "if Mg_unblock_model == 'MDS':\n",
    "    print('\\nUsing Maex & De Schutter Mg unblock model. Modified parameters:')\n",
    "    print('       alpha = {:.3f} 1/mV'.format(synapses[0].nmda_syn.alpha_vspom))\n",
    "    print('    v0_block = {:.3f} mV'.format(synapses[0].nmda_syn.v0_block))\n",
    "    print('         eta = {:.3f}'.format(synapses[0].nmda_syn.eta))\n",
    "elif Mg_unblock_model == 'JS':\n",
    "    print('\\nUsing Jahr & Stevens Mg unblock model. Modified parameters:')\n",
    "    print('          Kd = {:.3f} 1/mV'.format(synapses[0].nmda_syn.Kd))\n",
    "    print('       gamma = {:.3f} 1/mV'.format(synapses[0].nmda_syn.gamma))\n",
    "    print('          sh = {:.3f} mV'.format(synapses[0].nmda_syn.sh))\n",
    "elif Mg_unblock_model == 'HRN':\n",
    "    print('\\nUsing Harnett Mg unblock model with default parameters.')"
   ]
  },
  {
   "cell_type": "markdown",
   "metadata": {},
   "source": [
    "#### Make the recorders"
   ]
  },
  {
   "cell_type": "code",
   "execution_count": null,
   "metadata": {},
   "outputs": [],
   "source": [
    "rec = {}\n",
    "for lbl in 't','Vsoma':\n",
    "    rec[lbl] = h.Vector()\n",
    "rec['t'].record(h._ref_t)\n",
    "rec['Vsoma'].record(cell.morpho.soma[0](0.5)._ref_v)\n",
    "for i,spine in enumerate(spines):\n",
    "    rec['Vdend-{}'.format(i)] = h.Vector()\n",
    "    rec['Vspine-{}'.format(i)] = h.Vector()\n",
    "    rec['IAMPA-{}'.format(i)] = h.Vector()\n",
    "    rec['gAMPA-{}'.format(i)] = h.Vector()\n",
    "    rec['INMDA-{}'.format(i)] = h.Vector()\n",
    "    rec['gNMDA-{}'.format(i)] = h.Vector()\n",
    "    rec['MgBlock-{}'.format(i)] = h.Vector()\n",
    "    rec['Vdend-{}'.format(i)].record(spine._sec(spine._sec_x)._ref_v)\n",
    "    rec['Vspine-{}'.format(i)].record(spine.head(0.5)._ref_v)\n",
    "    rec['IAMPA-{}'.format(i)].record(synapses[i].syn[0]._ref_i)\n",
    "    rec['gAMPA-{}'.format(i)].record(synapses[i].syn[0]._ref_g)\n",
    "    rec['INMDA-{}'.format(i)].record(synapses[i].syn[1]._ref_i)\n",
    "    rec['gNMDA-{}'.format(i)].record(synapses[i].syn[1]._ref_g)\n",
    "    rec['MgBlock-{}'.format(i)].record(synapses[i].syn[1]._ref_mgBlock)\n",
    "    \n",
    "# these additional recorders will record the voltage from the site of the spine closest\n",
    "# to the soma all the way to the soma, to see how the voltage attenuates as it travels\n",
    "# towards the cell body\n",
    "prop_rec = []\n",
    "prop_rec_ina = []\n",
    "prop_rec_ik = []\n",
    "prop_rec_ica = []\n",
    "prop_rec_cai = []\n",
    "seg_area = []\n",
    "sec = section\n",
    "while sec != cell.morpho.soma[0]:\n",
    "    prop_rec.append([])\n",
    "    prop_rec_ina.append([])\n",
    "    prop_rec_ik.append([])\n",
    "    prop_rec_ica.append([])\n",
    "    prop_rec_cai.append([])\n",
    "    seg_area.append([])\n",
    "    for seg in sec:\n",
    "        prop_rec[-1].append(h.Vector())\n",
    "        prop_rec[-1][-1].record(seg._ref_v)\n",
    "        prop_rec_ina[-1].append(h.Vector())\n",
    "        prop_rec_ina[-1][-1].record(seg._ref_ina)\n",
    "        prop_rec_ik[-1].append(h.Vector())\n",
    "        prop_rec_ik[-1][-1].record(seg._ref_ik)\n",
    "        prop_rec_ica[-1].append(h.Vector())\n",
    "        prop_rec_ica[-1][-1].record(seg._ref_ica)\n",
    "        prop_rec_cai[-1].append(h.Vector())\n",
    "        prop_rec_cai[-1][-1].record(seg._ref_cai)\n",
    "        seg_area[-1].append(seg.area())\n",
    "        if sec == section and seg == section(spines[0]._sec_x):\n",
    "            break\n",
    "    sec = sec.parentseg().sec\n",
    "prop_rec.append([h.Vector()])\n",
    "prop_rec[-1][-1].record(cell.morpho.soma[0](0.5)._ref_v)\n",
    "prop_rec_ina.append([h.Vector()])\n",
    "prop_rec_ina[-1][-1].record(cell.morpho.soma[0](0.5)._ref_ina)\n",
    "prop_rec_ik.append([h.Vector()])\n",
    "prop_rec_ik[-1][-1].record(cell.morpho.soma[0](0.5)._ref_ik)\n",
    "prop_rec_ica.append([h.Vector()])\n",
    "prop_rec_ica[-1][-1].record(cell.morpho.soma[0](0.5)._ref_ica)\n",
    "prop_rec_cai.append([h.Vector()])\n",
    "prop_rec_cai[-1][-1].record(cell.morpho.soma[0](0.5)._ref_cai)\n",
    "seg_area.append([cell.morpho.soma[0](0.5).area()])"
   ]
  },
  {
   "cell_type": "markdown",
   "metadata": {},
   "source": [
    "#### Compute the presynaptic spike times"
   ]
  },
  {
   "cell_type": "code",
   "execution_count": null,
   "metadata": {},
   "outputs": [],
   "source": [
    "t0 = 1000.\n",
    "dt = 1000.\n",
    "\n",
    "single_trial = True\n",
    "with_somatic_current_injection = False\n",
    "\n",
    "if with_somatic_current_injection:\n",
    "    spike_times = [np.sort(t0 + n_spines * dt - np.arange(i) * dt) for i in range(n_spines+1, 0, -1)]\n",
    "    spike_times = spike_times[:-1]\n",
    "else:\n",
    "    spike_times = [np.sort(t0 + (n_spines - 1) * dt - np.arange(i) * dt) for i in range(n_spines, 0, -1)]\n",
    "poisson = False\n",
    "sequential = True\n",
    "if sequential:\n",
    "    for i in range(n_spines):\n",
    "        for j in range(len(spike_times[i])):\n",
    "            spike_times[i][j] += i * 0.3\n",
    "elif poisson:\n",
    "    # frequency of the incoming spikes\n",
    "    F = 1 / 0.3e-3\n",
    "    for i in range(n_spines):\n",
    "        ISI = - np.log(np.random.uniform(size=n_spines*2)) / F\n",
    "        spks = np.cumsum(ISI)\n",
    "        for j in range(n_spines - i):\n",
    "            spike_times[j][i] += spks[j]\n",
    "\n",
    "if single_trial:\n",
    "    spike_times = [np.array([spks[-1] - spike_times[0][-1] + t0]) for spks in spike_times]\n",
    "    \n",
    "for syn, spks in zip(synapses, spike_times):\n",
    "    syn.set_presynaptic_spike_times(spks)\n",
    "    \n",
    "if with_somatic_current_injection:\n",
    "    stim['soma'].amp = 0.06\n",
    "    stim['soma'].dur = 100\n",
    "    stim['soma'].delay = spike_times[0][-1]"
   ]
  },
  {
   "cell_type": "code",
   "execution_count": null,
   "metadata": {},
   "outputs": [],
   "source": [
    "spike_times"
   ]
  },
  {
   "cell_type": "markdown",
   "metadata": {},
   "source": [
    "#### Run the simulation"
   ]
  },
  {
   "cell_type": "code",
   "execution_count": null,
   "metadata": {},
   "outputs": [],
   "source": [
    "h.cvode_active(1)\n",
    "h.tstop = spike_times[0][-1] + dt\n",
    "if with_somatic_current_injection:\n",
    "    h.tstop += dt\n",
    "h.run()"
   ]
  },
  {
   "cell_type": "markdown",
   "metadata": {},
   "source": [
    "#### Get the data from the recorders"
   ]
  },
  {
   "cell_type": "code",
   "execution_count": null,
   "metadata": {},
   "outputs": [],
   "source": [
    "t = np.array(rec['t'])\n",
    "iampa = np.array([np.array(rec['IAMPA-{}'.format(i)])*1e3 for i in range(n_spines)])\n",
    "inmda = np.array([np.array(rec['INMDA-{}'.format(i)])*1e3 for i in range(n_spines)])\n",
    "gampa = np.array([np.array(rec['gAMPA-{}'.format(i)])*1e3 for i in range(n_spines)])\n",
    "gnmda = np.array([np.array(rec['gNMDA-{}'.format(i)])*1e3 for i in range(n_spines)])\n",
    "MgBlock = np.array([np.array(rec['MgBlock-{}'.format(i)])for i in range(n_spines)])\n",
    "Vspine = np.array([np.array(rec['Vspine-{}'.format(i)]) for i in range(n_spines)])\n",
    "Vdend = np.array([np.array(rec['Vdend-{}'.format(i)]) for i in range(n_spines)])\n",
    "Vsoma = np.array(rec['Vsoma'])\n",
    "\n",
    "prop_V = [[np.array(v) for v in grp] for grp in prop_rec]\n",
    "prop_INa = [[np.array(v) for v in grp] for grp in prop_rec_ina]\n",
    "prop_IK = [[np.array(v) for v in grp] for grp in prop_rec_ik]\n",
    "prop_ICa = [[np.array(v) for v in grp] for grp in prop_rec_ica]\n",
    "prop_Cai = [[np.array(v) for v in grp] for grp in prop_rec_cai]"
   ]
  },
  {
   "cell_type": "markdown",
   "metadata": {},
   "source": [
    "#### Plot the results"
   ]
  },
  {
   "cell_type": "code",
   "execution_count": null,
   "metadata": {},
   "outputs": [],
   "source": [
    "window = [5,100]\n",
    "idx, = np.where((t > spike_times[0][-1] - window[0]) & (t < spike_times[0][-1] + window[1]))\n",
    "plt.plot(t[idx], prop_V[0][0][idx], 'r', linewidth=2, label='Dendrite')\n",
    "plt.plot(t[idx], prop_V[-1][0][idx], 'k', linewidth=1, label='Soma')\n",
    "plt.xlabel('Time (ms)')\n",
    "plt.ylabel('Vm (mV)')\n",
    "plt.legend(loc='upper right');"
   ]
  },
  {
   "cell_type": "code",
   "execution_count": null,
   "metadata": {},
   "outputs": [],
   "source": [
    "n_rec = len([0 for grp in prop_rec for v in grp])\n",
    "colors = [[0,0,0], [1,0,0], [0,1,0], [0,0,1], [0,1,1], [1,0,1], [1,1,0]]\n",
    "cmap = plt.get_cmap('hsv', len(prop_V))\n",
    "fig,ax = plt.subplots(5, 1, figsize=(5,7), sharex=True)\n",
    "for i in range(len(prop_V)):\n",
    "    base_col = colors[i]\n",
    "    if i == len(prop_V) - 1:\n",
    "        lw = 2\n",
    "    else:\n",
    "        lw = 1\n",
    "    for j in range(len(prop_INa[i])):\n",
    "        col = np.min([[1,1,1], base_col + j * 0.2 * np.ones(3)], axis=0)\n",
    "        ax[0].plot(t[idx], prop_V[i][j][idx], color=col, linewidth=lw)\n",
    "        ax[4].plot(t[idx], prop_IK[i][j][idx], color=col, linewidth=lw)\n",
    "        ax[3].plot(t[idx], prop_INa[i][j][idx], color=col, linewidth=lw)\n",
    "        ax[2].plot(t[idx], prop_ICa[i][j][idx], color=col, linewidth=lw)\n",
    "        ax[1].plot(t[idx], prop_Cai[i][j][idx]*1e6, color=col, linewidth=lw)\n",
    "for side in ('right','top'):\n",
    "    for a in ax:\n",
    "        a.spines[side].set_visible(False)\n",
    "ax[-1].set_xlabel('Time (ms)')\n",
    "ax[0].set_ylabel('Vm (mV)')\n",
    "ax[4].set_ylabel('I_K (mA/cm2)')\n",
    "ax[3].set_ylabel('I_Na (mA/cm2)')\n",
    "ax[2].set_ylabel('I_Ca (mA/cm2)')\n",
    "ax[1].set_ylabel('Ca_i (nM)')\n",
    "plt.tick_params(labelsize=8)\n",
    "fig.tight_layout()\n",
    "pdf_file = 'burst_exp_decaying_na'\n",
    "if not os.path.isfile(pdf_file + '_1.pdf'):\n",
    "    plt.savefig(pdf_file + '_1.pdf', bbox_inches='tight')"
   ]
  },
  {
   "cell_type": "code",
   "execution_count": null,
   "metadata": {},
   "outputs": [],
   "source": [
    "fig,ax = plt.subplots(5, 1, figsize=(5,7), sharex=True)\n",
    "for i in range(len(prop_V)):\n",
    "    base_col = colors[i]\n",
    "    if i == len(prop_V) - 1:\n",
    "        lw = 2\n",
    "    else:\n",
    "        lw = 1\n",
    "    for j in range(len(prop_INa[i])):\n",
    "        col = np.min([[1,1,1], base_col + j * 0.2 * np.ones(3)], axis=0)\n",
    "        ax[0].plot(t[idx], prop_V[i][j][idx], color=col, linewidth=lw)\n",
    "        ax[4].plot(t[idx], prop_IK[i][j][idx] * seg_area[i][j] * 1e-2, color=col, linewidth=lw)\n",
    "        ax[3].plot(t[idx], prop_INa[i][j][idx] * seg_area[i][j] * 1e-2, color=col, linewidth=lw)\n",
    "        ax[2].plot(t[idx], prop_ICa[i][j][idx] * seg_area[i][j] * 1e-2, color=col, linewidth=lw)\n",
    "        ax[1].plot(t[idx], prop_Cai[i][j][idx]*1e6, color=col, linewidth=lw)\n",
    "for side in ('right','top'):\n",
    "    for a in ax:\n",
    "        a.spines[side].set_visible(False)\n",
    "ax[-1].set_xlabel('Time (ms)')\n",
    "ax[0].set_ylabel('Vm (mV)')\n",
    "ax[4].set_ylabel('I_K (nA)')\n",
    "ax[3].set_ylabel('I_Na (nA)')\n",
    "ax[2].set_ylabel('I_Ca (nA)')\n",
    "ax[1].set_ylabel('Ca_i (nM)')\n",
    "plt.tick_params(labelsize=8)\n",
    "fig.tight_layout()\n",
    "if not os.path.isfile(pdf_file + '_2.pdf'):\n",
    "    plt.savefig(pdf_file + '_2.pdf', bbox_inches='tight')"
   ]
  },
  {
   "cell_type": "markdown",
   "metadata": {},
   "source": [
    "#### Save the data"
   ]
  },
  {
   "cell_type": "raw",
   "metadata": {},
   "source": [
    "data_to_save = {'t': t, 'Vsoma': Vsoma, 'Vdend': Vdend, 'Vspine': Vspine,\n",
    "                'iampa': iampa, 'inmda': inmda, 'gampa': gampa, 'gnmda': gnmda,\n",
    "                'MgBlock': MgBlock, 'R': R, 'AR': AR, 'spike_times': spike_times,\n",
    "                'dV_soma': dV_soma, 'dV_dend': dV_dend, 'dG_AMPA': dG_AMPA, 'dG_NMDA': dG_NMDA,\n",
    "                'V_dend_pks': V_dend_pks, 'V_soma_pks': V_soma_pks, 'G_NMDA_pks': G_NMDA_pks, \n",
    "                'G_AMPA_pks': G_AMPA_pks, 'config': config}\n",
    "filename = 'synaptic_cooperativity_' + cell_type + '_' + str(individual)\n",
    "if passive:\n",
    "    filename += '_passive'\n",
    "else:\n",
    "    filename += '_active'\n",
    "if with_TTX:\n",
    "    filename += '_with_TTX'\n",
    "else:\n",
    "    filename += '_without_TTX'\n",
    "pickle.dump(data_to_save, open(filename + '.pkl', 'wb'))"
   ]
  }
 ],
 "metadata": {
  "kernelspec": {
   "display_name": "Python 3",
   "language": "python",
   "name": "python3"
  },
  "language_info": {
   "codemirror_mode": {
    "name": "ipython",
    "version": 3
   },
   "file_extension": ".py",
   "mimetype": "text/x-python",
   "name": "python",
   "nbconvert_exporter": "python",
   "pygments_lexer": "ipython3",
   "version": "3.7.9"
  }
 },
 "nbformat": 4,
 "nbformat_minor": 2
}
