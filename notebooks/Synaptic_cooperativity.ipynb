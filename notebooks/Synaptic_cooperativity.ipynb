{
 "cells": [
  {
   "cell_type": "code",
   "execution_count": null,
   "metadata": {},
   "outputs": [],
   "source": [
    "import numpy as np\n",
    "import matplotlib.pyplot as plt\n",
    "%matplotlib inline\n",
    "\n",
    "import neuron as nrn\n",
    "nrn.h.load_file('stdrun.hoc')\n",
    "nrn.h.cvode_active(1.0)\n",
    "\n",
    "from dlutils.spine import Spine\n",
    "from dlutils.synapse import AMPANMDAExp2Synapse\n",
    "from dlutils.numerics import double_exp\n",
    "\n",
    "check_passive_props = False\n",
    "check_AR = False"
   ]
  },
  {
   "cell_type": "markdown",
   "metadata": {},
   "source": [
    "#### Functions used to describe the removal of the Mg block from the NMDA synapse"
   ]
  },
  {
   "cell_type": "code",
   "execution_count": null,
   "metadata": {},
   "outputs": [],
   "source": [
    "extMgConc = 1\n",
    "alpha_vspom = -0.062\n",
    "v0_block = 10\n",
    "eta = 0.2801\n",
    "mg_maex_orig = lambda v: 1. / (1. + eta * extMgConc * np.exp(alpha_vspom * (v - v0_block)))\n",
    "\n",
    "extMgConc2 = extMgConc\n",
    "alpha_vspom2 = alpha_vspom * 2\n",
    "v0_block2 = v0_block - 20\n",
    "eta2 = eta * 0.1\n",
    "mg_maex_mod = lambda v: 1. / (1. + eta2 * extMgConc2 * np.exp(alpha_vspom2 * (v - v0_block2)))\n",
    "\n",
    "v = np.arange(-100, 50)\n",
    "mg_harnett = lambda v: 1. / (1. + (extMgConc / 3.57) * np.exp(-0.062 * v))\n",
    "\n",
    "Kd    = 9.888   # (mM)\n",
    "gamma = 0.09137 # (mV^-1)\n",
    "sh    = 2.222   # (mV)\n",
    "mg_jahr_stevens = lambda v: 1. / (1 + (extMgConc / Kd) * np.exp(gamma * (sh - v)))\n",
    "\n",
    "plt.figure(figsize=(8,4))\n",
    "plt.plot(v, mg_harnett(v), 'k', label='Harnett')\n",
    "plt.plot(v, mg_maex_orig(v), 'g', label='Original Maex & De Schutter')\n",
    "plt.plot(v, mg_maex_mod(v), 'm', label='Modified Maex & De Schutter')\n",
    "plt.plot(v, mg_jahr_stevens(v), 'c', label='Jahr & Stevens')\n",
    "plt.xlabel('Voltage (mV)')\n",
    "plt.ylabel('Mg unblock')\n",
    "plt.legend(loc='best');"
   ]
  },
  {
   "cell_type": "markdown",
   "metadata": {},
   "source": [
    "### Create a piece of dendrite"
   ]
  },
  {
   "cell_type": "code",
   "execution_count": null,
   "metadata": {},
   "outputs": [],
   "source": [
    "# a stretch of dendrite\n",
    "length   = 1000   # [um]\n",
    "diameter = 2     # [um]\n",
    "# the area of the whole dendrite\n",
    "area = np.pi * diameter * length\n",
    "area_in_cm2 = area * 1e-8\n",
    "print('Dendrite area: {:.1f} um2'.format(area))\n",
    "\n",
    "dend = nrn.h.Section(name='dendrite')\n",
    "# geometry\n",
    "for y in np.arange(0., length+0.5, 1.):\n",
    "    nrn.h.pt3dadd(0., y, 0., diameter, sec=dend)\n",
    "dend.nseg = 1\n",
    "# intrinsic properties\n",
    "dend.Ra   = 150.   # [Ohm cm]\n",
    "dend.cm   = 1.     # [uF cm^-2] !!! accounts for the presence of spines !!!\n",
    "\n",
    "# passive mechanism\n",
    "dend.insert('pas')\n",
    "dend.e_pas = -65.     # [mV]\n",
    "dend.g_pas = 1./2500  # [S cm^-2]\n",
    "\n",
    "Rdend = 1e2 / (dend.g_pas * area)  # [MOhm]\n",
    "C = dend.cm * area_in_cm2          # [uF]\n",
    "tau = Rdend * C * 1e3              # [ms]\n",
    "print(' Dendrite Rin: {:.1f} MOhm.'.format(Rdend))\n",
    "print('Time constant: {:.1f} ms.'.format(tau))"
   ]
  },
  {
   "cell_type": "markdown",
   "metadata": {},
   "source": [
    "### Instantiate the spines"
   ]
  },
  {
   "cell_type": "code",
   "execution_count": null,
   "metadata": {},
   "outputs": [],
   "source": [
    "head_L    = 0.5         # [um]\n",
    "head_diam = 0.5      # [um]\n",
    "neck_L    = 1.58        # [um]\n",
    "neck_diam = 0.077    # [um]\n",
    "# neck_diam = 0.05     # [um]\n",
    "spine_distance = 5   # [um] distance between neighboring spines\n",
    "n_spines  = 9\n",
    "L = spine_distance * (n_spines - 1)\n",
    "norm_L = L / dend.L\n",
    "spines = [Spine(dend, x, head_L, head_diam, neck_L, neck_diam, dend.Ra, i) \\\n",
    "          for i,x in enumerate(np.linspace(0.5 - norm_L/2, 0.5 + norm_L/2, n_spines))]\n",
    "for spine in spines:\n",
    "    spine.instantiate()"
   ]
  },
  {
   "cell_type": "markdown",
   "metadata": {},
   "source": [
    "### Insert a synapse into each spine"
   ]
  },
  {
   "cell_type": "code",
   "execution_count": null,
   "metadata": {},
   "outputs": [],
   "source": [
    "E = 0        # [mV]\n",
    "weights = np.array([0.001, 1 * 0.002])  # AMPA and NMDA weights\n",
    "AMPA_taus = {'tau1': 0.1, 'tau2':  1.0}\n",
    "NMDA_taus = {'tau1': 1.0, 'tau2': 75.0}\n",
    "\n",
    "print('AMPA:')\n",
    "print('    tau_rise = {:.3f} ms'.format(AMPA_taus['tau1']))\n",
    "print('   tau_decay = {:.3f} ms'.format(AMPA_taus['tau2']))\n",
    "print('NMDA:')\n",
    "print('    tau_rise = {:.3f} ms'.format(NMDA_taus['tau1']))\n",
    "print('   tau_decay = {:.3f} ms'.format(NMDA_taus['tau2']))\n",
    "\n",
    "synapses = [AMPANMDAExp2Synapse(spine.head, 1, E, weights, AMPA = AMPA_taus, \\\n",
    "                                NMDA = NMDA_taus) for spine in spines]\n",
    "\n",
    "for syn in synapses:\n",
    "    syn.nmda_syn.alpha_vspom *= 2\n",
    "    syn.nmda_syn.v0_block -= 20\n",
    "    syn.nmda_syn.eta *= 0.1\n",
    "print('       alpha = {:.3f} 1/mV'.format(synapses[0].nmda_syn.alpha_vspom))\n",
    "print('    v0_block = {:.3f} mV'.format(synapses[0].nmda_syn.v0_block))\n",
    "print('         eta = {:.3f}'.format(synapses[0].nmda_syn.eta))"
   ]
  },
  {
   "cell_type": "markdown",
   "metadata": {},
   "source": [
    "#### Sanity check for passive properties"
   ]
  },
  {
   "cell_type": "code",
   "execution_count": null,
   "metadata": {},
   "outputs": [],
   "source": [
    "if check_passive_props:\n",
    "    stim = nrn.h.IClamp(dend(0.5))\n",
    "    stim.delay = 500\n",
    "    stim.dur = tau * 20\n",
    "    stim.amp = -0.1\n",
    "\n",
    "    rec = {}\n",
    "    for lbl in 't','Vdend':\n",
    "        rec[lbl] = nrn.h.Vector()\n",
    "    rec['t'].record(nrn.h._ref_t)\n",
    "    rec['Vdend'].record(dend(0.5)._ref_v)\n",
    "    \n",
    "    nrn.h.tstop = stim.delay + stim.dur + 200\n",
    "    nrn.h.run()\n",
    "\n",
    "    t = np.array(rec['t'])\n",
    "    Vdend = np.array(rec['Vdend'])\n",
    "    idx, = np.where((t > stim.delay - 10) & (t < stim.delay + stim.dur + 50))\n",
    "    print('Measured input resistance: {:.1f} Mohm.'.format((np.min(Vdend) - Vdend[-1]) / stim.amp))\n",
    "    x = np.linspace(0, 10*tau, 100)\n",
    "    y = Rdend * np.abs(stim.amp) * np.exp(-x/tau) + np.min(Vdend)\n",
    "    x += stim.delay\n",
    "    plt.plot(t[idx], Vdend[idx], 'k', label='Dendrite')\n",
    "    plt.plot(x, y, 'r', label='Exp. fit')\n",
    "    plt.xlabel('Time (ms)')\n",
    "    plt.ylabel('Voltage (mV)')\n",
    "    plt.legend(loc='best')\n",
    "    \n",
    "    stim.amp = 0"
   ]
  },
  {
   "cell_type": "markdown",
   "metadata": {},
   "source": [
    "#### Compute the amplitude ratio between spine and dendrite EPSPs"
   ]
  },
  {
   "cell_type": "code",
   "execution_count": null,
   "metadata": {},
   "outputs": [],
   "source": [
    "if check_AR:\n",
    "    middle_spine = spines[int(n_spines/2)]\n",
    "    \n",
    "    t_onset = {'dend': 300., 'spine': 800.}\n",
    "    if neck_diam == 0.05:\n",
    "        amplitudes = {'dend': 0.155, 'spine': 0.0155}\n",
    "    elif neck_diam == 0.077:\n",
    "        amplitudes = {'dend': 0.63, 'spine': 0.0375}\n",
    "    \n",
    "    tr = 1.\n",
    "    td = 10.\n",
    "    t_end = 3000.\n",
    "    dt = 0.5\n",
    "    time = np.arange(0, t_end, dt)\n",
    "    EPSP = {k: amplitudes[k] * double_exp(tr, td, t_onset[k], time) for k in t_onset}\n",
    "    for k in EPSP:\n",
    "        EPSP[k][np.isnan(EPSP[k])] = 0\n",
    "\n",
    "    vec = {}\n",
    "    vec['time'] = nrn.h.Vector(time)\n",
    "    for k in EPSP:\n",
    "        vec[k] = nrn.h.Vector(EPSP[k])\n",
    "\n",
    "    stimuli = {'dend': nrn.h.IClamp(dend(0.5)), 'spine': nrn.h.IClamp(middle_spine.head(1))}\n",
    "    for stim in stimuli.values():\n",
    "        stim.dur = 1e6\n",
    "    \n",
    "    for k in stimuli:\n",
    "        vec[k].play(stimuli[k]._ref_amp, vec['time'], 1)\n",
    "    \n",
    "    rec = {}\n",
    "    for lbl in 't','Vdend','Vhead':\n",
    "        rec[lbl] = nrn.h.Vector()\n",
    "    rec['t'].record(nrn.h._ref_t)\n",
    "    rec['Vdend'].record(dend(0.5)._ref_v)\n",
    "    rec['Vhead'].record(middle_spine.head(1)._ref_v)\n",
    "    \n",
    "    nrn.h.v_init = dend.e_pas\n",
    "    nrn.h.tstop = np.max(list(t_onset.values())) + 500\n",
    "    nrn.h.run()\n",
    "    \n",
    "    t = np.array(rec['t'])\n",
    "    Vdend = np.array(rec['Vdend'])\n",
    "    Vspine = np.array(rec['Vhead'])\n",
    "    \n",
    "    idx, = np.where((t >= t_onset['dend']) & (t < t_onset['dend'] + 100))\n",
    "    dend_to_spine = {'dend': np.max(Vdend[idx]) - dend.e_pas, 'spine': np.max(Vspine[idx]) - dend.e_pas}\n",
    "    \n",
    "    jdx, = np.where((t > t_onset['spine']) & (t < t_onset['spine'] + 100))\n",
    "    spine_to_dend = {'dend': np.max(Vdend[jdx]) - dend.e_pas, 'spine': np.max(Vspine[jdx]) - dend.e_pas}\n",
    "    AR = spine_to_dend['spine'] / spine_to_dend['dend']\n",
    "    print('Spine EPSP amplitude when injecting in the dendrite: {:.2f} mV.'.format(dend_to_spine['spine']))\n",
    "    print('Spine EPSP amplitude when injecting in the spine: {:.2f} mV.'.format(spine_to_dend['spine']))\n",
    "    print('Spine to dendrite AR: {:.2f} (dendrite to spine: {:.2f}).'.\\\n",
    "          format(AR, dend_to_spine['spine'] / dend_to_spine['dend']))\n",
    "    Rneck = (AR - 1) * Rdend\n",
    "    print('Neck Rin: {:.1f} MOhm.'.format(Rneck))\n",
    "\n",
    "    plt.plot(t[idx] - t_onset['dend'], Vdend[idx], 'k', label='Dendrite')\n",
    "    plt.plot(t[idx] - t_onset['dend'], Vspine[idx], 'r', label='Spine')\n",
    "    dt = t[idx[-1]] - t[idx[0]] + 5\n",
    "    plt.plot(t[jdx] - t_onset['spine'] + dt, Vdend[jdx], 'k')\n",
    "    plt.plot(t[jdx] - t_onset['spine'] + dt, Vspine[jdx], 'r')\n",
    "    plt.legend(loc='best')\n",
    "    plt.xlabel('Time (ms)')\n",
    "    plt.ylabel('Voltage (mV)')\n",
    "\n",
    "    for stim in stimuli.values():\n",
    "        stim.dur = 0"
   ]
  },
  {
   "cell_type": "markdown",
   "metadata": {},
   "source": [
    "### Set the presynaptic spike times"
   ]
  },
  {
   "cell_type": "code",
   "execution_count": null,
   "metadata": {},
   "outputs": [],
   "source": [
    "t0 = 1000.\n",
    "dt = 1000.\n",
    "spike_times = [np.sort(t0 + (n_spines - 1) * dt - np.arange(i) * dt) for i in range(n_spines, 0, -1)]\n",
    "for i in range(n_spines):\n",
    "    for j in range(n_spines-i):\n",
    "        spike_times[i][j] += i * 0.3\n",
    "for syn, spks in zip(synapses, spike_times):\n",
    "    syn.set_presynaptic_spike_times(spks)"
   ]
  },
  {
   "cell_type": "code",
   "execution_count": null,
   "metadata": {},
   "outputs": [],
   "source": [
    "spike_times"
   ]
  },
  {
   "cell_type": "markdown",
   "metadata": {},
   "source": [
    "#### Make the recorders"
   ]
  },
  {
   "cell_type": "code",
   "execution_count": null,
   "metadata": {},
   "outputs": [],
   "source": [
    "rec = {}\n",
    "for lbl in 't','Vdend':\n",
    "    rec[lbl] = nrn.h.Vector()\n",
    "rec['t'].record(nrn.h._ref_t)\n",
    "rec['Vdend'].record(dend(0.5)._ref_v)\n",
    "for i,spine in enumerate(spines):\n",
    "    rec['Vspine-{}'.format(i)] = nrn.h.Vector()\n",
    "    rec['IAMPA-{}'.format(i)] = nrn.h.Vector()\n",
    "    rec['gAMPA-{}'.format(i)] = nrn.h.Vector()\n",
    "    rec['INMDA-{}'.format(i)] = nrn.h.Vector()\n",
    "    rec['gNMDA-{}'.format(i)] = nrn.h.Vector()\n",
    "    rec['MgBlock-{}'.format(i)] = nrn.h.Vector()\n",
    "    rec['Vspine-{}'.format(i)].record(spine.head(0.5)._ref_v)\n",
    "    rec['IAMPA-{}'.format(i)].record(synapses[i].syn[0]._ref_i)\n",
    "    rec['gAMPA-{}'.format(i)].record(synapses[i].syn[0]._ref_g)\n",
    "    rec['INMDA-{}'.format(i)].record(synapses[i].syn[1]._ref_i)\n",
    "    rec['gNMDA-{}'.format(i)].record(synapses[i].syn[1]._ref_g)\n",
    "    rec['MgBlock-{}'.format(i)].record(synapses[i].syn[1]._ref_mgBlock)"
   ]
  },
  {
   "cell_type": "markdown",
   "metadata": {},
   "source": [
    "#### Run the simulation"
   ]
  },
  {
   "cell_type": "code",
   "execution_count": null,
   "metadata": {},
   "outputs": [],
   "source": [
    "nrn.h.cvode_active(1)\n",
    "nrn.h.tstop = t0 + n_spines * dt\n",
    "nrn.h.v_init = dend.e_pas\n",
    "nrn.h.run()"
   ]
  },
  {
   "cell_type": "markdown",
   "metadata": {},
   "source": [
    "#### Get the data from the recorders"
   ]
  },
  {
   "cell_type": "code",
   "execution_count": null,
   "metadata": {},
   "outputs": [],
   "source": [
    "t = np.array(rec['t'])\n",
    "Vdend = np.array(rec['Vdend'])\n",
    "iampa = np.array([np.array(rec['IAMPA-{}'.format(i)])*1e3 for i in range(n_spines)])\n",
    "inmda = np.array([np.array(rec['INMDA-{}'.format(i)])*1e3 for i in range(n_spines)])\n",
    "gampa = np.array([np.array(rec['gAMPA-{}'.format(i)])*1e3 for i in range(n_spines)])\n",
    "gnmda = np.array([np.array(rec['gNMDA-{}'.format(i)])*1e3 for i in range(n_spines)])\n",
    "MgBlock = np.array([np.array(rec['MgBlock-{}'.format(i)])for i in range(n_spines)])\n",
    "Vspine = np.array([np.array(rec['Vspine-{}'.format(i)]) for i in range(n_spines)])"
   ]
  },
  {
   "cell_type": "markdown",
   "metadata": {},
   "source": [
    "#### Measure the amplitude ratio when the input is synaptic"
   ]
  },
  {
   "cell_type": "code",
   "execution_count": null,
   "metadata": {},
   "outputs": [],
   "source": [
    "idx, = np.where((t > 990) & (t < 1200))\n",
    "EPSP_spine = np.max(Vspine[0,idx]) - Vspine[0,-1]\n",
    "EPSP_dend = np.max(Vdend[idx]) - Vdend[-1]\n",
    "AR = EPSP_spine / EPSP_dend\n",
    "print('AR = {:.3f}'.format(AR))\n",
    "plt.plot(t[idx], Vspine[0,idx], 'k', label='Spine')\n",
    "plt.plot(t[idx], Vdend[idx], 'r', label='Dendrite')\n",
    "plt.xlabel('Time (ms)')\n",
    "plt.ylabel('Vm (mV)')\n",
    "plt.legend(loc='best');"
   ]
  },
  {
   "cell_type": "markdown",
   "metadata": {},
   "source": [
    "#### Measure the dendritic EPSPs and the NMDA conductance values"
   ]
  },
  {
   "cell_type": "code",
   "execution_count": null,
   "metadata": {},
   "outputs": [],
   "source": [
    "V_pks = np.zeros(n_spines)\n",
    "dG = np.zeros(n_spines)\n",
    "for i,spk in enumerate(spike_times[0]):\n",
    "    idx = (t > spk) & (t < spk + 200)\n",
    "    V_pks[i] = np.max(Vdend[idx])\n",
    "    dG[i] = np.max(gnmda[0,idx] * MgBlock[0,idx])\n",
    "dV = V_pks - Vdend[-1]"
   ]
  },
  {
   "cell_type": "markdown",
   "metadata": {},
   "source": [
    "#### Plot the time course of the dendritic EPSPs and the NMDA conductance for increasing number of synaptic inputs"
   ]
  },
  {
   "cell_type": "code",
   "execution_count": null,
   "metadata": {},
   "outputs": [],
   "source": [
    "window = [50, 100]\n",
    "fig,(ax1,ax2) = plt.subplots(1, 2, figsize=(12,5), sharex=True)\n",
    "for spk in spike_times[0]:\n",
    "    idx = (t > spk - window[0]) & (t < spk + window[1])\n",
    "    ax1.plot(t[idx] - spk, Vdend[idx], 'k')\n",
    "    ax2.plot(t[idx] - spk, gnmda[0,idx] * MgBlock[0,idx], 'k')\n",
    "ax1.set_xlabel('Time (ms)')\n",
    "ax1.set_ylabel('Dendritic voltage (mV)')\n",
    "ax2.set_xlabel('Time (ms)')\n",
    "ax2.set_ylabel('NMDA conductance (nS)');"
   ]
  },
  {
   "cell_type": "markdown",
   "metadata": {},
   "source": [
    "#### Plot the time course of the EPSP at each spine for increasing number of synaptic inputs"
   ]
  },
  {
   "cell_type": "code",
   "execution_count": null,
   "metadata": {},
   "outputs": [],
   "source": [
    "cmap = plt.get_cmap('rainbow', n_spines)\n",
    "window = [50, 100]\n",
    "fig,ax = plt.subplots(3, 3, figsize=(14,10), sharex=True)\n",
    "for n,spk in enumerate(spike_times[0]):\n",
    "    idx = (t > spk - window[0]) & (t < spk + window[1])\n",
    "    for i in range(3):\n",
    "        for j in range(3):\n",
    "            k = i*3 + j\n",
    "            lbl = '{} input'.format(n+1) if n == 0 else '{} inputs'.format(n+1)\n",
    "            ax[i,j].plot(t[idx] - spk, Vspine[k, idx], color=cmap(n), label=lbl)\n",
    "            ax[i,j].set_title('Spine #{}'.format(k+1))\n",
    "        ax[i,0].set_ylabel('Spine head voltage (mV)')\n",
    "        ax[2,i].set_xlabel('Time (ms)')\n",
    "ax[0,0].legend(loc='best');"
   ]
  },
  {
   "cell_type": "markdown",
   "metadata": {},
   "source": [
    "#### Plot the time course of the NMDA conductance in each spine for increasing number of synaptic inputs"
   ]
  },
  {
   "cell_type": "code",
   "execution_count": null,
   "metadata": {},
   "outputs": [],
   "source": [
    "cmap = plt.get_cmap('rainbow', n_spines)\n",
    "window = [50, 100]\n",
    "fig,ax = plt.subplots(3, 3, figsize=(14,10), sharex=True)\n",
    "for n,spk in enumerate(spike_times[0]):\n",
    "    idx = (t > spk - window[0]) & (t < spk + window[1])\n",
    "    for i in range(3):\n",
    "        for j in range(3):\n",
    "            k = i*3 + j\n",
    "            lbl = '{} input'.format(n+1) if n == 0 else '{} inputs'.format(n+1)\n",
    "            ax[i,j].plot(t[idx] - spk, gnmda[k, idx] * MgBlock[k, idx], color=cmap(n), label=lbl)\n",
    "            ax[i,j].set_title('Spine #{}'.format(k+1))\n",
    "        ax[i,0].set_ylabel('NMDA conductance (nS)')\n",
    "        ax[2,i].set_xlabel('Time (ms)')\n",
    "ax[0,0].legend(loc='best');"
   ]
  },
  {
   "cell_type": "markdown",
   "metadata": {},
   "source": [
    "#### Plot the time course of the AMPA conductance in each spine for increasing number of synaptic inputs\n",
    "\n",
    "just for the sake of completeness"
   ]
  },
  {
   "cell_type": "code",
   "execution_count": null,
   "metadata": {},
   "outputs": [],
   "source": [
    "cmap = plt.get_cmap('rainbow', n_spines)\n",
    "window = [2, 10]\n",
    "fig,ax = plt.subplots(3, 3, figsize=(14,10), sharex=True)\n",
    "for n,spk in enumerate(spike_times[0]):\n",
    "    idx = (t > spk - window[0]) & (t < spk + window[1])\n",
    "    for i in range(3):\n",
    "        for j in range(3):\n",
    "            k = i*3 + j\n",
    "            lbl = '{} input'.format(n+1) if n == 0 else '{} inputs'.format(n+1)\n",
    "            ax[i,j].plot(t[idx] - spk, gampa[k, idx], color=cmap(n), label=lbl)\n",
    "            ax[i,j].set_title('Spine #{}'.format(k+1))\n",
    "        ax[i,0].set_ylabel('AMPA conductance (nS)')\n",
    "        ax[2,i].set_xlabel('Time (ms)')\n",
    "ax[0,0].legend(loc='best');"
   ]
  },
  {
   "cell_type": "markdown",
   "metadata": {},
   "source": [
    "#### Plot the amplitude of the dendritic EPSPs and of the NMDA conductance as a function of the number of synaptic inputs"
   ]
  },
  {
   "cell_type": "code",
   "execution_count": null,
   "metadata": {},
   "outputs": [],
   "source": [
    "n = 1 + np.arange(n_spines)\n",
    "fig,(ax1,ax2) = plt.subplots(1, 2, figsize=(12,5), sharex=True)\n",
    "ax1.plot(n, n * dV[0], 'rv-', lw=1, markerfacecolor='w', markersize=8, label='Linear prediction')\n",
    "ax1.plot(n, dV, 'ko-', lw=1, markerfacecolor='w', markersize=7, label='Measured')\n",
    "ax2.plot(n, dG, 'ko-', lw=1, markerfacecolor='w', markersize=7, label='Measured')\n",
    "ax1.set_xlabel('Input number')\n",
    "ax1.set_ylabel('Dendrite EPSP (mV)')\n",
    "ax2.set_xlabel('Input number')\n",
    "ax2.set_ylabel('NMDA conductance (nS)')\n",
    "ax1.legend(loc='best')\n",
    "ax1.set_ylim([0, np.max([dV[-1], dV[0]*n_spines]) * 1.1])\n",
    "ax2.set_ylim([dG[0] - 0.1, dG[-1] + 0.1]);"
   ]
  }
 ],
 "metadata": {
  "kernelspec": {
   "display_name": "Python 3",
   "language": "python",
   "name": "python3"
  },
  "language_info": {
   "codemirror_mode": {
    "name": "ipython",
    "version": 3
   },
   "file_extension": ".py",
   "mimetype": "text/x-python",
   "name": "python",
   "nbconvert_exporter": "python",
   "pygments_lexer": "ipython3",
   "version": "3.7.7"
  }
 },
 "nbformat": 4,
 "nbformat_minor": 2
}
