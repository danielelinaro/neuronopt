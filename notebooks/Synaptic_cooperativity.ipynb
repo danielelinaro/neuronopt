{
 "cells": [
  {
   "cell_type": "code",
   "execution_count": null,
   "metadata": {},
   "outputs": [],
   "source": [
    "import json\n",
    "import pickle\n",
    "from itertools import chain\n",
    "\n",
    "import numpy as np\n",
    "import matplotlib.pyplot as plt\n",
    "%matplotlib inline\n",
    "\n",
    "from neuron import h\n",
    "from dlutils import utils\n",
    "from dlutils.cell import Cell, branch_order\n",
    "from dlutils.synapse import AMPANMDAExp2Synapse\n",
    "from dlutils.spine import Spine"
   ]
  },
  {
   "cell_type": "markdown",
   "metadata": {},
   "source": [
    "### Functions used to describe the removal of the Mg block from the NMDA synapse\n",
    "\n",
    "#### Maex & De Schutter\n",
    "Maex, R., & De Schutter, E. (1998). Synchronization of Golgi and granule cell firing in a detailed network model of the cerebellar granule cell layer. Journal of Neurophysiology, 80(5), 2521–2537. http://doi.org/10.1152/jn.1998.80.5.2521\n",
    "\n",
    "#### Jahr & Stevens\n",
    "Jahr, C. E., & Stevens, C. F. (1990). A quantitative description of NMDA receptor-channel kinetic behavior. The Journal of Neuroscience, 10(6), 1830–1837.\n",
    "\n",
    "Jahr, C. E., & Stevens, C. F. (1990). Voltage dependence of NMDA-activated macroscopic conductances predicted by single-channel kinetics. The Journal of Neuroscience, 10(9), 3178–3182. http://doi.org/10.1523/JNEUROSCI.10-09-03178.1990\n",
    "\n",
    "#### Harnett\n",
    "Harnett, M. T., Makara, J. K., Spruston, N., Kath, W. L., & Magee, J. C. (2012). Synaptic amplification by dendritic spines enhances input cooperativity. Nature, 491(7425), 599–602. http://doi.org/10.1038/nature11554\n",
    "\n",
    "There is a mistake in the definition of the Mg removal function: the units of the expression found in the paper are incorrect. The correct function is the one found here and is actually also found in the second of Jahr & Stevens's papers (equation 5)."
   ]
  },
  {
   "cell_type": "code",
   "execution_count": null,
   "metadata": {},
   "outputs": [],
   "source": [
    "extMgConc = 1\n",
    "alpha_vspom = -0.062\n",
    "v0_block = 10\n",
    "eta = 0.2801\n",
    "mg_maex_orig = lambda v: 1. / (1. + eta * extMgConc * np.exp(alpha_vspom * (v - v0_block)))\n",
    "\n",
    "extMgConc2 = extMgConc\n",
    "alpha_vspom2 = alpha_vspom * 2\n",
    "v0_block2 = v0_block - 20\n",
    "eta2 = eta * 0.1\n",
    "mg_maex_mod = lambda v: 1. / (1. + eta2 * extMgConc2 * np.exp(alpha_vspom2 * (v - v0_block2)))\n",
    "\n",
    "v = np.arange(-100, 50)\n",
    "mg_harnett = lambda v: 1. / (1. + (extMgConc / 3.57) * np.exp(-0.062 * v))\n",
    "\n",
    "mg_jahr_stevens_orig = lambda v: 1. / (1 + (extMgConc / 9.888) * np.exp(0.09137 * (2.222 - v)))\n",
    "\n",
    "Kd    = 9.888   # (mM)\n",
    "gamma = 0.09137 * 1.2 # (mV^-1)\n",
    "sh = -15 + 2.222  # (mV)\n",
    "mg_jahr_stevens_mod = lambda v: 1. / (1 + (extMgConc / Kd) * np.exp(gamma * (sh - v)))\n",
    "\n",
    "plt.figure(figsize=(8,4))\n",
    "plt.plot(v, mg_harnett(v), 'k--', lw=3, label='Harnett')\n",
    "plt.plot(v, mg_maex_orig(v), color=[0,.5,0], label='Original Maex & De Schutter')\n",
    "plt.plot(v, mg_maex_mod(v), color=[.5,1,.5], label='Modified Maex & De Schutter')\n",
    "plt.plot(v, mg_jahr_stevens_orig(v), color=[.65,0,0], label='Original Jahr & Stevens')\n",
    "plt.plot(v, mg_jahr_stevens_mod(v), color=[1,.5,.5], label='Modified Jahr & Stevens')\n",
    "plt.xlabel('Voltage (mV)')\n",
    "plt.ylabel('Mg unblock')\n",
    "plt.legend(loc='best');"
   ]
  },
  {
   "cell_type": "markdown",
   "metadata": {},
   "source": [
    "### General parameters"
   ]
  },
  {
   "cell_type": "code",
   "execution_count": null,
   "metadata": {},
   "outputs": [],
   "source": [
    "cell_type = 'thorny'\n",
    "optimization_folder = '/Users/daniele/Postdoc/Research/Janelia/01_model_optimization/'\n",
    "\n",
    "if cell_type == 'thorny':\n",
    "    base_folder = optimization_folder + 'Thorny/DH070813/20191208071008_DH070813_/'\n",
    "    swc_file = 'DH070813-.Edit.scaled.converted.swc'\n",
    "    cell_name = 'DH070813_'\n",
    "    individual = 1\n",
    "else:\n",
    "    base_folder = optimization_folder + 'A-thorny/DH070213C3/20191206232623_DH070213C3_/'\n",
    "    swc_file = 'DH070213C3-.Edit.scaled.converted.swc'\n",
    "    cell_name = 'DH070213C3_'\n",
    "    individual = 0\n",
    "    \n",
    "swc_file = base_folder + swc_file\n",
    "params_file = base_folder + 'individual_{}.json'.format(individual)\n",
    "config_file = base_folder + 'parameters.json'\n",
    "\n",
    "passive = True\n",
    "with_TTX = False\n",
    "replace_axon = True\n",
    "add_axon_if_missing = True\n",
    "parameters = json.load(open(params_file, 'r'))\n",
    "mechanisms = utils.extract_mechanisms(config_file, cell_name)\n",
    "sim_pars = pickle.load(open(base_folder + 'simulation_parameters.pkl','rb'))\n",
    "replace_axon = sim_pars['replace_axon']\n",
    "add_axon_if_missing = not sim_pars['no_add_axon']"
   ]
  },
  {
   "cell_type": "markdown",
   "metadata": {},
   "source": [
    "### Instantiate the cell"
   ]
  },
  {
   "cell_type": "code",
   "execution_count": null,
   "metadata": {},
   "outputs": [],
   "source": [
    "cell = Cell('CA3_cell_%d' % int(np.random.uniform()*1e5), swc_file, parameters, mechanisms)\n",
    "cell.instantiate(replace_axon, add_axon_if_missing, force_passive=passive, TTX=with_TTX)\n",
    "if cell_type == 'thorny':\n",
    "    section_num = 14\n",
    "    section = cell.morpho.apic[section_num]\n",
    "    Ra = section.Ra * 1.5\n",
    "else:\n",
    "    section_num = 16\n",
    "    section = cell.morpho.apic[section_num]\n",
    "    Ra = section.Ra\n",
    "print('Branch order of section {}: {}.'.format(section.name(), branch_order(section)))"
   ]
  },
  {
   "cell_type": "markdown",
   "metadata": {},
   "source": [
    "### Instantiate the spines"
   ]
  },
  {
   "cell_type": "code",
   "execution_count": null,
   "metadata": {
    "scrolled": true
   },
   "outputs": [],
   "source": [
    "# in the Harnett paper, the head is spherical with a diameter of 0.5 um: a cylinder\n",
    "# with diameter and length equal to 0.5 has the same (outer) surface area as the sphere\n",
    "head_L = 0.5         # [um]\n",
    "head_diam = 0.5      # [um]\n",
    "neck_L = 1.58        # [um]\n",
    "if cell_type == 'thorny':\n",
    "    neck_diam = 0.05     # [um]\n",
    "else:\n",
    "    neck_diam = 0.077\n",
    "spine_distance = 5   # [um] distance between neighboring spines\n",
    "n_spines = 9\n",
    "L = spine_distance * (n_spines - 1)\n",
    "norm_L = L / section.L\n",
    "if section_num == 0:\n",
    "    spines = [Spine(section, x, head_L, head_diam, neck_L, neck_diam, Ra, i) \\\n",
    "              for i,x in enumerate(np.linspace(0.5 - norm_L/2, 0.5 + norm_L/2, n_spines))]\n",
    "else:\n",
    "    spines = [Spine(section, x, head_L, head_diam, neck_L, neck_diam, Ra, i) \\\n",
    "              for i,x in enumerate(np.linspace(0.2 - norm_L/2, 0.2 + norm_L/2, n_spines))]\n",
    "\n",
    "for spine in spines:\n",
    "    spine.instantiate()"
   ]
  },
  {
   "cell_type": "markdown",
   "metadata": {},
   "source": [
    "#### Check the location of the spines in terms of distinct segments"
   ]
  },
  {
   "cell_type": "code",
   "execution_count": null,
   "metadata": {},
   "outputs": [],
   "source": [
    "segments = [section(spines[0]._sec_x)]\n",
    "segments_idx = [[0]]\n",
    "for i,spine in enumerate(spines[1:]):\n",
    "    if section(spine._sec_x) == segments[-1]:\n",
    "        segments_idx[-1].append(i+1)\n",
    "    else:\n",
    "        segments.append(section(spine._sec_x))\n",
    "        segments_idx.append([i+1])\n",
    "if len(segments_idx) == 1:\n",
    "    print('All spines are connected to the same segment.')\n",
    "elif len(segments_idx) == n_spines:\n",
    "    print('Each spine is connected to a different segment on the dendritic branch.')\n",
    "else:\n",
    "    for group in segments_idx:\n",
    "        if len(group) > 1:\n",
    "            print('Spines {} are connected to the same segment.'.format(group))\n",
    "        else:\n",
    "            print('Spine {} is connected to a distinct segment.'.format(group[0]))"
   ]
  },
  {
   "cell_type": "markdown",
   "metadata": {},
   "source": [
    "#### Show where the spines are located on the dendritic tree"
   ]
  },
  {
   "cell_type": "code",
   "execution_count": null,
   "metadata": {},
   "outputs": [],
   "source": [
    "plt.figure(figsize=(10,10))\n",
    "for sec in chain(cell.morpho.apic, cell.morpho.basal):\n",
    "    if sec in cell.morpho.apic:\n",
    "        color = 'k'\n",
    "    else:\n",
    "        color = 'b'\n",
    "    lbl = sec.name().split('.')[1].split('[')[1][:-1]\n",
    "    n = sec.n3d()\n",
    "    sec_coords = np.zeros((n,2))\n",
    "    for i in range(n):\n",
    "        sec_coords[i,:] = np.array([sec.x3d(i), sec.y3d(i)])\n",
    "    middle = int(n / 2)\n",
    "    plt.text(sec_coords[middle,0], sec_coords[middle,1], lbl, \\\n",
    "             fontsize=14, color='m')\n",
    "    plt.plot(sec_coords[:,0], sec_coords[:,1], color, lw=1)\n",
    "for spine in spines:\n",
    "    plt.plot(spine._points[:,0], spine._points[:,1], 'r.')\n",
    "plt.axis('equal');"
   ]
  },
  {
   "cell_type": "markdown",
   "metadata": {},
   "source": [
    "### Insert a synapse into each spine"
   ]
  },
  {
   "cell_type": "code",
   "execution_count": null,
   "metadata": {},
   "outputs": [],
   "source": [
    "MG_MODELS = {'MDS': 1, 'HRN': 2, 'JS': 3}\n",
    "Mg_unblock_model = 'JS'\n",
    "\n",
    "E = 0        # [mV]\n",
    "\n",
    "if cell_type == 'thorny':\n",
    "    weights = np.array([0.0001, 0.0006])  # AMPA and NMDA weights\n",
    "    AMPA_taus = {'tau1': 0.1, 'tau2':   1.0}\n",
    "    NMDA_taus = {'tau1': 1.0, 'tau2':  50.0}\n",
    "else:\n",
    "    weights = np.array([0.0004, 0.0008])  # AMPA and NMDA weights\n",
    "    AMPA_taus = {'tau1': 0.1, 'tau2':   1.0}\n",
    "    NMDA_taus = {'tau1': 1.0, 'tau2': 100.0}\n",
    "\n",
    "print('AMPA:')\n",
    "print('    tau_rise = {:.3f} ms'.format(AMPA_taus['tau1']))\n",
    "print('   tau_decay = {:.3f} ms'.format(AMPA_taus['tau2']))\n",
    "print('NMDA:')\n",
    "print('    tau_rise = {:.3f} ms'.format(NMDA_taus['tau1']))\n",
    "print('   tau_decay = {:.3f} ms'.format(NMDA_taus['tau2']))\n",
    "\n",
    "synapses = [AMPANMDAExp2Synapse(spine.head, 1, E, weights, AMPA = AMPA_taus, \\\n",
    "                                NMDA = NMDA_taus) for spine in spines]\n",
    "\n",
    "for syn in synapses:\n",
    "    syn.nmda_syn.mg_unblock_model = MG_MODELS[Mg_unblock_model]\n",
    "    if Mg_unblock_model == 'MDS':\n",
    "        syn.nmda_syn.alpha_vspom = alpha_vspom2\n",
    "        syn.nmda_syn.v0_block = v0_block2\n",
    "        syn.nmda_syn.eta = eta2\n",
    "    elif Mg_unblock_model == 'JS':\n",
    "        syn.nmda_syn.gamma = gamma\n",
    "        syn.nmda_syn.sh = sh\n",
    "\n",
    "if Mg_unblock_model == 'MDS':\n",
    "    print('\\nUsing Maex & De Schutter Mg unblock model. Modified parameters:')\n",
    "    print('       alpha = {:.3f} 1/mV'.format(synapses[0].nmda_syn.alpha_vspom))\n",
    "    print('    v0_block = {:.3f} mV'.format(synapses[0].nmda_syn.v0_block))\n",
    "    print('         eta = {:.3f}'.format(synapses[0].nmda_syn.eta))\n",
    "elif Mg_unblock_model == 'JS':\n",
    "    print('\\nUsing Jahr & Stevens Mg unblock model. Modified parameters:')\n",
    "    print('       gamma = {:.3f} 1/mV'.format(synapses[0].nmda_syn.gamma))\n",
    "    print('          sh = {:.3f} mV'.format(synapses[0].nmda_syn.sh))\n",
    "elif Mg_unblock_model == 'HRN':\n",
    "    print('\\nUsing Harnett Mg unblock model with default parameters.')"
   ]
  },
  {
   "cell_type": "markdown",
   "metadata": {},
   "source": [
    "#### Compute the presynaptic spike times"
   ]
  },
  {
   "cell_type": "code",
   "execution_count": null,
   "metadata": {},
   "outputs": [],
   "source": [
    "t0 = 1000.\n",
    "dt = 1000.\n",
    "spike_times = [np.sort(t0 + (n_spines - 1) * dt - np.arange(i) * dt) for i in range(n_spines, 0, -1)]\n",
    "poisson = False\n",
    "sequential = True\n",
    "if sequential:\n",
    "    for i in range(n_spines):\n",
    "        for j in range(n_spines-i):\n",
    "            spike_times[i][j] += i * 0.3\n",
    "elif poisson:\n",
    "    # frequency of the incoming spikes\n",
    "    F = 1 / 0.3e-3\n",
    "    for i in range(n_spines):\n",
    "        ISI = - np.log(np.random.uniform(size=n_spines*2)) / F\n",
    "        spks = np.cumsum(ISI)\n",
    "        for j in range(n_spines - i):\n",
    "            spike_times[j][i] += spks[j]\n",
    "\n",
    "for syn, spks in zip(synapses, spike_times):\n",
    "    syn.set_presynaptic_spike_times(spks)"
   ]
  },
  {
   "cell_type": "code",
   "execution_count": null,
   "metadata": {},
   "outputs": [],
   "source": [
    "spike_times"
   ]
  },
  {
   "cell_type": "markdown",
   "metadata": {},
   "source": [
    "#### Make the recorders"
   ]
  },
  {
   "cell_type": "code",
   "execution_count": null,
   "metadata": {},
   "outputs": [],
   "source": [
    "rec = {}\n",
    "for lbl in 't','Vsoma':\n",
    "    rec[lbl] = h.Vector()\n",
    "rec['t'].record(h._ref_t)\n",
    "rec['Vsoma'].record(cell.morpho.soma[0](0.5)._ref_v)\n",
    "for i,spine in enumerate(spines):\n",
    "    rec['Vdend-{}'.format(i)] = h.Vector()\n",
    "    rec['Vspine-{}'.format(i)] = h.Vector()\n",
    "    rec['IAMPA-{}'.format(i)] = h.Vector()\n",
    "    rec['gAMPA-{}'.format(i)] = h.Vector()\n",
    "    rec['INMDA-{}'.format(i)] = h.Vector()\n",
    "    rec['gNMDA-{}'.format(i)] = h.Vector()\n",
    "    rec['MgBlock-{}'.format(i)] = h.Vector()\n",
    "    rec['Vdend-{}'.format(i)].record(spine._sec(spine._sec_x)._ref_v)\n",
    "    rec['Vspine-{}'.format(i)].record(spine.head(0.5)._ref_v)\n",
    "    rec['IAMPA-{}'.format(i)].record(synapses[i].syn[0]._ref_i)\n",
    "    rec['gAMPA-{}'.format(i)].record(synapses[i].syn[0]._ref_g)\n",
    "    rec['INMDA-{}'.format(i)].record(synapses[i].syn[1]._ref_i)\n",
    "    rec['gNMDA-{}'.format(i)].record(synapses[i].syn[1]._ref_g)\n",
    "    rec['MgBlock-{}'.format(i)].record(synapses[i].syn[1]._ref_mgBlock)"
   ]
  },
  {
   "cell_type": "markdown",
   "metadata": {},
   "source": [
    "#### Run the simulation"
   ]
  },
  {
   "cell_type": "code",
   "execution_count": null,
   "metadata": {},
   "outputs": [],
   "source": [
    "h.cvode_active(1)\n",
    "h.tstop = t0 + n_spines * dt\n",
    "h.run()"
   ]
  },
  {
   "cell_type": "markdown",
   "metadata": {},
   "source": [
    "#### Get the data from the recorders"
   ]
  },
  {
   "cell_type": "code",
   "execution_count": null,
   "metadata": {},
   "outputs": [],
   "source": [
    "t = np.array(rec['t'])\n",
    "iampa = np.array([np.array(rec['IAMPA-{}'.format(i)])*1e3 for i in range(n_spines)])\n",
    "inmda = np.array([np.array(rec['INMDA-{}'.format(i)])*1e3 for i in range(n_spines)])\n",
    "gampa = np.array([np.array(rec['gAMPA-{}'.format(i)])*1e3 for i in range(n_spines)])\n",
    "gnmda = np.array([np.array(rec['gNMDA-{}'.format(i)])*1e3 for i in range(n_spines)])\n",
    "MgBlock = np.array([np.array(rec['MgBlock-{}'.format(i)])for i in range(n_spines)])\n",
    "Vspine = np.array([np.array(rec['Vspine-{}'.format(i)]) for i in range(n_spines)])\n",
    "Vdend = np.array([np.array(rec['Vdend-{}'.format(i)]) for i in range(n_spines)])"
   ]
  },
  {
   "cell_type": "markdown",
   "metadata": {},
   "source": [
    "#### Measure the amplitude ratio when the input is synaptic"
   ]
  },
  {
   "cell_type": "code",
   "execution_count": null,
   "metadata": {},
   "outputs": [],
   "source": [
    "idx, = np.where((t > 990) & (t < 1200))\n",
    "EPSP_spine = np.max(Vspine[0,idx]) - Vspine[0,-1]\n",
    "EPSP_dend = np.max(Vdend[0,idx]) - Vdend[0,-1]\n",
    "AR = EPSP_spine / EPSP_dend\n",
    "print('AR = {:.3f}'.format(AR))\n",
    "plt.plot(t[idx], Vspine[0,idx], 'k', label='Spine')\n",
    "plt.plot(t[idx], Vdend[0,idx], 'r', label='Dendrite')\n",
    "plt.xlabel('Time (ms)')\n",
    "plt.ylabel('Vm (mV)')\n",
    "plt.legend(loc='best');"
   ]
  },
  {
   "cell_type": "markdown",
   "metadata": {},
   "source": [
    "#### Measure the dendritic EPSPs and the NMDA conductance values"
   ]
  },
  {
   "cell_type": "code",
   "execution_count": null,
   "metadata": {},
   "outputs": [],
   "source": [
    "V_pks = np.zeros(n_spines)\n",
    "dG = np.zeros(n_spines)\n",
    "for i,spk in enumerate(spike_times[0]):\n",
    "    idx = (t > spk) & (t < spk + 200)\n",
    "    V_pks[i] = np.max(Vdend[0,idx])\n",
    "    dG[i] = np.max(gnmda[0,idx] * MgBlock[0,idx])\n",
    "dV = V_pks - Vdend[0,-1]"
   ]
  },
  {
   "cell_type": "markdown",
   "metadata": {},
   "source": [
    "#### Plot the time course of the dendritic EPSPs and the NMDA conductance for increasing number of synaptic inputs"
   ]
  },
  {
   "cell_type": "code",
   "execution_count": null,
   "metadata": {},
   "outputs": [],
   "source": [
    "window = [50, 100]\n",
    "fig,(ax1,ax2) = plt.subplots(1, 2, figsize=(12,5), sharex=True)\n",
    "for spk in spike_times[0]:\n",
    "    idx = (t > spk - window[0]) & (t < spk + window[1])\n",
    "    ax1.plot(t[idx] - spk, Vdend[0,idx], 'k')\n",
    "    ax2.plot(t[idx] - spk, gnmda[0,idx] * MgBlock[0,idx], 'k')\n",
    "ax1.set_xlabel('Time (ms)')\n",
    "ax1.set_ylabel('Dendritic voltage (mV)')\n",
    "ax2.set_xlabel('Time (ms)')\n",
    "ax2.set_ylabel('NMDA conductance (nS)');"
   ]
  },
  {
   "cell_type": "markdown",
   "metadata": {},
   "source": [
    "#### Plot the time course of the EPSP at each spine for increasing number of synaptic inputs"
   ]
  },
  {
   "cell_type": "code",
   "execution_count": null,
   "metadata": {},
   "outputs": [],
   "source": [
    "cmap = plt.get_cmap('rainbow', n_spines)\n",
    "window = [50, 100]\n",
    "fig,ax = plt.subplots(3, 3, figsize=(14,10), sharex=True)\n",
    "for n,spk in enumerate(spike_times[0]):\n",
    "    idx = (t > spk - window[0]) & (t < spk + window[1])\n",
    "    for i in range(3):\n",
    "        for j in range(3):\n",
    "            k = i*3 + j\n",
    "            lbl = '{} input'.format(n+1) if n == 0 else '{} inputs'.format(n+1)\n",
    "            ax[i,j].plot(t[idx] - spk, Vspine[k, idx], color=cmap(n), label=lbl)\n",
    "            ax[i,j].set_title('Spine #{}'.format(k+1))\n",
    "        ax[i,0].set_ylabel('Spine head voltage (mV)')\n",
    "        ax[2,i].set_xlabel('Time (ms)')\n",
    "ax[0,0].legend(loc='best');"
   ]
  },
  {
   "cell_type": "markdown",
   "metadata": {},
   "source": [
    "#### Plot the time course of the NMDA conductance in each spine for increasing number of synaptic inputs"
   ]
  },
  {
   "cell_type": "code",
   "execution_count": null,
   "metadata": {},
   "outputs": [],
   "source": [
    "cmap = plt.get_cmap('rainbow', n_spines)\n",
    "window = [50, 100]\n",
    "fig,ax = plt.subplots(3, 3, figsize=(14,10), sharex=True)\n",
    "for n,spk in enumerate(spike_times[0]):\n",
    "    idx = (t > spk - window[0]) & (t < spk + window[1])\n",
    "    for i in range(3):\n",
    "        for j in range(3):\n",
    "            k = i*3 + j\n",
    "            lbl = '{} input'.format(n+1) if n == 0 else '{} inputs'.format(n+1)\n",
    "            ax[i,j].plot(t[idx] - spk, gnmda[k, idx] * MgBlock[k, idx], color=cmap(n), label=lbl)\n",
    "            ax[i,j].set_title('Spine #{}'.format(k+1))\n",
    "        ax[i,0].set_ylabel('NMDA conductance (nS)')\n",
    "        ax[2,i].set_xlabel('Time (ms)')\n",
    "ax[0,0].legend(loc='best');"
   ]
  },
  {
   "cell_type": "markdown",
   "metadata": {},
   "source": [
    "#### Plot the amplitude of the dendritic EPSPs and of the NMDA conductance as a function of the number of synaptic inputs"
   ]
  },
  {
   "cell_type": "code",
   "execution_count": null,
   "metadata": {},
   "outputs": [],
   "source": [
    "n = 1 + np.arange(n_spines)\n",
    "fig,(ax1,ax2) = plt.subplots(1, 2, figsize=(12,5), sharex=True)\n",
    "ax1.plot(n, n * dV[0], 'rv-', lw=1, markerfacecolor='w', markersize=8, label='Linear prediction')\n",
    "ax1.plot(n, dV, 'ko-', lw=1, markerfacecolor='w', markersize=7, label='Measured')\n",
    "ax2.plot(n, dG, 'ko-', lw=1, markerfacecolor='w', markersize=7, label='Measured')\n",
    "ax1.set_xlabel('Input number')\n",
    "ax1.set_ylabel('Dendrite EPSP (mV)')\n",
    "ax2.set_xlabel('Input number')\n",
    "ax2.set_ylabel('NMDA conductance (nS)')\n",
    "ax1.legend(loc='best')\n",
    "ax1.set_ylim([0, np.max([dV[-1], dV[0]*n_spines]) * 1.1])\n",
    "ax2.set_ylim([dG[0] - 0.1, dG[-1] + 0.1]);"
   ]
  }
 ],
 "metadata": {
  "kernelspec": {
   "display_name": "Python 3",
   "language": "python",
   "name": "python3"
  },
  "language_info": {
   "codemirror_mode": {
    "name": "ipython",
    "version": 3
   },
   "file_extension": ".py",
   "mimetype": "text/x-python",
   "name": "python",
   "nbconvert_exporter": "python",
   "pygments_lexer": "ipython3",
   "version": "3.7.7"
  }
 },
 "nbformat": 4,
 "nbformat_minor": 2
}
