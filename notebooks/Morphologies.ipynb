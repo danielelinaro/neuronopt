{
 "cells": [
  {
   "cell_type": "code",
   "execution_count": null,
   "metadata": {},
   "outputs": [],
   "source": [
    "import numpy as np\n",
    "import matplotlib.pyplot as plt"
   ]
  },
  {
   "cell_type": "code",
   "execution_count": null,
   "metadata": {},
   "outputs": [],
   "source": [
    "def plot_morphology(swc_file,dst_func='y-coord',ax=None,max_no_points=np.inf):\n",
    "    morpho = np.loadtxt(swc_file)\n",
    "    npoints = int(np.min([max_no_points,morpho.shape[0]]))\n",
    "    pt_id = np.array(map(int,morpho[:,0]))\n",
    "    pt_type = morpho[:,1]\n",
    "    xyz = morpho[:,2:5]\n",
    "    radius = morpho[:,5]\n",
    "    parent_id = np.array(map(int,morpho[:,-1]))\n",
    "    if dst_func == 'y-coord':\n",
    "        dst = np.abs(xyz[:,1])\n",
    "    elif dst_func == 'euclidean':\n",
    "        dst = np.sqrt(np.sum(xyz**2,axis=1))\n",
    "    else:\n",
    "        raise('Unknown distance \"%s\"' % dst_func)\n",
    "    max_dst = np.ceil(np.max(dst))\n",
    "    cmap = plt.get_cmap('jet',int(max_dst))\n",
    "    if ax is None:\n",
    "        fig = plt.figure()\n",
    "        ax = fig.gca()\n",
    "    for i in range(1,npoints):\n",
    "        idx, = np.where(pt_id == parent_id[i])\n",
    "        ax.plot(xyz[[i,idx],0],xyz[[i,idx],1],color=cmap(int(dst[i])),lw=morpho[i,5])\n",
    "    return ax"
   ]
  },
  {
   "cell_type": "code",
   "execution_count": null,
   "metadata": {},
   "outputs": [],
   "source": [
    "swc_file = '/Users/daniele/Postdoc/Research/Janelia/morphologies/FINAL/thorny/DH070813-.Edit.scaled.converted.swc'\n",
    "fig = plt.figure(figsize=(6,8))\n",
    "ax = fig.gca()\n",
    "plot_morphology(swc_file,'y-coord',ax)\n",
    "ax.plot(ax.get_xlim(),[0,0],'r--')\n",
    "ax.plot(ax.get_xlim(),[300,300],'r--')\n",
    "plt.axis('equal')\n",
    "plt.show()"
   ]
  },
  {
   "cell_type": "code",
   "execution_count": null,
   "metadata": {},
   "outputs": [],
   "source": [
    "swc_file = '/Users/daniele/Postdoc/Research/Janelia/morphologies/FINAL/a-thorny/DH070613-1-.Edit.scaled.converted.swc'\n",
    "fig = plt.figure(figsize=(6,8))\n",
    "ax = fig.gca()\n",
    "plot_morphology(swc_file,'y-coord',ax)\n",
    "ax.plot(ax.get_xlim(),[0,0],'r--')\n",
    "ax.plot(ax.get_xlim(),[300,300],'r--')\n",
    "plt.axis('equal')\n",
    "plt.show()"
   ]
  }
 ],
 "metadata": {
  "kernelspec": {
   "display_name": "Python 3",
   "language": "python",
   "name": "python3"
  },
  "language_info": {
   "codemirror_mode": {
    "name": "ipython",
    "version": 3
   },
   "file_extension": ".py",
   "mimetype": "text/x-python",
   "name": "python",
   "nbconvert_exporter": "python",
   "pygments_lexer": "ipython3",
   "version": "3.7.2"
  }
 },
 "nbformat": 4,
 "nbformat_minor": 2
}
